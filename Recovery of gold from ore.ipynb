{
 "cells": [
  {
   "cell_type": "markdown",
   "metadata": {
    "toc": true
   },
   "source": [
    "<h1>Содержание<span class=\"tocSkip\"></span></h1>\n",
    "<div class=\"toc\"><ul class=\"toc-item\"><li><span><a href=\"#Подготовка-данных\" data-toc-modified-id=\"Подготовка-данных-1\"><span class=\"toc-item-num\">1&nbsp;&nbsp;</span>Подготовка данных</a></span><ul class=\"toc-item\"><li><span><a href=\"#gold_recovery_train\" data-toc-modified-id=\"gold_recovery_train-1.1\"><span class=\"toc-item-num\">1.1&nbsp;&nbsp;</span>gold_recovery_train</a></span></li><li><span><a href=\"#gold_recovery_test\" data-toc-modified-id=\"gold_recovery_test-1.2\"><span class=\"toc-item-num\">1.2&nbsp;&nbsp;</span>gold_recovery_test</a></span></li><li><span><a href=\"#gold_recovery_full\" data-toc-modified-id=\"gold_recovery_full-1.3\"><span class=\"toc-item-num\">1.3&nbsp;&nbsp;</span>gold_recovery_full</a></span></li><li><span><a href=\"#Вывод\" data-toc-modified-id=\"Вывод-1.4\"><span class=\"toc-item-num\">1.4&nbsp;&nbsp;</span>Вывод</a></span></li></ul></li><li><span><a href=\"#Анализ-данных\" data-toc-modified-id=\"Анализ-данных-2\"><span class=\"toc-item-num\">2&nbsp;&nbsp;</span>Анализ данных</a></span><ul class=\"toc-item\"><li><span><a href=\"#Распределение-концентрации-металлов-на-различных-ступенях-обработки\" data-toc-modified-id=\"Распределение-концентрации-металлов-на-различных-ступенях-обработки-2.1\"><span class=\"toc-item-num\">2.1&nbsp;&nbsp;</span>Распределение концентрации металлов на различных ступенях обработки</a></span></li><li><span><a href=\"#Распределения-гранул-сырья\" data-toc-modified-id=\"Распределения-гранул-сырья-2.2\"><span class=\"toc-item-num\">2.2&nbsp;&nbsp;</span>Распределения гранул сырья</a></span></li><li><span><a href=\"#Суммарная-концентрация-всех-веществ-на-разных-этапах-очистки\" data-toc-modified-id=\"Суммарная-концентрация-всех-веществ-на-разных-этапах-очистки-2.3\"><span class=\"toc-item-num\">2.3&nbsp;&nbsp;</span>Суммарная концентрация всех веществ на разных этапах очистки</a></span></li></ul></li><li><span><a href=\"#Модель\" data-toc-modified-id=\"Модель-3\"><span class=\"toc-item-num\">3&nbsp;&nbsp;</span>Модель</a></span><ul class=\"toc-item\"><li><span><a href=\"#Функция-smape\" data-toc-modified-id=\"Функция-smape-3.1\"><span class=\"toc-item-num\">3.1&nbsp;&nbsp;</span>Функция smape</a></span></li><li><span><a href=\"#Линейная-регрессия\" data-toc-modified-id=\"Линейная-регрессия-3.2\"><span class=\"toc-item-num\">3.2&nbsp;&nbsp;</span>Линейная регрессия</a></span></li><li><span><a href=\"#Дерево-решений\" data-toc-modified-id=\"Дерево-решений-3.3\"><span class=\"toc-item-num\">3.3&nbsp;&nbsp;</span>Дерево решений</a></span></li><li><span><a href=\"#Случайный-лес\" data-toc-modified-id=\"Случайный-лес-3.4\"><span class=\"toc-item-num\">3.4&nbsp;&nbsp;</span>Случайный лес</a></span></li><li><span><a href=\"#Тестовая-выборка\" data-toc-modified-id=\"Тестовая-выборка-3.5\"><span class=\"toc-item-num\">3.5&nbsp;&nbsp;</span>Тестовая выборка</a></span></li><li><span><a href=\"#Константная-модель\" data-toc-modified-id=\"Константная-модель-3.6\"><span class=\"toc-item-num\">3.6&nbsp;&nbsp;</span>Константная модель</a></span></li></ul></li><li><span><a href=\"#Чек-лист-готовности-проекта\" data-toc-modified-id=\"Чек-лист-готовности-проекта-4\"><span class=\"toc-item-num\">4&nbsp;&nbsp;</span>Чек-лист готовности проекта</a></span></li></ul></div>"
   ]
  },
  {
   "cell_type": "markdown",
   "metadata": {},
   "source": [
    "# Восстановление золота из руды"
   ]
  },
  {
   "cell_type": "markdown",
   "metadata": {},
   "source": [
    "Подготовьте прототип модели машинного обучения для «Цифры». Компания разрабатывает решения для эффективной работы промышленных предприятий.\n",
    "\n",
    "Модель должна предсказать коэффициент восстановления золота из золотосодержащей руды. Используйте данные с параметрами добычи и очистки. \n",
    "\n",
    "Модель поможет оптимизировать производство, чтобы не запускать предприятие с убыточными характеристиками.\n",
    "\n",
    "Вам нужно:\n",
    "\n",
    "1. Подготовить данные;\n",
    "2. Провести исследовательский анализ данных;\n",
    "3. Построить и обучить модель.\n",
    "\n",
    "Чтобы выполнить проект, обращайтесь к библиотекам *pandas*, *matplotlib* и *sklearn.* Вам поможет их документация."
   ]
  },
  {
   "cell_type": "markdown",
   "metadata": {},
   "source": [
    "## Подготовка данных"
   ]
  },
  {
   "cell_type": "code",
   "execution_count": 1,
   "metadata": {},
   "outputs": [],
   "source": [
    "import pandas as pd \n",
    "import numpy as np\n",
    "import seaborn as sns\n",
    "import matplotlib.pyplot as plt\n",
    "import time\n",
    "import warnings\n",
    "warnings.filterwarnings('ignore')\n",
    "\n",
    "from sklearn.model_selection import cross_val_score, GridSearchCV\n",
    "from sklearn.linear_model import LinearRegression\n",
    "from sklearn.ensemble import RandomForestRegressor\n",
    "from sklearn.tree import DecisionTreeRegressor\n",
    "from sklearn.metrics import mean_absolute_error\n",
    "from sklearn.metrics import make_scorer\n",
    "from sklearn.dummy import DummyRegressor"
   ]
  },
  {
   "cell_type": "code",
   "execution_count": 2,
   "metadata": {},
   "outputs": [],
   "source": [
    "gold_recovery_train = pd.read_csv('/datasets/gold_recovery_train_new.csv')\n",
    "gold_recovery_test = pd.read_csv('/datasets/gold_recovery_test_new.csv')\n",
    "gold_recovery_full = pd.read_csv('/datasets/gold_recovery_full_new.csv')"
   ]
  },
  {
   "cell_type": "code",
   "execution_count": 3,
   "metadata": {},
   "outputs": [],
   "source": [
    "gold_recovery_train = gold_recovery_train.set_index('date')\n",
    "gold_recovery_test = gold_recovery_test.set_index('date')\n",
    "gold_recovery_full = gold_recovery_full.set_index('date')"
   ]
  },
  {
   "cell_type": "code",
   "execution_count": 4,
   "metadata": {},
   "outputs": [],
   "source": [
    "gold_recovery_test_merged = gold_recovery_test.merge(gold_recovery_full[['rougher.output.recovery',\n",
    "                                                                         'final.output.recovery']].loc[gold_recovery_test.index], \n",
    "                                                             on='date', how='left')"
   ]
  },
  {
   "cell_type": "markdown",
   "metadata": {},
   "source": [
    "### gold_recovery_train"
   ]
  },
  {
   "cell_type": "code",
   "execution_count": 5,
   "metadata": {},
   "outputs": [
    {
     "data": {
      "text/html": [
       "<div>\n",
       "<style scoped>\n",
       "    .dataframe tbody tr th:only-of-type {\n",
       "        vertical-align: middle;\n",
       "    }\n",
       "\n",
       "    .dataframe tbody tr th {\n",
       "        vertical-align: top;\n",
       "    }\n",
       "\n",
       "    .dataframe thead th {\n",
       "        text-align: right;\n",
       "    }\n",
       "</style>\n",
       "<table border=\"1\" class=\"dataframe\">\n",
       "  <thead>\n",
       "    <tr style=\"text-align: right;\">\n",
       "      <th></th>\n",
       "      <th>final.output.concentrate_ag</th>\n",
       "      <th>final.output.concentrate_pb</th>\n",
       "      <th>final.output.concentrate_sol</th>\n",
       "      <th>final.output.concentrate_au</th>\n",
       "      <th>final.output.recovery</th>\n",
       "      <th>final.output.tail_ag</th>\n",
       "      <th>final.output.tail_pb</th>\n",
       "      <th>final.output.tail_sol</th>\n",
       "      <th>final.output.tail_au</th>\n",
       "      <th>primary_cleaner.input.sulfate</th>\n",
       "      <th>...</th>\n",
       "      <th>secondary_cleaner.state.floatbank4_a_air</th>\n",
       "      <th>secondary_cleaner.state.floatbank4_a_level</th>\n",
       "      <th>secondary_cleaner.state.floatbank4_b_air</th>\n",
       "      <th>secondary_cleaner.state.floatbank4_b_level</th>\n",
       "      <th>secondary_cleaner.state.floatbank5_a_air</th>\n",
       "      <th>secondary_cleaner.state.floatbank5_a_level</th>\n",
       "      <th>secondary_cleaner.state.floatbank5_b_air</th>\n",
       "      <th>secondary_cleaner.state.floatbank5_b_level</th>\n",
       "      <th>secondary_cleaner.state.floatbank6_a_air</th>\n",
       "      <th>secondary_cleaner.state.floatbank6_a_level</th>\n",
       "    </tr>\n",
       "    <tr>\n",
       "      <th>date</th>\n",
       "      <th></th>\n",
       "      <th></th>\n",
       "      <th></th>\n",
       "      <th></th>\n",
       "      <th></th>\n",
       "      <th></th>\n",
       "      <th></th>\n",
       "      <th></th>\n",
       "      <th></th>\n",
       "      <th></th>\n",
       "      <th></th>\n",
       "      <th></th>\n",
       "      <th></th>\n",
       "      <th></th>\n",
       "      <th></th>\n",
       "      <th></th>\n",
       "      <th></th>\n",
       "      <th></th>\n",
       "      <th></th>\n",
       "      <th></th>\n",
       "      <th></th>\n",
       "    </tr>\n",
       "  </thead>\n",
       "  <tbody>\n",
       "    <tr>\n",
       "      <th>2016-01-15 00:00:00</th>\n",
       "      <td>6.055403</td>\n",
       "      <td>9.889648</td>\n",
       "      <td>5.507324</td>\n",
       "      <td>42.192020</td>\n",
       "      <td>70.541216</td>\n",
       "      <td>10.411962</td>\n",
       "      <td>0.895447</td>\n",
       "      <td>16.904297</td>\n",
       "      <td>2.143149</td>\n",
       "      <td>127.092003</td>\n",
       "      <td>...</td>\n",
       "      <td>14.016835</td>\n",
       "      <td>-502.488007</td>\n",
       "      <td>12.099931</td>\n",
       "      <td>-504.715942</td>\n",
       "      <td>9.925633</td>\n",
       "      <td>-498.310211</td>\n",
       "      <td>8.079666</td>\n",
       "      <td>-500.470978</td>\n",
       "      <td>14.151341</td>\n",
       "      <td>-605.841980</td>\n",
       "    </tr>\n",
       "    <tr>\n",
       "      <th>2016-01-15 01:00:00</th>\n",
       "      <td>6.029369</td>\n",
       "      <td>9.968944</td>\n",
       "      <td>5.257781</td>\n",
       "      <td>42.701629</td>\n",
       "      <td>69.266198</td>\n",
       "      <td>10.462676</td>\n",
       "      <td>0.927452</td>\n",
       "      <td>16.634514</td>\n",
       "      <td>2.224930</td>\n",
       "      <td>125.629232</td>\n",
       "      <td>...</td>\n",
       "      <td>13.992281</td>\n",
       "      <td>-505.503262</td>\n",
       "      <td>11.950531</td>\n",
       "      <td>-501.331529</td>\n",
       "      <td>10.039245</td>\n",
       "      <td>-500.169983</td>\n",
       "      <td>7.984757</td>\n",
       "      <td>-500.582168</td>\n",
       "      <td>13.998353</td>\n",
       "      <td>-599.787184</td>\n",
       "    </tr>\n",
       "    <tr>\n",
       "      <th>2016-01-15 02:00:00</th>\n",
       "      <td>6.055926</td>\n",
       "      <td>10.213995</td>\n",
       "      <td>5.383759</td>\n",
       "      <td>42.657501</td>\n",
       "      <td>68.116445</td>\n",
       "      <td>10.507046</td>\n",
       "      <td>0.953716</td>\n",
       "      <td>16.208849</td>\n",
       "      <td>2.257889</td>\n",
       "      <td>123.819808</td>\n",
       "      <td>...</td>\n",
       "      <td>14.015015</td>\n",
       "      <td>-502.520901</td>\n",
       "      <td>11.912783</td>\n",
       "      <td>-501.133383</td>\n",
       "      <td>10.070913</td>\n",
       "      <td>-500.129135</td>\n",
       "      <td>8.013877</td>\n",
       "      <td>-500.517572</td>\n",
       "      <td>14.028663</td>\n",
       "      <td>-601.427363</td>\n",
       "    </tr>\n",
       "    <tr>\n",
       "      <th>2016-01-15 03:00:00</th>\n",
       "      <td>6.047977</td>\n",
       "      <td>9.977019</td>\n",
       "      <td>4.858634</td>\n",
       "      <td>42.689819</td>\n",
       "      <td>68.347543</td>\n",
       "      <td>10.422762</td>\n",
       "      <td>0.883763</td>\n",
       "      <td>16.532835</td>\n",
       "      <td>2.146849</td>\n",
       "      <td>122.270188</td>\n",
       "      <td>...</td>\n",
       "      <td>14.036510</td>\n",
       "      <td>-500.857308</td>\n",
       "      <td>11.999550</td>\n",
       "      <td>-501.193686</td>\n",
       "      <td>9.970366</td>\n",
       "      <td>-499.201640</td>\n",
       "      <td>7.977324</td>\n",
       "      <td>-500.255908</td>\n",
       "      <td>14.005551</td>\n",
       "      <td>-599.996129</td>\n",
       "    </tr>\n",
       "    <tr>\n",
       "      <th>2016-01-15 04:00:00</th>\n",
       "      <td>6.148599</td>\n",
       "      <td>10.142511</td>\n",
       "      <td>4.939416</td>\n",
       "      <td>42.774141</td>\n",
       "      <td>66.927016</td>\n",
       "      <td>10.360302</td>\n",
       "      <td>0.792826</td>\n",
       "      <td>16.525686</td>\n",
       "      <td>2.055292</td>\n",
       "      <td>117.988169</td>\n",
       "      <td>...</td>\n",
       "      <td>14.027298</td>\n",
       "      <td>-499.838632</td>\n",
       "      <td>11.953070</td>\n",
       "      <td>-501.053894</td>\n",
       "      <td>9.925709</td>\n",
       "      <td>-501.686727</td>\n",
       "      <td>7.894242</td>\n",
       "      <td>-500.356035</td>\n",
       "      <td>13.996647</td>\n",
       "      <td>-601.496691</td>\n",
       "    </tr>\n",
       "  </tbody>\n",
       "</table>\n",
       "<p>5 rows × 86 columns</p>\n",
       "</div>"
      ],
      "text/plain": [
       "                     final.output.concentrate_ag  final.output.concentrate_pb  \\\n",
       "date                                                                            \n",
       "2016-01-15 00:00:00                     6.055403                     9.889648   \n",
       "2016-01-15 01:00:00                     6.029369                     9.968944   \n",
       "2016-01-15 02:00:00                     6.055926                    10.213995   \n",
       "2016-01-15 03:00:00                     6.047977                     9.977019   \n",
       "2016-01-15 04:00:00                     6.148599                    10.142511   \n",
       "\n",
       "                     final.output.concentrate_sol  \\\n",
       "date                                                \n",
       "2016-01-15 00:00:00                      5.507324   \n",
       "2016-01-15 01:00:00                      5.257781   \n",
       "2016-01-15 02:00:00                      5.383759   \n",
       "2016-01-15 03:00:00                      4.858634   \n",
       "2016-01-15 04:00:00                      4.939416   \n",
       "\n",
       "                     final.output.concentrate_au  final.output.recovery  \\\n",
       "date                                                                      \n",
       "2016-01-15 00:00:00                    42.192020              70.541216   \n",
       "2016-01-15 01:00:00                    42.701629              69.266198   \n",
       "2016-01-15 02:00:00                    42.657501              68.116445   \n",
       "2016-01-15 03:00:00                    42.689819              68.347543   \n",
       "2016-01-15 04:00:00                    42.774141              66.927016   \n",
       "\n",
       "                     final.output.tail_ag  final.output.tail_pb  \\\n",
       "date                                                              \n",
       "2016-01-15 00:00:00             10.411962              0.895447   \n",
       "2016-01-15 01:00:00             10.462676              0.927452   \n",
       "2016-01-15 02:00:00             10.507046              0.953716   \n",
       "2016-01-15 03:00:00             10.422762              0.883763   \n",
       "2016-01-15 04:00:00             10.360302              0.792826   \n",
       "\n",
       "                     final.output.tail_sol  final.output.tail_au  \\\n",
       "date                                                               \n",
       "2016-01-15 00:00:00              16.904297              2.143149   \n",
       "2016-01-15 01:00:00              16.634514              2.224930   \n",
       "2016-01-15 02:00:00              16.208849              2.257889   \n",
       "2016-01-15 03:00:00              16.532835              2.146849   \n",
       "2016-01-15 04:00:00              16.525686              2.055292   \n",
       "\n",
       "                     primary_cleaner.input.sulfate  ...  \\\n",
       "date                                                ...   \n",
       "2016-01-15 00:00:00                     127.092003  ...   \n",
       "2016-01-15 01:00:00                     125.629232  ...   \n",
       "2016-01-15 02:00:00                     123.819808  ...   \n",
       "2016-01-15 03:00:00                     122.270188  ...   \n",
       "2016-01-15 04:00:00                     117.988169  ...   \n",
       "\n",
       "                     secondary_cleaner.state.floatbank4_a_air  \\\n",
       "date                                                            \n",
       "2016-01-15 00:00:00                                 14.016835   \n",
       "2016-01-15 01:00:00                                 13.992281   \n",
       "2016-01-15 02:00:00                                 14.015015   \n",
       "2016-01-15 03:00:00                                 14.036510   \n",
       "2016-01-15 04:00:00                                 14.027298   \n",
       "\n",
       "                     secondary_cleaner.state.floatbank4_a_level  \\\n",
       "date                                                              \n",
       "2016-01-15 00:00:00                                 -502.488007   \n",
       "2016-01-15 01:00:00                                 -505.503262   \n",
       "2016-01-15 02:00:00                                 -502.520901   \n",
       "2016-01-15 03:00:00                                 -500.857308   \n",
       "2016-01-15 04:00:00                                 -499.838632   \n",
       "\n",
       "                     secondary_cleaner.state.floatbank4_b_air  \\\n",
       "date                                                            \n",
       "2016-01-15 00:00:00                                 12.099931   \n",
       "2016-01-15 01:00:00                                 11.950531   \n",
       "2016-01-15 02:00:00                                 11.912783   \n",
       "2016-01-15 03:00:00                                 11.999550   \n",
       "2016-01-15 04:00:00                                 11.953070   \n",
       "\n",
       "                     secondary_cleaner.state.floatbank4_b_level  \\\n",
       "date                                                              \n",
       "2016-01-15 00:00:00                                 -504.715942   \n",
       "2016-01-15 01:00:00                                 -501.331529   \n",
       "2016-01-15 02:00:00                                 -501.133383   \n",
       "2016-01-15 03:00:00                                 -501.193686   \n",
       "2016-01-15 04:00:00                                 -501.053894   \n",
       "\n",
       "                     secondary_cleaner.state.floatbank5_a_air  \\\n",
       "date                                                            \n",
       "2016-01-15 00:00:00                                  9.925633   \n",
       "2016-01-15 01:00:00                                 10.039245   \n",
       "2016-01-15 02:00:00                                 10.070913   \n",
       "2016-01-15 03:00:00                                  9.970366   \n",
       "2016-01-15 04:00:00                                  9.925709   \n",
       "\n",
       "                     secondary_cleaner.state.floatbank5_a_level  \\\n",
       "date                                                              \n",
       "2016-01-15 00:00:00                                 -498.310211   \n",
       "2016-01-15 01:00:00                                 -500.169983   \n",
       "2016-01-15 02:00:00                                 -500.129135   \n",
       "2016-01-15 03:00:00                                 -499.201640   \n",
       "2016-01-15 04:00:00                                 -501.686727   \n",
       "\n",
       "                     secondary_cleaner.state.floatbank5_b_air  \\\n",
       "date                                                            \n",
       "2016-01-15 00:00:00                                  8.079666   \n",
       "2016-01-15 01:00:00                                  7.984757   \n",
       "2016-01-15 02:00:00                                  8.013877   \n",
       "2016-01-15 03:00:00                                  7.977324   \n",
       "2016-01-15 04:00:00                                  7.894242   \n",
       "\n",
       "                     secondary_cleaner.state.floatbank5_b_level  \\\n",
       "date                                                              \n",
       "2016-01-15 00:00:00                                 -500.470978   \n",
       "2016-01-15 01:00:00                                 -500.582168   \n",
       "2016-01-15 02:00:00                                 -500.517572   \n",
       "2016-01-15 03:00:00                                 -500.255908   \n",
       "2016-01-15 04:00:00                                 -500.356035   \n",
       "\n",
       "                     secondary_cleaner.state.floatbank6_a_air  \\\n",
       "date                                                            \n",
       "2016-01-15 00:00:00                                 14.151341   \n",
       "2016-01-15 01:00:00                                 13.998353   \n",
       "2016-01-15 02:00:00                                 14.028663   \n",
       "2016-01-15 03:00:00                                 14.005551   \n",
       "2016-01-15 04:00:00                                 13.996647   \n",
       "\n",
       "                     secondary_cleaner.state.floatbank6_a_level  \n",
       "date                                                             \n",
       "2016-01-15 00:00:00                                 -605.841980  \n",
       "2016-01-15 01:00:00                                 -599.787184  \n",
       "2016-01-15 02:00:00                                 -601.427363  \n",
       "2016-01-15 03:00:00                                 -599.996129  \n",
       "2016-01-15 04:00:00                                 -601.496691  \n",
       "\n",
       "[5 rows x 86 columns]"
      ]
     },
     "execution_count": 5,
     "metadata": {},
     "output_type": "execute_result"
    }
   ],
   "source": [
    "gold_recovery_train.head(5)"
   ]
  },
  {
   "cell_type": "code",
   "execution_count": 6,
   "metadata": {
    "scrolled": true
   },
   "outputs": [
    {
     "name": "stdout",
     "output_type": "stream",
     "text": [
      "<class 'pandas.core.frame.DataFrame'>\n",
      "Index: 14149 entries, 2016-01-15 00:00:00 to 2018-08-18 10:59:59\n",
      "Data columns (total 86 columns):\n",
      " #   Column                                              Non-Null Count  Dtype  \n",
      "---  ------                                              --------------  -----  \n",
      " 0   final.output.concentrate_ag                         14148 non-null  float64\n",
      " 1   final.output.concentrate_pb                         14148 non-null  float64\n",
      " 2   final.output.concentrate_sol                        13938 non-null  float64\n",
      " 3   final.output.concentrate_au                         14149 non-null  float64\n",
      " 4   final.output.recovery                               14149 non-null  float64\n",
      " 5   final.output.tail_ag                                14149 non-null  float64\n",
      " 6   final.output.tail_pb                                14049 non-null  float64\n",
      " 7   final.output.tail_sol                               14144 non-null  float64\n",
      " 8   final.output.tail_au                                14149 non-null  float64\n",
      " 9   primary_cleaner.input.sulfate                       14129 non-null  float64\n",
      " 10  primary_cleaner.input.depressant                    14117 non-null  float64\n",
      " 11  primary_cleaner.input.feed_size                     14149 non-null  float64\n",
      " 12  primary_cleaner.input.xanthate                      14049 non-null  float64\n",
      " 13  primary_cleaner.output.concentrate_ag               14149 non-null  float64\n",
      " 14  primary_cleaner.output.concentrate_pb               14063 non-null  float64\n",
      " 15  primary_cleaner.output.concentrate_sol              13863 non-null  float64\n",
      " 16  primary_cleaner.output.concentrate_au               14149 non-null  float64\n",
      " 17  primary_cleaner.output.tail_ag                      14148 non-null  float64\n",
      " 18  primary_cleaner.output.tail_pb                      14134 non-null  float64\n",
      " 19  primary_cleaner.output.tail_sol                     14103 non-null  float64\n",
      " 20  primary_cleaner.output.tail_au                      14149 non-null  float64\n",
      " 21  primary_cleaner.state.floatbank8_a_air              14145 non-null  float64\n",
      " 22  primary_cleaner.state.floatbank8_a_level            14148 non-null  float64\n",
      " 23  primary_cleaner.state.floatbank8_b_air              14145 non-null  float64\n",
      " 24  primary_cleaner.state.floatbank8_b_level            14148 non-null  float64\n",
      " 25  primary_cleaner.state.floatbank8_c_air              14147 non-null  float64\n",
      " 26  primary_cleaner.state.floatbank8_c_level            14148 non-null  float64\n",
      " 27  primary_cleaner.state.floatbank8_d_air              14146 non-null  float64\n",
      " 28  primary_cleaner.state.floatbank8_d_level            14148 non-null  float64\n",
      " 29  rougher.calculation.sulfate_to_au_concentrate       14148 non-null  float64\n",
      " 30  rougher.calculation.floatbank10_sulfate_to_au_feed  14148 non-null  float64\n",
      " 31  rougher.calculation.floatbank11_sulfate_to_au_feed  14148 non-null  float64\n",
      " 32  rougher.calculation.au_pb_ratio                     14149 non-null  float64\n",
      " 33  rougher.input.feed_ag                               14149 non-null  float64\n",
      " 34  rougher.input.feed_pb                               14049 non-null  float64\n",
      " 35  rougher.input.feed_rate                             14141 non-null  float64\n",
      " 36  rougher.input.feed_size                             14005 non-null  float64\n",
      " 37  rougher.input.feed_sol                              14071 non-null  float64\n",
      " 38  rougher.input.feed_au                               14149 non-null  float64\n",
      " 39  rougher.input.floatbank10_sulfate                   14120 non-null  float64\n",
      " 40  rougher.input.floatbank10_xanthate                  14141 non-null  float64\n",
      " 41  rougher.input.floatbank11_sulfate                   14113 non-null  float64\n",
      " 42  rougher.input.floatbank11_xanthate                  13721 non-null  float64\n",
      " 43  rougher.output.concentrate_ag                       14149 non-null  float64\n",
      " 44  rougher.output.concentrate_pb                       14149 non-null  float64\n",
      " 45  rougher.output.concentrate_sol                      14127 non-null  float64\n",
      " 46  rougher.output.concentrate_au                       14149 non-null  float64\n",
      " 47  rougher.output.recovery                             14149 non-null  float64\n",
      " 48  rougher.output.tail_ag                              14148 non-null  float64\n",
      " 49  rougher.output.tail_pb                              14149 non-null  float64\n",
      " 50  rougher.output.tail_sol                             14149 non-null  float64\n",
      " 51  rougher.output.tail_au                              14149 non-null  float64\n",
      " 52  rougher.state.floatbank10_a_air                     14148 non-null  float64\n",
      " 53  rougher.state.floatbank10_a_level                   14148 non-null  float64\n",
      " 54  rougher.state.floatbank10_b_air                     14148 non-null  float64\n",
      " 55  rougher.state.floatbank10_b_level                   14148 non-null  float64\n",
      " 56  rougher.state.floatbank10_c_air                     14148 non-null  float64\n",
      " 57  rougher.state.floatbank10_c_level                   14148 non-null  float64\n",
      " 58  rougher.state.floatbank10_d_air                     14149 non-null  float64\n",
      " 59  rougher.state.floatbank10_d_level                   14149 non-null  float64\n",
      " 60  rougher.state.floatbank10_e_air                     13713 non-null  float64\n",
      " 61  rougher.state.floatbank10_e_level                   14149 non-null  float64\n",
      " 62  rougher.state.floatbank10_f_air                     14149 non-null  float64\n",
      " 63  rougher.state.floatbank10_f_level                   14149 non-null  float64\n",
      " 64  secondary_cleaner.output.tail_ag                    14147 non-null  float64\n",
      " 65  secondary_cleaner.output.tail_pb                    14139 non-null  float64\n",
      " 66  secondary_cleaner.output.tail_sol                   12544 non-null  float64\n",
      " 67  secondary_cleaner.output.tail_au                    14149 non-null  float64\n",
      " 68  secondary_cleaner.state.floatbank2_a_air            13932 non-null  float64\n",
      " 69  secondary_cleaner.state.floatbank2_a_level          14148 non-null  float64\n",
      " 70  secondary_cleaner.state.floatbank2_b_air            14128 non-null  float64\n",
      " 71  secondary_cleaner.state.floatbank2_b_level          14148 non-null  float64\n",
      " 72  secondary_cleaner.state.floatbank3_a_air            14145 non-null  float64\n",
      " 73  secondary_cleaner.state.floatbank3_a_level          14148 non-null  float64\n",
      " 74  secondary_cleaner.state.floatbank3_b_air            14148 non-null  float64\n",
      " 75  secondary_cleaner.state.floatbank3_b_level          14148 non-null  float64\n",
      " 76  secondary_cleaner.state.floatbank4_a_air            14143 non-null  float64\n",
      " 77  secondary_cleaner.state.floatbank4_a_level          14148 non-null  float64\n",
      " 78  secondary_cleaner.state.floatbank4_b_air            14148 non-null  float64\n",
      " 79  secondary_cleaner.state.floatbank4_b_level          14148 non-null  float64\n",
      " 80  secondary_cleaner.state.floatbank5_a_air            14148 non-null  float64\n",
      " 81  secondary_cleaner.state.floatbank5_a_level          14148 non-null  float64\n",
      " 82  secondary_cleaner.state.floatbank5_b_air            14148 non-null  float64\n",
      " 83  secondary_cleaner.state.floatbank5_b_level          14148 non-null  float64\n",
      " 84  secondary_cleaner.state.floatbank6_a_air            14147 non-null  float64\n",
      " 85  secondary_cleaner.state.floatbank6_a_level          14148 non-null  float64\n",
      "dtypes: float64(86)\n",
      "memory usage: 9.4+ MB\n"
     ]
    }
   ],
   "source": [
    "gold_recovery_train.info()"
   ]
  },
  {
   "cell_type": "code",
   "execution_count": 7,
   "metadata": {},
   "outputs": [
    {
     "data": {
      "text/plain": [
       "final.output.concentrate_ag                     1\n",
       "final.output.concentrate_pb                     1\n",
       "final.output.concentrate_sol                  211\n",
       "final.output.concentrate_au                     0\n",
       "final.output.recovery                           0\n",
       "                                             ... \n",
       "secondary_cleaner.state.floatbank5_a_level      1\n",
       "secondary_cleaner.state.floatbank5_b_air        1\n",
       "secondary_cleaner.state.floatbank5_b_level      1\n",
       "secondary_cleaner.state.floatbank6_a_air        2\n",
       "secondary_cleaner.state.floatbank6_a_level      1\n",
       "Length: 86, dtype: int64"
      ]
     },
     "execution_count": 7,
     "metadata": {},
     "output_type": "execute_result"
    }
   ],
   "source": [
    "gold_recovery_train.isna().sum()"
   ]
  },
  {
   "cell_type": "code",
   "execution_count": 8,
   "metadata": {},
   "outputs": [
    {
     "data": {
      "text/plain": [
       "0"
      ]
     },
     "execution_count": 8,
     "metadata": {},
     "output_type": "execute_result"
    }
   ],
   "source": [
    "gold_recovery_train.duplicated().sum()"
   ]
  },
  {
   "cell_type": "markdown",
   "metadata": {},
   "source": [
    "Рассчитаем эффективность обогащения чернового концентрата rougher.output.recovery из обучающей выборки. Предварительно удалим пропуски из столбцов со значением NaN."
   ]
  },
  {
   "cell_type": "code",
   "execution_count": 9,
   "metadata": {},
   "outputs": [
    {
     "data": {
      "text/plain": [
       "rougher.output.concentrate_au    0\n",
       "rougher.input.feed_au            0\n",
       "rougher.output.tail_au           0\n",
       "rougher.output.recovery          0\n",
       "dtype: int64"
      ]
     },
     "execution_count": 9,
     "metadata": {},
     "output_type": "execute_result"
    }
   ],
   "source": [
    "gold_recovery_train.dropna(subset=['rougher.output.concentrate_au', 'rougher.input.feed_au', \n",
    "                                   'rougher.output.tail_au','rougher.output.recovery'], inplace=True)\n",
    "gold_recovery_train[['rougher.output.concentrate_au', 'rougher.input.feed_au', \n",
    "                                   'rougher.output.tail_au','rougher.output.recovery']].isna().sum()"
   ]
  },
  {
   "cell_type": "code",
   "execution_count": 10,
   "metadata": {},
   "outputs": [
    {
     "name": "stdout",
     "output_type": "stream",
     "text": [
      "Абсолютная средняя ошибка = 9.73512347450521e-15\n"
     ]
    }
   ],
   "source": [
    "concentrate_au_train = gold_recovery_train['rougher.output.concentrate_au']\n",
    "feed_au_train = gold_recovery_train['rougher.input.feed_au']\n",
    "tail_au_train = gold_recovery_train['rougher.output.tail_au']\n",
    "recovery_train = gold_recovery_train['rougher.output.recovery']\n",
    "calculated_recovery = ((concentrate_au_train * (feed_au_train - tail_au_train)) / (feed_au_train * (concentrate_au_train - tail_au_train))) * 100\n",
    "print('Абсолютная средняя ошибка =', mean_absolute_error(recovery_train, calculated_recovery))"
   ]
  },
  {
   "cell_type": "markdown",
   "metadata": {},
   "source": [
    "Показатель абсолютной средней ошибки крайне мал, следовательно можно сделать вывод, что показаль `recovery` совпадает с данными из столбца"
   ]
  },
  {
   "cell_type": "code",
   "execution_count": 11,
   "metadata": {
    "scrolled": false
   },
   "outputs": [
    {
     "data": {
      "text/plain": [
       "final.output.concentrate_ag                   0\n",
       "final.output.concentrate_pb                   0\n",
       "final.output.concentrate_sol                  0\n",
       "final.output.concentrate_au                   0\n",
       "final.output.recovery                         0\n",
       "                                             ..\n",
       "secondary_cleaner.state.floatbank5_a_level    0\n",
       "secondary_cleaner.state.floatbank5_b_air      0\n",
       "secondary_cleaner.state.floatbank5_b_level    0\n",
       "secondary_cleaner.state.floatbank6_a_air      0\n",
       "secondary_cleaner.state.floatbank6_a_level    0\n",
       "Length: 86, dtype: int64"
      ]
     },
     "execution_count": 11,
     "metadata": {},
     "output_type": "execute_result"
    }
   ],
   "source": [
    "gold_recovery_train = gold_recovery_train.dropna()\n",
    "gold_recovery_train.isna().sum()"
   ]
  },
  {
   "cell_type": "code",
   "execution_count": 12,
   "metadata": {},
   "outputs": [
    {
     "data": {
      "text/html": [
       "<div>\n",
       "<style scoped>\n",
       "    .dataframe tbody tr th:only-of-type {\n",
       "        vertical-align: middle;\n",
       "    }\n",
       "\n",
       "    .dataframe tbody tr th {\n",
       "        vertical-align: top;\n",
       "    }\n",
       "\n",
       "    .dataframe thead th {\n",
       "        text-align: right;\n",
       "    }\n",
       "</style>\n",
       "<table border=\"1\" class=\"dataframe\">\n",
       "  <thead>\n",
       "    <tr style=\"text-align: right;\">\n",
       "      <th></th>\n",
       "      <th>final.output.concentrate_ag</th>\n",
       "      <th>final.output.concentrate_pb</th>\n",
       "      <th>final.output.concentrate_sol</th>\n",
       "      <th>final.output.concentrate_au</th>\n",
       "      <th>final.output.recovery</th>\n",
       "      <th>final.output.tail_ag</th>\n",
       "      <th>final.output.tail_pb</th>\n",
       "      <th>final.output.tail_sol</th>\n",
       "      <th>final.output.tail_au</th>\n",
       "      <th>primary_cleaner.input.sulfate</th>\n",
       "      <th>...</th>\n",
       "      <th>secondary_cleaner.state.floatbank4_a_air</th>\n",
       "      <th>secondary_cleaner.state.floatbank4_a_level</th>\n",
       "      <th>secondary_cleaner.state.floatbank4_b_air</th>\n",
       "      <th>secondary_cleaner.state.floatbank4_b_level</th>\n",
       "      <th>secondary_cleaner.state.floatbank5_a_air</th>\n",
       "      <th>secondary_cleaner.state.floatbank5_a_level</th>\n",
       "      <th>secondary_cleaner.state.floatbank5_b_air</th>\n",
       "      <th>secondary_cleaner.state.floatbank5_b_level</th>\n",
       "      <th>secondary_cleaner.state.floatbank6_a_air</th>\n",
       "      <th>secondary_cleaner.state.floatbank6_a_level</th>\n",
       "    </tr>\n",
       "    <tr>\n",
       "      <th>date</th>\n",
       "      <th></th>\n",
       "      <th></th>\n",
       "      <th></th>\n",
       "      <th></th>\n",
       "      <th></th>\n",
       "      <th></th>\n",
       "      <th></th>\n",
       "      <th></th>\n",
       "      <th></th>\n",
       "      <th></th>\n",
       "      <th></th>\n",
       "      <th></th>\n",
       "      <th></th>\n",
       "      <th></th>\n",
       "      <th></th>\n",
       "      <th></th>\n",
       "      <th></th>\n",
       "      <th></th>\n",
       "      <th></th>\n",
       "      <th></th>\n",
       "      <th></th>\n",
       "    </tr>\n",
       "  </thead>\n",
       "  <tbody>\n",
       "    <tr>\n",
       "      <th>2016-01-15 00:00:00</th>\n",
       "      <td>6.055403</td>\n",
       "      <td>9.889648</td>\n",
       "      <td>5.507324</td>\n",
       "      <td>42.192020</td>\n",
       "      <td>70.541216</td>\n",
       "      <td>10.411962</td>\n",
       "      <td>0.895447</td>\n",
       "      <td>16.904297</td>\n",
       "      <td>2.143149</td>\n",
       "      <td>127.092003</td>\n",
       "      <td>...</td>\n",
       "      <td>14.016835</td>\n",
       "      <td>-502.488007</td>\n",
       "      <td>12.099931</td>\n",
       "      <td>-504.715942</td>\n",
       "      <td>9.925633</td>\n",
       "      <td>-498.310211</td>\n",
       "      <td>8.079666</td>\n",
       "      <td>-500.470978</td>\n",
       "      <td>14.151341</td>\n",
       "      <td>-605.841980</td>\n",
       "    </tr>\n",
       "    <tr>\n",
       "      <th>2016-01-15 01:00:00</th>\n",
       "      <td>6.029369</td>\n",
       "      <td>9.968944</td>\n",
       "      <td>5.257781</td>\n",
       "      <td>42.701629</td>\n",
       "      <td>69.266198</td>\n",
       "      <td>10.462676</td>\n",
       "      <td>0.927452</td>\n",
       "      <td>16.634514</td>\n",
       "      <td>2.224930</td>\n",
       "      <td>125.629232</td>\n",
       "      <td>...</td>\n",
       "      <td>13.992281</td>\n",
       "      <td>-505.503262</td>\n",
       "      <td>11.950531</td>\n",
       "      <td>-501.331529</td>\n",
       "      <td>10.039245</td>\n",
       "      <td>-500.169983</td>\n",
       "      <td>7.984757</td>\n",
       "      <td>-500.582168</td>\n",
       "      <td>13.998353</td>\n",
       "      <td>-599.787184</td>\n",
       "    </tr>\n",
       "    <tr>\n",
       "      <th>2016-01-15 02:00:00</th>\n",
       "      <td>6.055926</td>\n",
       "      <td>10.213995</td>\n",
       "      <td>5.383759</td>\n",
       "      <td>42.657501</td>\n",
       "      <td>68.116445</td>\n",
       "      <td>10.507046</td>\n",
       "      <td>0.953716</td>\n",
       "      <td>16.208849</td>\n",
       "      <td>2.257889</td>\n",
       "      <td>123.819808</td>\n",
       "      <td>...</td>\n",
       "      <td>14.015015</td>\n",
       "      <td>-502.520901</td>\n",
       "      <td>11.912783</td>\n",
       "      <td>-501.133383</td>\n",
       "      <td>10.070913</td>\n",
       "      <td>-500.129135</td>\n",
       "      <td>8.013877</td>\n",
       "      <td>-500.517572</td>\n",
       "      <td>14.028663</td>\n",
       "      <td>-601.427363</td>\n",
       "    </tr>\n",
       "    <tr>\n",
       "      <th>2016-01-15 03:00:00</th>\n",
       "      <td>6.047977</td>\n",
       "      <td>9.977019</td>\n",
       "      <td>4.858634</td>\n",
       "      <td>42.689819</td>\n",
       "      <td>68.347543</td>\n",
       "      <td>10.422762</td>\n",
       "      <td>0.883763</td>\n",
       "      <td>16.532835</td>\n",
       "      <td>2.146849</td>\n",
       "      <td>122.270188</td>\n",
       "      <td>...</td>\n",
       "      <td>14.036510</td>\n",
       "      <td>-500.857308</td>\n",
       "      <td>11.999550</td>\n",
       "      <td>-501.193686</td>\n",
       "      <td>9.970366</td>\n",
       "      <td>-499.201640</td>\n",
       "      <td>7.977324</td>\n",
       "      <td>-500.255908</td>\n",
       "      <td>14.005551</td>\n",
       "      <td>-599.996129</td>\n",
       "    </tr>\n",
       "    <tr>\n",
       "      <th>2016-01-15 04:00:00</th>\n",
       "      <td>6.148599</td>\n",
       "      <td>10.142511</td>\n",
       "      <td>4.939416</td>\n",
       "      <td>42.774141</td>\n",
       "      <td>66.927016</td>\n",
       "      <td>10.360302</td>\n",
       "      <td>0.792826</td>\n",
       "      <td>16.525686</td>\n",
       "      <td>2.055292</td>\n",
       "      <td>117.988169</td>\n",
       "      <td>...</td>\n",
       "      <td>14.027298</td>\n",
       "      <td>-499.838632</td>\n",
       "      <td>11.953070</td>\n",
       "      <td>-501.053894</td>\n",
       "      <td>9.925709</td>\n",
       "      <td>-501.686727</td>\n",
       "      <td>7.894242</td>\n",
       "      <td>-500.356035</td>\n",
       "      <td>13.996647</td>\n",
       "      <td>-601.496691</td>\n",
       "    </tr>\n",
       "  </tbody>\n",
       "</table>\n",
       "<p>5 rows × 86 columns</p>\n",
       "</div>"
      ],
      "text/plain": [
       "                     final.output.concentrate_ag  final.output.concentrate_pb  \\\n",
       "date                                                                            \n",
       "2016-01-15 00:00:00                     6.055403                     9.889648   \n",
       "2016-01-15 01:00:00                     6.029369                     9.968944   \n",
       "2016-01-15 02:00:00                     6.055926                    10.213995   \n",
       "2016-01-15 03:00:00                     6.047977                     9.977019   \n",
       "2016-01-15 04:00:00                     6.148599                    10.142511   \n",
       "\n",
       "                     final.output.concentrate_sol  \\\n",
       "date                                                \n",
       "2016-01-15 00:00:00                      5.507324   \n",
       "2016-01-15 01:00:00                      5.257781   \n",
       "2016-01-15 02:00:00                      5.383759   \n",
       "2016-01-15 03:00:00                      4.858634   \n",
       "2016-01-15 04:00:00                      4.939416   \n",
       "\n",
       "                     final.output.concentrate_au  final.output.recovery  \\\n",
       "date                                                                      \n",
       "2016-01-15 00:00:00                    42.192020              70.541216   \n",
       "2016-01-15 01:00:00                    42.701629              69.266198   \n",
       "2016-01-15 02:00:00                    42.657501              68.116445   \n",
       "2016-01-15 03:00:00                    42.689819              68.347543   \n",
       "2016-01-15 04:00:00                    42.774141              66.927016   \n",
       "\n",
       "                     final.output.tail_ag  final.output.tail_pb  \\\n",
       "date                                                              \n",
       "2016-01-15 00:00:00             10.411962              0.895447   \n",
       "2016-01-15 01:00:00             10.462676              0.927452   \n",
       "2016-01-15 02:00:00             10.507046              0.953716   \n",
       "2016-01-15 03:00:00             10.422762              0.883763   \n",
       "2016-01-15 04:00:00             10.360302              0.792826   \n",
       "\n",
       "                     final.output.tail_sol  final.output.tail_au  \\\n",
       "date                                                               \n",
       "2016-01-15 00:00:00              16.904297              2.143149   \n",
       "2016-01-15 01:00:00              16.634514              2.224930   \n",
       "2016-01-15 02:00:00              16.208849              2.257889   \n",
       "2016-01-15 03:00:00              16.532835              2.146849   \n",
       "2016-01-15 04:00:00              16.525686              2.055292   \n",
       "\n",
       "                     primary_cleaner.input.sulfate  ...  \\\n",
       "date                                                ...   \n",
       "2016-01-15 00:00:00                     127.092003  ...   \n",
       "2016-01-15 01:00:00                     125.629232  ...   \n",
       "2016-01-15 02:00:00                     123.819808  ...   \n",
       "2016-01-15 03:00:00                     122.270188  ...   \n",
       "2016-01-15 04:00:00                     117.988169  ...   \n",
       "\n",
       "                     secondary_cleaner.state.floatbank4_a_air  \\\n",
       "date                                                            \n",
       "2016-01-15 00:00:00                                 14.016835   \n",
       "2016-01-15 01:00:00                                 13.992281   \n",
       "2016-01-15 02:00:00                                 14.015015   \n",
       "2016-01-15 03:00:00                                 14.036510   \n",
       "2016-01-15 04:00:00                                 14.027298   \n",
       "\n",
       "                     secondary_cleaner.state.floatbank4_a_level  \\\n",
       "date                                                              \n",
       "2016-01-15 00:00:00                                 -502.488007   \n",
       "2016-01-15 01:00:00                                 -505.503262   \n",
       "2016-01-15 02:00:00                                 -502.520901   \n",
       "2016-01-15 03:00:00                                 -500.857308   \n",
       "2016-01-15 04:00:00                                 -499.838632   \n",
       "\n",
       "                     secondary_cleaner.state.floatbank4_b_air  \\\n",
       "date                                                            \n",
       "2016-01-15 00:00:00                                 12.099931   \n",
       "2016-01-15 01:00:00                                 11.950531   \n",
       "2016-01-15 02:00:00                                 11.912783   \n",
       "2016-01-15 03:00:00                                 11.999550   \n",
       "2016-01-15 04:00:00                                 11.953070   \n",
       "\n",
       "                     secondary_cleaner.state.floatbank4_b_level  \\\n",
       "date                                                              \n",
       "2016-01-15 00:00:00                                 -504.715942   \n",
       "2016-01-15 01:00:00                                 -501.331529   \n",
       "2016-01-15 02:00:00                                 -501.133383   \n",
       "2016-01-15 03:00:00                                 -501.193686   \n",
       "2016-01-15 04:00:00                                 -501.053894   \n",
       "\n",
       "                     secondary_cleaner.state.floatbank5_a_air  \\\n",
       "date                                                            \n",
       "2016-01-15 00:00:00                                  9.925633   \n",
       "2016-01-15 01:00:00                                 10.039245   \n",
       "2016-01-15 02:00:00                                 10.070913   \n",
       "2016-01-15 03:00:00                                  9.970366   \n",
       "2016-01-15 04:00:00                                  9.925709   \n",
       "\n",
       "                     secondary_cleaner.state.floatbank5_a_level  \\\n",
       "date                                                              \n",
       "2016-01-15 00:00:00                                 -498.310211   \n",
       "2016-01-15 01:00:00                                 -500.169983   \n",
       "2016-01-15 02:00:00                                 -500.129135   \n",
       "2016-01-15 03:00:00                                 -499.201640   \n",
       "2016-01-15 04:00:00                                 -501.686727   \n",
       "\n",
       "                     secondary_cleaner.state.floatbank5_b_air  \\\n",
       "date                                                            \n",
       "2016-01-15 00:00:00                                  8.079666   \n",
       "2016-01-15 01:00:00                                  7.984757   \n",
       "2016-01-15 02:00:00                                  8.013877   \n",
       "2016-01-15 03:00:00                                  7.977324   \n",
       "2016-01-15 04:00:00                                  7.894242   \n",
       "\n",
       "                     secondary_cleaner.state.floatbank5_b_level  \\\n",
       "date                                                              \n",
       "2016-01-15 00:00:00                                 -500.470978   \n",
       "2016-01-15 01:00:00                                 -500.582168   \n",
       "2016-01-15 02:00:00                                 -500.517572   \n",
       "2016-01-15 03:00:00                                 -500.255908   \n",
       "2016-01-15 04:00:00                                 -500.356035   \n",
       "\n",
       "                     secondary_cleaner.state.floatbank6_a_air  \\\n",
       "date                                                            \n",
       "2016-01-15 00:00:00                                 14.151341   \n",
       "2016-01-15 01:00:00                                 13.998353   \n",
       "2016-01-15 02:00:00                                 14.028663   \n",
       "2016-01-15 03:00:00                                 14.005551   \n",
       "2016-01-15 04:00:00                                 13.996647   \n",
       "\n",
       "                     secondary_cleaner.state.floatbank6_a_level  \n",
       "date                                                             \n",
       "2016-01-15 00:00:00                                 -605.841980  \n",
       "2016-01-15 01:00:00                                 -599.787184  \n",
       "2016-01-15 02:00:00                                 -601.427363  \n",
       "2016-01-15 03:00:00                                 -599.996129  \n",
       "2016-01-15 04:00:00                                 -601.496691  \n",
       "\n",
       "[5 rows x 86 columns]"
      ]
     },
     "execution_count": 12,
     "metadata": {},
     "output_type": "execute_result"
    }
   ],
   "source": [
    "gold_recovery_train.head()"
   ]
  },
  {
   "cell_type": "markdown",
   "metadata": {},
   "source": [
    "### gold_recovery_test"
   ]
  },
  {
   "cell_type": "code",
   "execution_count": 13,
   "metadata": {},
   "outputs": [
    {
     "data": {
      "text/html": [
       "<div>\n",
       "<style scoped>\n",
       "    .dataframe tbody tr th:only-of-type {\n",
       "        vertical-align: middle;\n",
       "    }\n",
       "\n",
       "    .dataframe tbody tr th {\n",
       "        vertical-align: top;\n",
       "    }\n",
       "\n",
       "    .dataframe thead th {\n",
       "        text-align: right;\n",
       "    }\n",
       "</style>\n",
       "<table border=\"1\" class=\"dataframe\">\n",
       "  <thead>\n",
       "    <tr style=\"text-align: right;\">\n",
       "      <th></th>\n",
       "      <th>primary_cleaner.input.sulfate</th>\n",
       "      <th>primary_cleaner.input.depressant</th>\n",
       "      <th>primary_cleaner.input.feed_size</th>\n",
       "      <th>primary_cleaner.input.xanthate</th>\n",
       "      <th>primary_cleaner.state.floatbank8_a_air</th>\n",
       "      <th>primary_cleaner.state.floatbank8_a_level</th>\n",
       "      <th>primary_cleaner.state.floatbank8_b_air</th>\n",
       "      <th>primary_cleaner.state.floatbank8_b_level</th>\n",
       "      <th>primary_cleaner.state.floatbank8_c_air</th>\n",
       "      <th>primary_cleaner.state.floatbank8_c_level</th>\n",
       "      <th>...</th>\n",
       "      <th>secondary_cleaner.state.floatbank4_b_air</th>\n",
       "      <th>secondary_cleaner.state.floatbank4_b_level</th>\n",
       "      <th>secondary_cleaner.state.floatbank5_a_air</th>\n",
       "      <th>secondary_cleaner.state.floatbank5_a_level</th>\n",
       "      <th>secondary_cleaner.state.floatbank5_b_air</th>\n",
       "      <th>secondary_cleaner.state.floatbank5_b_level</th>\n",
       "      <th>secondary_cleaner.state.floatbank6_a_air</th>\n",
       "      <th>secondary_cleaner.state.floatbank6_a_level</th>\n",
       "      <th>rougher.output.recovery</th>\n",
       "      <th>final.output.recovery</th>\n",
       "    </tr>\n",
       "    <tr>\n",
       "      <th>date</th>\n",
       "      <th></th>\n",
       "      <th></th>\n",
       "      <th></th>\n",
       "      <th></th>\n",
       "      <th></th>\n",
       "      <th></th>\n",
       "      <th></th>\n",
       "      <th></th>\n",
       "      <th></th>\n",
       "      <th></th>\n",
       "      <th></th>\n",
       "      <th></th>\n",
       "      <th></th>\n",
       "      <th></th>\n",
       "      <th></th>\n",
       "      <th></th>\n",
       "      <th></th>\n",
       "      <th></th>\n",
       "      <th></th>\n",
       "      <th></th>\n",
       "      <th></th>\n",
       "    </tr>\n",
       "  </thead>\n",
       "  <tbody>\n",
       "    <tr>\n",
       "      <th>2016-09-01 00:59:59</th>\n",
       "      <td>210.800909</td>\n",
       "      <td>14.993118</td>\n",
       "      <td>8.080000</td>\n",
       "      <td>1.005021</td>\n",
       "      <td>1398.981301</td>\n",
       "      <td>-500.225577</td>\n",
       "      <td>1399.144926</td>\n",
       "      <td>-499.919735</td>\n",
       "      <td>1400.102998</td>\n",
       "      <td>-500.704369</td>\n",
       "      <td>...</td>\n",
       "      <td>8.016656</td>\n",
       "      <td>-501.289139</td>\n",
       "      <td>7.946562</td>\n",
       "      <td>-432.317850</td>\n",
       "      <td>4.872511</td>\n",
       "      <td>-500.037437</td>\n",
       "      <td>26.705889</td>\n",
       "      <td>-499.709414</td>\n",
       "      <td>89.993421</td>\n",
       "      <td>70.273583</td>\n",
       "    </tr>\n",
       "    <tr>\n",
       "      <th>2016-09-01 01:59:59</th>\n",
       "      <td>215.392455</td>\n",
       "      <td>14.987471</td>\n",
       "      <td>8.080000</td>\n",
       "      <td>0.990469</td>\n",
       "      <td>1398.777912</td>\n",
       "      <td>-500.057435</td>\n",
       "      <td>1398.055362</td>\n",
       "      <td>-499.778182</td>\n",
       "      <td>1396.151033</td>\n",
       "      <td>-499.240168</td>\n",
       "      <td>...</td>\n",
       "      <td>8.130979</td>\n",
       "      <td>-499.634209</td>\n",
       "      <td>7.958270</td>\n",
       "      <td>-525.839648</td>\n",
       "      <td>4.878850</td>\n",
       "      <td>-500.162375</td>\n",
       "      <td>25.019940</td>\n",
       "      <td>-499.819438</td>\n",
       "      <td>88.089657</td>\n",
       "      <td>68.910432</td>\n",
       "    </tr>\n",
       "    <tr>\n",
       "      <th>2016-09-01 02:59:59</th>\n",
       "      <td>215.259946</td>\n",
       "      <td>12.884934</td>\n",
       "      <td>7.786667</td>\n",
       "      <td>0.996043</td>\n",
       "      <td>1398.493666</td>\n",
       "      <td>-500.868360</td>\n",
       "      <td>1398.860436</td>\n",
       "      <td>-499.764529</td>\n",
       "      <td>1398.075709</td>\n",
       "      <td>-502.151509</td>\n",
       "      <td>...</td>\n",
       "      <td>8.096893</td>\n",
       "      <td>-500.827423</td>\n",
       "      <td>8.071056</td>\n",
       "      <td>-500.801673</td>\n",
       "      <td>4.905125</td>\n",
       "      <td>-499.828510</td>\n",
       "      <td>24.994862</td>\n",
       "      <td>-500.622559</td>\n",
       "      <td>88.412756</td>\n",
       "      <td>68.143213</td>\n",
       "    </tr>\n",
       "    <tr>\n",
       "      <th>2016-09-01 03:59:59</th>\n",
       "      <td>215.336236</td>\n",
       "      <td>12.006805</td>\n",
       "      <td>7.640000</td>\n",
       "      <td>0.863514</td>\n",
       "      <td>1399.618111</td>\n",
       "      <td>-498.863574</td>\n",
       "      <td>1397.440120</td>\n",
       "      <td>-499.211024</td>\n",
       "      <td>1400.129303</td>\n",
       "      <td>-498.355873</td>\n",
       "      <td>...</td>\n",
       "      <td>8.074946</td>\n",
       "      <td>-499.474407</td>\n",
       "      <td>7.897085</td>\n",
       "      <td>-500.868509</td>\n",
       "      <td>4.931400</td>\n",
       "      <td>-499.963623</td>\n",
       "      <td>24.948919</td>\n",
       "      <td>-498.709987</td>\n",
       "      <td>87.360133</td>\n",
       "      <td>67.776393</td>\n",
       "    </tr>\n",
       "    <tr>\n",
       "      <th>2016-09-01 04:59:59</th>\n",
       "      <td>199.099327</td>\n",
       "      <td>10.682530</td>\n",
       "      <td>7.530000</td>\n",
       "      <td>0.805575</td>\n",
       "      <td>1401.268123</td>\n",
       "      <td>-500.808305</td>\n",
       "      <td>1398.128818</td>\n",
       "      <td>-499.504543</td>\n",
       "      <td>1402.172226</td>\n",
       "      <td>-500.810606</td>\n",
       "      <td>...</td>\n",
       "      <td>8.054678</td>\n",
       "      <td>-500.397500</td>\n",
       "      <td>8.107890</td>\n",
       "      <td>-509.526725</td>\n",
       "      <td>4.957674</td>\n",
       "      <td>-500.360026</td>\n",
       "      <td>25.003331</td>\n",
       "      <td>-500.856333</td>\n",
       "      <td>83.236367</td>\n",
       "      <td>61.467078</td>\n",
       "    </tr>\n",
       "  </tbody>\n",
       "</table>\n",
       "<p>5 rows × 54 columns</p>\n",
       "</div>"
      ],
      "text/plain": [
       "                     primary_cleaner.input.sulfate  \\\n",
       "date                                                 \n",
       "2016-09-01 00:59:59                     210.800909   \n",
       "2016-09-01 01:59:59                     215.392455   \n",
       "2016-09-01 02:59:59                     215.259946   \n",
       "2016-09-01 03:59:59                     215.336236   \n",
       "2016-09-01 04:59:59                     199.099327   \n",
       "\n",
       "                     primary_cleaner.input.depressant  \\\n",
       "date                                                    \n",
       "2016-09-01 00:59:59                         14.993118   \n",
       "2016-09-01 01:59:59                         14.987471   \n",
       "2016-09-01 02:59:59                         12.884934   \n",
       "2016-09-01 03:59:59                         12.006805   \n",
       "2016-09-01 04:59:59                         10.682530   \n",
       "\n",
       "                     primary_cleaner.input.feed_size  \\\n",
       "date                                                   \n",
       "2016-09-01 00:59:59                         8.080000   \n",
       "2016-09-01 01:59:59                         8.080000   \n",
       "2016-09-01 02:59:59                         7.786667   \n",
       "2016-09-01 03:59:59                         7.640000   \n",
       "2016-09-01 04:59:59                         7.530000   \n",
       "\n",
       "                     primary_cleaner.input.xanthate  \\\n",
       "date                                                  \n",
       "2016-09-01 00:59:59                        1.005021   \n",
       "2016-09-01 01:59:59                        0.990469   \n",
       "2016-09-01 02:59:59                        0.996043   \n",
       "2016-09-01 03:59:59                        0.863514   \n",
       "2016-09-01 04:59:59                        0.805575   \n",
       "\n",
       "                     primary_cleaner.state.floatbank8_a_air  \\\n",
       "date                                                          \n",
       "2016-09-01 00:59:59                             1398.981301   \n",
       "2016-09-01 01:59:59                             1398.777912   \n",
       "2016-09-01 02:59:59                             1398.493666   \n",
       "2016-09-01 03:59:59                             1399.618111   \n",
       "2016-09-01 04:59:59                             1401.268123   \n",
       "\n",
       "                     primary_cleaner.state.floatbank8_a_level  \\\n",
       "date                                                            \n",
       "2016-09-01 00:59:59                               -500.225577   \n",
       "2016-09-01 01:59:59                               -500.057435   \n",
       "2016-09-01 02:59:59                               -500.868360   \n",
       "2016-09-01 03:59:59                               -498.863574   \n",
       "2016-09-01 04:59:59                               -500.808305   \n",
       "\n",
       "                     primary_cleaner.state.floatbank8_b_air  \\\n",
       "date                                                          \n",
       "2016-09-01 00:59:59                             1399.144926   \n",
       "2016-09-01 01:59:59                             1398.055362   \n",
       "2016-09-01 02:59:59                             1398.860436   \n",
       "2016-09-01 03:59:59                             1397.440120   \n",
       "2016-09-01 04:59:59                             1398.128818   \n",
       "\n",
       "                     primary_cleaner.state.floatbank8_b_level  \\\n",
       "date                                                            \n",
       "2016-09-01 00:59:59                               -499.919735   \n",
       "2016-09-01 01:59:59                               -499.778182   \n",
       "2016-09-01 02:59:59                               -499.764529   \n",
       "2016-09-01 03:59:59                               -499.211024   \n",
       "2016-09-01 04:59:59                               -499.504543   \n",
       "\n",
       "                     primary_cleaner.state.floatbank8_c_air  \\\n",
       "date                                                          \n",
       "2016-09-01 00:59:59                             1400.102998   \n",
       "2016-09-01 01:59:59                             1396.151033   \n",
       "2016-09-01 02:59:59                             1398.075709   \n",
       "2016-09-01 03:59:59                             1400.129303   \n",
       "2016-09-01 04:59:59                             1402.172226   \n",
       "\n",
       "                     primary_cleaner.state.floatbank8_c_level  ...  \\\n",
       "date                                                           ...   \n",
       "2016-09-01 00:59:59                               -500.704369  ...   \n",
       "2016-09-01 01:59:59                               -499.240168  ...   \n",
       "2016-09-01 02:59:59                               -502.151509  ...   \n",
       "2016-09-01 03:59:59                               -498.355873  ...   \n",
       "2016-09-01 04:59:59                               -500.810606  ...   \n",
       "\n",
       "                     secondary_cleaner.state.floatbank4_b_air  \\\n",
       "date                                                            \n",
       "2016-09-01 00:59:59                                  8.016656   \n",
       "2016-09-01 01:59:59                                  8.130979   \n",
       "2016-09-01 02:59:59                                  8.096893   \n",
       "2016-09-01 03:59:59                                  8.074946   \n",
       "2016-09-01 04:59:59                                  8.054678   \n",
       "\n",
       "                     secondary_cleaner.state.floatbank4_b_level  \\\n",
       "date                                                              \n",
       "2016-09-01 00:59:59                                 -501.289139   \n",
       "2016-09-01 01:59:59                                 -499.634209   \n",
       "2016-09-01 02:59:59                                 -500.827423   \n",
       "2016-09-01 03:59:59                                 -499.474407   \n",
       "2016-09-01 04:59:59                                 -500.397500   \n",
       "\n",
       "                     secondary_cleaner.state.floatbank5_a_air  \\\n",
       "date                                                            \n",
       "2016-09-01 00:59:59                                  7.946562   \n",
       "2016-09-01 01:59:59                                  7.958270   \n",
       "2016-09-01 02:59:59                                  8.071056   \n",
       "2016-09-01 03:59:59                                  7.897085   \n",
       "2016-09-01 04:59:59                                  8.107890   \n",
       "\n",
       "                     secondary_cleaner.state.floatbank5_a_level  \\\n",
       "date                                                              \n",
       "2016-09-01 00:59:59                                 -432.317850   \n",
       "2016-09-01 01:59:59                                 -525.839648   \n",
       "2016-09-01 02:59:59                                 -500.801673   \n",
       "2016-09-01 03:59:59                                 -500.868509   \n",
       "2016-09-01 04:59:59                                 -509.526725   \n",
       "\n",
       "                     secondary_cleaner.state.floatbank5_b_air  \\\n",
       "date                                                            \n",
       "2016-09-01 00:59:59                                  4.872511   \n",
       "2016-09-01 01:59:59                                  4.878850   \n",
       "2016-09-01 02:59:59                                  4.905125   \n",
       "2016-09-01 03:59:59                                  4.931400   \n",
       "2016-09-01 04:59:59                                  4.957674   \n",
       "\n",
       "                     secondary_cleaner.state.floatbank5_b_level  \\\n",
       "date                                                              \n",
       "2016-09-01 00:59:59                                 -500.037437   \n",
       "2016-09-01 01:59:59                                 -500.162375   \n",
       "2016-09-01 02:59:59                                 -499.828510   \n",
       "2016-09-01 03:59:59                                 -499.963623   \n",
       "2016-09-01 04:59:59                                 -500.360026   \n",
       "\n",
       "                     secondary_cleaner.state.floatbank6_a_air  \\\n",
       "date                                                            \n",
       "2016-09-01 00:59:59                                 26.705889   \n",
       "2016-09-01 01:59:59                                 25.019940   \n",
       "2016-09-01 02:59:59                                 24.994862   \n",
       "2016-09-01 03:59:59                                 24.948919   \n",
       "2016-09-01 04:59:59                                 25.003331   \n",
       "\n",
       "                     secondary_cleaner.state.floatbank6_a_level  \\\n",
       "date                                                              \n",
       "2016-09-01 00:59:59                                 -499.709414   \n",
       "2016-09-01 01:59:59                                 -499.819438   \n",
       "2016-09-01 02:59:59                                 -500.622559   \n",
       "2016-09-01 03:59:59                                 -498.709987   \n",
       "2016-09-01 04:59:59                                 -500.856333   \n",
       "\n",
       "                     rougher.output.recovery  final.output.recovery  \n",
       "date                                                                 \n",
       "2016-09-01 00:59:59                89.993421              70.273583  \n",
       "2016-09-01 01:59:59                88.089657              68.910432  \n",
       "2016-09-01 02:59:59                88.412756              68.143213  \n",
       "2016-09-01 03:59:59                87.360133              67.776393  \n",
       "2016-09-01 04:59:59                83.236367              61.467078  \n",
       "\n",
       "[5 rows x 54 columns]"
      ]
     },
     "execution_count": 13,
     "metadata": {},
     "output_type": "execute_result"
    }
   ],
   "source": [
    "gold_recovery_test_merged.head(5)"
   ]
  },
  {
   "cell_type": "code",
   "execution_count": 14,
   "metadata": {
    "scrolled": true
   },
   "outputs": [
    {
     "name": "stdout",
     "output_type": "stream",
     "text": [
      "<class 'pandas.core.frame.DataFrame'>\n",
      "Index: 5290 entries, 2016-09-01 00:59:59 to 2017-12-31 23:59:59\n",
      "Data columns (total 54 columns):\n",
      " #   Column                                      Non-Null Count  Dtype  \n",
      "---  ------                                      --------------  -----  \n",
      " 0   primary_cleaner.input.sulfate               5286 non-null   float64\n",
      " 1   primary_cleaner.input.depressant            5285 non-null   float64\n",
      " 2   primary_cleaner.input.feed_size             5290 non-null   float64\n",
      " 3   primary_cleaner.input.xanthate              5286 non-null   float64\n",
      " 4   primary_cleaner.state.floatbank8_a_air      5290 non-null   float64\n",
      " 5   primary_cleaner.state.floatbank8_a_level    5290 non-null   float64\n",
      " 6   primary_cleaner.state.floatbank8_b_air      5290 non-null   float64\n",
      " 7   primary_cleaner.state.floatbank8_b_level    5290 non-null   float64\n",
      " 8   primary_cleaner.state.floatbank8_c_air      5290 non-null   float64\n",
      " 9   primary_cleaner.state.floatbank8_c_level    5290 non-null   float64\n",
      " 10  primary_cleaner.state.floatbank8_d_air      5290 non-null   float64\n",
      " 11  primary_cleaner.state.floatbank8_d_level    5290 non-null   float64\n",
      " 12  rougher.input.feed_ag                       5290 non-null   float64\n",
      " 13  rougher.input.feed_pb                       5290 non-null   float64\n",
      " 14  rougher.input.feed_rate                     5287 non-null   float64\n",
      " 15  rougher.input.feed_size                     5289 non-null   float64\n",
      " 16  rougher.input.feed_sol                      5269 non-null   float64\n",
      " 17  rougher.input.feed_au                       5290 non-null   float64\n",
      " 18  rougher.input.floatbank10_sulfate           5285 non-null   float64\n",
      " 19  rougher.input.floatbank10_xanthate          5290 non-null   float64\n",
      " 20  rougher.input.floatbank11_sulfate           5282 non-null   float64\n",
      " 21  rougher.input.floatbank11_xanthate          5265 non-null   float64\n",
      " 22  rougher.state.floatbank10_a_air             5290 non-null   float64\n",
      " 23  rougher.state.floatbank10_a_level           5290 non-null   float64\n",
      " 24  rougher.state.floatbank10_b_air             5290 non-null   float64\n",
      " 25  rougher.state.floatbank10_b_level           5290 non-null   float64\n",
      " 26  rougher.state.floatbank10_c_air             5290 non-null   float64\n",
      " 27  rougher.state.floatbank10_c_level           5290 non-null   float64\n",
      " 28  rougher.state.floatbank10_d_air             5290 non-null   float64\n",
      " 29  rougher.state.floatbank10_d_level           5290 non-null   float64\n",
      " 30  rougher.state.floatbank10_e_air             5290 non-null   float64\n",
      " 31  rougher.state.floatbank10_e_level           5290 non-null   float64\n",
      " 32  rougher.state.floatbank10_f_air             5290 non-null   float64\n",
      " 33  rougher.state.floatbank10_f_level           5290 non-null   float64\n",
      " 34  secondary_cleaner.state.floatbank2_a_air    5287 non-null   float64\n",
      " 35  secondary_cleaner.state.floatbank2_a_level  5290 non-null   float64\n",
      " 36  secondary_cleaner.state.floatbank2_b_air    5288 non-null   float64\n",
      " 37  secondary_cleaner.state.floatbank2_b_level  5290 non-null   float64\n",
      " 38  secondary_cleaner.state.floatbank3_a_air    5281 non-null   float64\n",
      " 39  secondary_cleaner.state.floatbank3_a_level  5290 non-null   float64\n",
      " 40  secondary_cleaner.state.floatbank3_b_air    5290 non-null   float64\n",
      " 41  secondary_cleaner.state.floatbank3_b_level  5290 non-null   float64\n",
      " 42  secondary_cleaner.state.floatbank4_a_air    5290 non-null   float64\n",
      " 43  secondary_cleaner.state.floatbank4_a_level  5290 non-null   float64\n",
      " 44  secondary_cleaner.state.floatbank4_b_air    5290 non-null   float64\n",
      " 45  secondary_cleaner.state.floatbank4_b_level  5290 non-null   float64\n",
      " 46  secondary_cleaner.state.floatbank5_a_air    5290 non-null   float64\n",
      " 47  secondary_cleaner.state.floatbank5_a_level  5290 non-null   float64\n",
      " 48  secondary_cleaner.state.floatbank5_b_air    5290 non-null   float64\n",
      " 49  secondary_cleaner.state.floatbank5_b_level  5290 non-null   float64\n",
      " 50  secondary_cleaner.state.floatbank6_a_air    5290 non-null   float64\n",
      " 51  secondary_cleaner.state.floatbank6_a_level  5290 non-null   float64\n",
      " 52  rougher.output.recovery                     5290 non-null   float64\n",
      " 53  final.output.recovery                       5290 non-null   float64\n",
      "dtypes: float64(54)\n",
      "memory usage: 2.2+ MB\n"
     ]
    }
   ],
   "source": [
    "gold_recovery_test_merged.info()"
   ]
  },
  {
   "cell_type": "code",
   "execution_count": 15,
   "metadata": {},
   "outputs": [
    {
     "data": {
      "text/plain": [
       "primary_cleaner.input.sulfate                  4\n",
       "primary_cleaner.input.depressant               5\n",
       "primary_cleaner.input.feed_size                0\n",
       "primary_cleaner.input.xanthate                 4\n",
       "primary_cleaner.state.floatbank8_a_air         0\n",
       "primary_cleaner.state.floatbank8_a_level       0\n",
       "primary_cleaner.state.floatbank8_b_air         0\n",
       "primary_cleaner.state.floatbank8_b_level       0\n",
       "primary_cleaner.state.floatbank8_c_air         0\n",
       "primary_cleaner.state.floatbank8_c_level       0\n",
       "primary_cleaner.state.floatbank8_d_air         0\n",
       "primary_cleaner.state.floatbank8_d_level       0\n",
       "rougher.input.feed_ag                          0\n",
       "rougher.input.feed_pb                          0\n",
       "rougher.input.feed_rate                        3\n",
       "rougher.input.feed_size                        1\n",
       "rougher.input.feed_sol                        21\n",
       "rougher.input.feed_au                          0\n",
       "rougher.input.floatbank10_sulfate              5\n",
       "rougher.input.floatbank10_xanthate             0\n",
       "rougher.input.floatbank11_sulfate              8\n",
       "rougher.input.floatbank11_xanthate            25\n",
       "rougher.state.floatbank10_a_air                0\n",
       "rougher.state.floatbank10_a_level              0\n",
       "rougher.state.floatbank10_b_air                0\n",
       "rougher.state.floatbank10_b_level              0\n",
       "rougher.state.floatbank10_c_air                0\n",
       "rougher.state.floatbank10_c_level              0\n",
       "rougher.state.floatbank10_d_air                0\n",
       "rougher.state.floatbank10_d_level              0\n",
       "rougher.state.floatbank10_e_air                0\n",
       "rougher.state.floatbank10_e_level              0\n",
       "rougher.state.floatbank10_f_air                0\n",
       "rougher.state.floatbank10_f_level              0\n",
       "secondary_cleaner.state.floatbank2_a_air       3\n",
       "secondary_cleaner.state.floatbank2_a_level     0\n",
       "secondary_cleaner.state.floatbank2_b_air       2\n",
       "secondary_cleaner.state.floatbank2_b_level     0\n",
       "secondary_cleaner.state.floatbank3_a_air       9\n",
       "secondary_cleaner.state.floatbank3_a_level     0\n",
       "secondary_cleaner.state.floatbank3_b_air       0\n",
       "secondary_cleaner.state.floatbank3_b_level     0\n",
       "secondary_cleaner.state.floatbank4_a_air       0\n",
       "secondary_cleaner.state.floatbank4_a_level     0\n",
       "secondary_cleaner.state.floatbank4_b_air       0\n",
       "secondary_cleaner.state.floatbank4_b_level     0\n",
       "secondary_cleaner.state.floatbank5_a_air       0\n",
       "secondary_cleaner.state.floatbank5_a_level     0\n",
       "secondary_cleaner.state.floatbank5_b_air       0\n",
       "secondary_cleaner.state.floatbank5_b_level     0\n",
       "secondary_cleaner.state.floatbank6_a_air       0\n",
       "secondary_cleaner.state.floatbank6_a_level     0\n",
       "rougher.output.recovery                        0\n",
       "final.output.recovery                          0\n",
       "dtype: int64"
      ]
     },
     "execution_count": 15,
     "metadata": {},
     "output_type": "execute_result"
    }
   ],
   "source": [
    "gold_recovery_test_merged.isna().sum()"
   ]
  },
  {
   "cell_type": "code",
   "execution_count": 16,
   "metadata": {},
   "outputs": [
    {
     "data": {
      "text/plain": [
       "0"
      ]
     },
     "execution_count": 16,
     "metadata": {},
     "output_type": "execute_result"
    }
   ],
   "source": [
    "gold_recovery_test_merged.duplicated().sum()"
   ]
  },
  {
   "cell_type": "code",
   "execution_count": 17,
   "metadata": {
    "scrolled": true
   },
   "outputs": [
    {
     "data": {
      "text/plain": [
       "primary_cleaner.input.sulfate                 0\n",
       "primary_cleaner.input.depressant              0\n",
       "primary_cleaner.input.feed_size               0\n",
       "primary_cleaner.input.xanthate                0\n",
       "primary_cleaner.state.floatbank8_a_air        0\n",
       "primary_cleaner.state.floatbank8_a_level      0\n",
       "primary_cleaner.state.floatbank8_b_air        0\n",
       "primary_cleaner.state.floatbank8_b_level      0\n",
       "primary_cleaner.state.floatbank8_c_air        0\n",
       "primary_cleaner.state.floatbank8_c_level      0\n",
       "primary_cleaner.state.floatbank8_d_air        0\n",
       "primary_cleaner.state.floatbank8_d_level      0\n",
       "rougher.input.feed_ag                         0\n",
       "rougher.input.feed_pb                         0\n",
       "rougher.input.feed_rate                       0\n",
       "rougher.input.feed_size                       0\n",
       "rougher.input.feed_sol                        0\n",
       "rougher.input.feed_au                         0\n",
       "rougher.input.floatbank10_sulfate             0\n",
       "rougher.input.floatbank10_xanthate            0\n",
       "rougher.input.floatbank11_sulfate             0\n",
       "rougher.input.floatbank11_xanthate            0\n",
       "rougher.state.floatbank10_a_air               0\n",
       "rougher.state.floatbank10_a_level             0\n",
       "rougher.state.floatbank10_b_air               0\n",
       "rougher.state.floatbank10_b_level             0\n",
       "rougher.state.floatbank10_c_air               0\n",
       "rougher.state.floatbank10_c_level             0\n",
       "rougher.state.floatbank10_d_air               0\n",
       "rougher.state.floatbank10_d_level             0\n",
       "rougher.state.floatbank10_e_air               0\n",
       "rougher.state.floatbank10_e_level             0\n",
       "rougher.state.floatbank10_f_air               0\n",
       "rougher.state.floatbank10_f_level             0\n",
       "secondary_cleaner.state.floatbank2_a_air      0\n",
       "secondary_cleaner.state.floatbank2_a_level    0\n",
       "secondary_cleaner.state.floatbank2_b_air      0\n",
       "secondary_cleaner.state.floatbank2_b_level    0\n",
       "secondary_cleaner.state.floatbank3_a_air      0\n",
       "secondary_cleaner.state.floatbank3_a_level    0\n",
       "secondary_cleaner.state.floatbank3_b_air      0\n",
       "secondary_cleaner.state.floatbank3_b_level    0\n",
       "secondary_cleaner.state.floatbank4_a_air      0\n",
       "secondary_cleaner.state.floatbank4_a_level    0\n",
       "secondary_cleaner.state.floatbank4_b_air      0\n",
       "secondary_cleaner.state.floatbank4_b_level    0\n",
       "secondary_cleaner.state.floatbank5_a_air      0\n",
       "secondary_cleaner.state.floatbank5_a_level    0\n",
       "secondary_cleaner.state.floatbank5_b_air      0\n",
       "secondary_cleaner.state.floatbank5_b_level    0\n",
       "secondary_cleaner.state.floatbank6_a_air      0\n",
       "secondary_cleaner.state.floatbank6_a_level    0\n",
       "rougher.output.recovery                       0\n",
       "final.output.recovery                         0\n",
       "dtype: int64"
      ]
     },
     "execution_count": 17,
     "metadata": {},
     "output_type": "execute_result"
    }
   ],
   "source": [
    "gold_recovery_test_merged = gold_recovery_test_merged.dropna()\n",
    "gold_recovery_test_merged.isna().sum()"
   ]
  },
  {
   "cell_type": "markdown",
   "metadata": {},
   "source": [
    "В тестовой выборке отсуствуют столбцы этапов `rougher.output`, `rougher.calculation`, `final.output`, `primary_cleaner.output` и `secondary_cleaner.output`. Эти данные будут получены по результатам технологического процесса.  Остальные столбцы исторически известны. "
   ]
  },
  {
   "cell_type": "code",
   "execution_count": 18,
   "metadata": {},
   "outputs": [
    {
     "data": {
      "text/html": [
       "<div>\n",
       "<style scoped>\n",
       "    .dataframe tbody tr th:only-of-type {\n",
       "        vertical-align: middle;\n",
       "    }\n",
       "\n",
       "    .dataframe tbody tr th {\n",
       "        vertical-align: top;\n",
       "    }\n",
       "\n",
       "    .dataframe thead th {\n",
       "        text-align: right;\n",
       "    }\n",
       "</style>\n",
       "<table border=\"1\" class=\"dataframe\">\n",
       "  <thead>\n",
       "    <tr style=\"text-align: right;\">\n",
       "      <th></th>\n",
       "      <th>primary_cleaner.input.sulfate</th>\n",
       "      <th>primary_cleaner.input.depressant</th>\n",
       "      <th>primary_cleaner.input.feed_size</th>\n",
       "      <th>primary_cleaner.input.xanthate</th>\n",
       "      <th>primary_cleaner.state.floatbank8_a_air</th>\n",
       "      <th>primary_cleaner.state.floatbank8_a_level</th>\n",
       "      <th>primary_cleaner.state.floatbank8_b_air</th>\n",
       "      <th>primary_cleaner.state.floatbank8_b_level</th>\n",
       "      <th>primary_cleaner.state.floatbank8_c_air</th>\n",
       "      <th>primary_cleaner.state.floatbank8_c_level</th>\n",
       "      <th>...</th>\n",
       "      <th>secondary_cleaner.state.floatbank4_b_air</th>\n",
       "      <th>secondary_cleaner.state.floatbank4_b_level</th>\n",
       "      <th>secondary_cleaner.state.floatbank5_a_air</th>\n",
       "      <th>secondary_cleaner.state.floatbank5_a_level</th>\n",
       "      <th>secondary_cleaner.state.floatbank5_b_air</th>\n",
       "      <th>secondary_cleaner.state.floatbank5_b_level</th>\n",
       "      <th>secondary_cleaner.state.floatbank6_a_air</th>\n",
       "      <th>secondary_cleaner.state.floatbank6_a_level</th>\n",
       "      <th>rougher.output.recovery</th>\n",
       "      <th>final.output.recovery</th>\n",
       "    </tr>\n",
       "    <tr>\n",
       "      <th>date</th>\n",
       "      <th></th>\n",
       "      <th></th>\n",
       "      <th></th>\n",
       "      <th></th>\n",
       "      <th></th>\n",
       "      <th></th>\n",
       "      <th></th>\n",
       "      <th></th>\n",
       "      <th></th>\n",
       "      <th></th>\n",
       "      <th></th>\n",
       "      <th></th>\n",
       "      <th></th>\n",
       "      <th></th>\n",
       "      <th></th>\n",
       "      <th></th>\n",
       "      <th></th>\n",
       "      <th></th>\n",
       "      <th></th>\n",
       "      <th></th>\n",
       "      <th></th>\n",
       "    </tr>\n",
       "  </thead>\n",
       "  <tbody>\n",
       "    <tr>\n",
       "      <th>2016-09-01 00:59:59</th>\n",
       "      <td>210.800909</td>\n",
       "      <td>14.993118</td>\n",
       "      <td>8.080000</td>\n",
       "      <td>1.005021</td>\n",
       "      <td>1398.981301</td>\n",
       "      <td>-500.225577</td>\n",
       "      <td>1399.144926</td>\n",
       "      <td>-499.919735</td>\n",
       "      <td>1400.102998</td>\n",
       "      <td>-500.704369</td>\n",
       "      <td>...</td>\n",
       "      <td>8.016656</td>\n",
       "      <td>-501.289139</td>\n",
       "      <td>7.946562</td>\n",
       "      <td>-432.317850</td>\n",
       "      <td>4.872511</td>\n",
       "      <td>-500.037437</td>\n",
       "      <td>26.705889</td>\n",
       "      <td>-499.709414</td>\n",
       "      <td>89.993421</td>\n",
       "      <td>70.273583</td>\n",
       "    </tr>\n",
       "    <tr>\n",
       "      <th>2016-09-01 01:59:59</th>\n",
       "      <td>215.392455</td>\n",
       "      <td>14.987471</td>\n",
       "      <td>8.080000</td>\n",
       "      <td>0.990469</td>\n",
       "      <td>1398.777912</td>\n",
       "      <td>-500.057435</td>\n",
       "      <td>1398.055362</td>\n",
       "      <td>-499.778182</td>\n",
       "      <td>1396.151033</td>\n",
       "      <td>-499.240168</td>\n",
       "      <td>...</td>\n",
       "      <td>8.130979</td>\n",
       "      <td>-499.634209</td>\n",
       "      <td>7.958270</td>\n",
       "      <td>-525.839648</td>\n",
       "      <td>4.878850</td>\n",
       "      <td>-500.162375</td>\n",
       "      <td>25.019940</td>\n",
       "      <td>-499.819438</td>\n",
       "      <td>88.089657</td>\n",
       "      <td>68.910432</td>\n",
       "    </tr>\n",
       "    <tr>\n",
       "      <th>2016-09-01 02:59:59</th>\n",
       "      <td>215.259946</td>\n",
       "      <td>12.884934</td>\n",
       "      <td>7.786667</td>\n",
       "      <td>0.996043</td>\n",
       "      <td>1398.493666</td>\n",
       "      <td>-500.868360</td>\n",
       "      <td>1398.860436</td>\n",
       "      <td>-499.764529</td>\n",
       "      <td>1398.075709</td>\n",
       "      <td>-502.151509</td>\n",
       "      <td>...</td>\n",
       "      <td>8.096893</td>\n",
       "      <td>-500.827423</td>\n",
       "      <td>8.071056</td>\n",
       "      <td>-500.801673</td>\n",
       "      <td>4.905125</td>\n",
       "      <td>-499.828510</td>\n",
       "      <td>24.994862</td>\n",
       "      <td>-500.622559</td>\n",
       "      <td>88.412756</td>\n",
       "      <td>68.143213</td>\n",
       "    </tr>\n",
       "    <tr>\n",
       "      <th>2016-09-01 03:59:59</th>\n",
       "      <td>215.336236</td>\n",
       "      <td>12.006805</td>\n",
       "      <td>7.640000</td>\n",
       "      <td>0.863514</td>\n",
       "      <td>1399.618111</td>\n",
       "      <td>-498.863574</td>\n",
       "      <td>1397.440120</td>\n",
       "      <td>-499.211024</td>\n",
       "      <td>1400.129303</td>\n",
       "      <td>-498.355873</td>\n",
       "      <td>...</td>\n",
       "      <td>8.074946</td>\n",
       "      <td>-499.474407</td>\n",
       "      <td>7.897085</td>\n",
       "      <td>-500.868509</td>\n",
       "      <td>4.931400</td>\n",
       "      <td>-499.963623</td>\n",
       "      <td>24.948919</td>\n",
       "      <td>-498.709987</td>\n",
       "      <td>87.360133</td>\n",
       "      <td>67.776393</td>\n",
       "    </tr>\n",
       "    <tr>\n",
       "      <th>2016-09-01 04:59:59</th>\n",
       "      <td>199.099327</td>\n",
       "      <td>10.682530</td>\n",
       "      <td>7.530000</td>\n",
       "      <td>0.805575</td>\n",
       "      <td>1401.268123</td>\n",
       "      <td>-500.808305</td>\n",
       "      <td>1398.128818</td>\n",
       "      <td>-499.504543</td>\n",
       "      <td>1402.172226</td>\n",
       "      <td>-500.810606</td>\n",
       "      <td>...</td>\n",
       "      <td>8.054678</td>\n",
       "      <td>-500.397500</td>\n",
       "      <td>8.107890</td>\n",
       "      <td>-509.526725</td>\n",
       "      <td>4.957674</td>\n",
       "      <td>-500.360026</td>\n",
       "      <td>25.003331</td>\n",
       "      <td>-500.856333</td>\n",
       "      <td>83.236367</td>\n",
       "      <td>61.467078</td>\n",
       "    </tr>\n",
       "  </tbody>\n",
       "</table>\n",
       "<p>5 rows × 54 columns</p>\n",
       "</div>"
      ],
      "text/plain": [
       "                     primary_cleaner.input.sulfate  \\\n",
       "date                                                 \n",
       "2016-09-01 00:59:59                     210.800909   \n",
       "2016-09-01 01:59:59                     215.392455   \n",
       "2016-09-01 02:59:59                     215.259946   \n",
       "2016-09-01 03:59:59                     215.336236   \n",
       "2016-09-01 04:59:59                     199.099327   \n",
       "\n",
       "                     primary_cleaner.input.depressant  \\\n",
       "date                                                    \n",
       "2016-09-01 00:59:59                         14.993118   \n",
       "2016-09-01 01:59:59                         14.987471   \n",
       "2016-09-01 02:59:59                         12.884934   \n",
       "2016-09-01 03:59:59                         12.006805   \n",
       "2016-09-01 04:59:59                         10.682530   \n",
       "\n",
       "                     primary_cleaner.input.feed_size  \\\n",
       "date                                                   \n",
       "2016-09-01 00:59:59                         8.080000   \n",
       "2016-09-01 01:59:59                         8.080000   \n",
       "2016-09-01 02:59:59                         7.786667   \n",
       "2016-09-01 03:59:59                         7.640000   \n",
       "2016-09-01 04:59:59                         7.530000   \n",
       "\n",
       "                     primary_cleaner.input.xanthate  \\\n",
       "date                                                  \n",
       "2016-09-01 00:59:59                        1.005021   \n",
       "2016-09-01 01:59:59                        0.990469   \n",
       "2016-09-01 02:59:59                        0.996043   \n",
       "2016-09-01 03:59:59                        0.863514   \n",
       "2016-09-01 04:59:59                        0.805575   \n",
       "\n",
       "                     primary_cleaner.state.floatbank8_a_air  \\\n",
       "date                                                          \n",
       "2016-09-01 00:59:59                             1398.981301   \n",
       "2016-09-01 01:59:59                             1398.777912   \n",
       "2016-09-01 02:59:59                             1398.493666   \n",
       "2016-09-01 03:59:59                             1399.618111   \n",
       "2016-09-01 04:59:59                             1401.268123   \n",
       "\n",
       "                     primary_cleaner.state.floatbank8_a_level  \\\n",
       "date                                                            \n",
       "2016-09-01 00:59:59                               -500.225577   \n",
       "2016-09-01 01:59:59                               -500.057435   \n",
       "2016-09-01 02:59:59                               -500.868360   \n",
       "2016-09-01 03:59:59                               -498.863574   \n",
       "2016-09-01 04:59:59                               -500.808305   \n",
       "\n",
       "                     primary_cleaner.state.floatbank8_b_air  \\\n",
       "date                                                          \n",
       "2016-09-01 00:59:59                             1399.144926   \n",
       "2016-09-01 01:59:59                             1398.055362   \n",
       "2016-09-01 02:59:59                             1398.860436   \n",
       "2016-09-01 03:59:59                             1397.440120   \n",
       "2016-09-01 04:59:59                             1398.128818   \n",
       "\n",
       "                     primary_cleaner.state.floatbank8_b_level  \\\n",
       "date                                                            \n",
       "2016-09-01 00:59:59                               -499.919735   \n",
       "2016-09-01 01:59:59                               -499.778182   \n",
       "2016-09-01 02:59:59                               -499.764529   \n",
       "2016-09-01 03:59:59                               -499.211024   \n",
       "2016-09-01 04:59:59                               -499.504543   \n",
       "\n",
       "                     primary_cleaner.state.floatbank8_c_air  \\\n",
       "date                                                          \n",
       "2016-09-01 00:59:59                             1400.102998   \n",
       "2016-09-01 01:59:59                             1396.151033   \n",
       "2016-09-01 02:59:59                             1398.075709   \n",
       "2016-09-01 03:59:59                             1400.129303   \n",
       "2016-09-01 04:59:59                             1402.172226   \n",
       "\n",
       "                     primary_cleaner.state.floatbank8_c_level  ...  \\\n",
       "date                                                           ...   \n",
       "2016-09-01 00:59:59                               -500.704369  ...   \n",
       "2016-09-01 01:59:59                               -499.240168  ...   \n",
       "2016-09-01 02:59:59                               -502.151509  ...   \n",
       "2016-09-01 03:59:59                               -498.355873  ...   \n",
       "2016-09-01 04:59:59                               -500.810606  ...   \n",
       "\n",
       "                     secondary_cleaner.state.floatbank4_b_air  \\\n",
       "date                                                            \n",
       "2016-09-01 00:59:59                                  8.016656   \n",
       "2016-09-01 01:59:59                                  8.130979   \n",
       "2016-09-01 02:59:59                                  8.096893   \n",
       "2016-09-01 03:59:59                                  8.074946   \n",
       "2016-09-01 04:59:59                                  8.054678   \n",
       "\n",
       "                     secondary_cleaner.state.floatbank4_b_level  \\\n",
       "date                                                              \n",
       "2016-09-01 00:59:59                                 -501.289139   \n",
       "2016-09-01 01:59:59                                 -499.634209   \n",
       "2016-09-01 02:59:59                                 -500.827423   \n",
       "2016-09-01 03:59:59                                 -499.474407   \n",
       "2016-09-01 04:59:59                                 -500.397500   \n",
       "\n",
       "                     secondary_cleaner.state.floatbank5_a_air  \\\n",
       "date                                                            \n",
       "2016-09-01 00:59:59                                  7.946562   \n",
       "2016-09-01 01:59:59                                  7.958270   \n",
       "2016-09-01 02:59:59                                  8.071056   \n",
       "2016-09-01 03:59:59                                  7.897085   \n",
       "2016-09-01 04:59:59                                  8.107890   \n",
       "\n",
       "                     secondary_cleaner.state.floatbank5_a_level  \\\n",
       "date                                                              \n",
       "2016-09-01 00:59:59                                 -432.317850   \n",
       "2016-09-01 01:59:59                                 -525.839648   \n",
       "2016-09-01 02:59:59                                 -500.801673   \n",
       "2016-09-01 03:59:59                                 -500.868509   \n",
       "2016-09-01 04:59:59                                 -509.526725   \n",
       "\n",
       "                     secondary_cleaner.state.floatbank5_b_air  \\\n",
       "date                                                            \n",
       "2016-09-01 00:59:59                                  4.872511   \n",
       "2016-09-01 01:59:59                                  4.878850   \n",
       "2016-09-01 02:59:59                                  4.905125   \n",
       "2016-09-01 03:59:59                                  4.931400   \n",
       "2016-09-01 04:59:59                                  4.957674   \n",
       "\n",
       "                     secondary_cleaner.state.floatbank5_b_level  \\\n",
       "date                                                              \n",
       "2016-09-01 00:59:59                                 -500.037437   \n",
       "2016-09-01 01:59:59                                 -500.162375   \n",
       "2016-09-01 02:59:59                                 -499.828510   \n",
       "2016-09-01 03:59:59                                 -499.963623   \n",
       "2016-09-01 04:59:59                                 -500.360026   \n",
       "\n",
       "                     secondary_cleaner.state.floatbank6_a_air  \\\n",
       "date                                                            \n",
       "2016-09-01 00:59:59                                 26.705889   \n",
       "2016-09-01 01:59:59                                 25.019940   \n",
       "2016-09-01 02:59:59                                 24.994862   \n",
       "2016-09-01 03:59:59                                 24.948919   \n",
       "2016-09-01 04:59:59                                 25.003331   \n",
       "\n",
       "                     secondary_cleaner.state.floatbank6_a_level  \\\n",
       "date                                                              \n",
       "2016-09-01 00:59:59                                 -499.709414   \n",
       "2016-09-01 01:59:59                                 -499.819438   \n",
       "2016-09-01 02:59:59                                 -500.622559   \n",
       "2016-09-01 03:59:59                                 -498.709987   \n",
       "2016-09-01 04:59:59                                 -500.856333   \n",
       "\n",
       "                     rougher.output.recovery  final.output.recovery  \n",
       "date                                                                 \n",
       "2016-09-01 00:59:59                89.993421              70.273583  \n",
       "2016-09-01 01:59:59                88.089657              68.910432  \n",
       "2016-09-01 02:59:59                88.412756              68.143213  \n",
       "2016-09-01 03:59:59                87.360133              67.776393  \n",
       "2016-09-01 04:59:59                83.236367              61.467078  \n",
       "\n",
       "[5 rows x 54 columns]"
      ]
     },
     "execution_count": 18,
     "metadata": {},
     "output_type": "execute_result"
    }
   ],
   "source": [
    "gold_recovery_test_merged.head()"
   ]
  },
  {
   "cell_type": "markdown",
   "metadata": {},
   "source": [
    "### gold_recovery_full"
   ]
  },
  {
   "cell_type": "code",
   "execution_count": 19,
   "metadata": {},
   "outputs": [
    {
     "data": {
      "text/html": [
       "<div>\n",
       "<style scoped>\n",
       "    .dataframe tbody tr th:only-of-type {\n",
       "        vertical-align: middle;\n",
       "    }\n",
       "\n",
       "    .dataframe tbody tr th {\n",
       "        vertical-align: top;\n",
       "    }\n",
       "\n",
       "    .dataframe thead th {\n",
       "        text-align: right;\n",
       "    }\n",
       "</style>\n",
       "<table border=\"1\" class=\"dataframe\">\n",
       "  <thead>\n",
       "    <tr style=\"text-align: right;\">\n",
       "      <th></th>\n",
       "      <th>final.output.concentrate_ag</th>\n",
       "      <th>final.output.concentrate_pb</th>\n",
       "      <th>final.output.concentrate_sol</th>\n",
       "      <th>final.output.concentrate_au</th>\n",
       "      <th>final.output.recovery</th>\n",
       "      <th>final.output.tail_ag</th>\n",
       "      <th>final.output.tail_pb</th>\n",
       "      <th>final.output.tail_sol</th>\n",
       "      <th>final.output.tail_au</th>\n",
       "      <th>primary_cleaner.input.sulfate</th>\n",
       "      <th>...</th>\n",
       "      <th>secondary_cleaner.state.floatbank4_a_air</th>\n",
       "      <th>secondary_cleaner.state.floatbank4_a_level</th>\n",
       "      <th>secondary_cleaner.state.floatbank4_b_air</th>\n",
       "      <th>secondary_cleaner.state.floatbank4_b_level</th>\n",
       "      <th>secondary_cleaner.state.floatbank5_a_air</th>\n",
       "      <th>secondary_cleaner.state.floatbank5_a_level</th>\n",
       "      <th>secondary_cleaner.state.floatbank5_b_air</th>\n",
       "      <th>secondary_cleaner.state.floatbank5_b_level</th>\n",
       "      <th>secondary_cleaner.state.floatbank6_a_air</th>\n",
       "      <th>secondary_cleaner.state.floatbank6_a_level</th>\n",
       "    </tr>\n",
       "    <tr>\n",
       "      <th>date</th>\n",
       "      <th></th>\n",
       "      <th></th>\n",
       "      <th></th>\n",
       "      <th></th>\n",
       "      <th></th>\n",
       "      <th></th>\n",
       "      <th></th>\n",
       "      <th></th>\n",
       "      <th></th>\n",
       "      <th></th>\n",
       "      <th></th>\n",
       "      <th></th>\n",
       "      <th></th>\n",
       "      <th></th>\n",
       "      <th></th>\n",
       "      <th></th>\n",
       "      <th></th>\n",
       "      <th></th>\n",
       "      <th></th>\n",
       "      <th></th>\n",
       "      <th></th>\n",
       "    </tr>\n",
       "  </thead>\n",
       "  <tbody>\n",
       "    <tr>\n",
       "      <th>2016-01-15 00:00:00</th>\n",
       "      <td>6.055403</td>\n",
       "      <td>9.889648</td>\n",
       "      <td>5.507324</td>\n",
       "      <td>42.192020</td>\n",
       "      <td>70.541216</td>\n",
       "      <td>10.411962</td>\n",
       "      <td>0.895447</td>\n",
       "      <td>16.904297</td>\n",
       "      <td>2.143149</td>\n",
       "      <td>127.092003</td>\n",
       "      <td>...</td>\n",
       "      <td>14.016835</td>\n",
       "      <td>-502.488007</td>\n",
       "      <td>12.099931</td>\n",
       "      <td>-504.715942</td>\n",
       "      <td>9.925633</td>\n",
       "      <td>-498.310211</td>\n",
       "      <td>8.079666</td>\n",
       "      <td>-500.470978</td>\n",
       "      <td>14.151341</td>\n",
       "      <td>-605.841980</td>\n",
       "    </tr>\n",
       "    <tr>\n",
       "      <th>2016-01-15 01:00:00</th>\n",
       "      <td>6.029369</td>\n",
       "      <td>9.968944</td>\n",
       "      <td>5.257781</td>\n",
       "      <td>42.701629</td>\n",
       "      <td>69.266198</td>\n",
       "      <td>10.462676</td>\n",
       "      <td>0.927452</td>\n",
       "      <td>16.634514</td>\n",
       "      <td>2.224930</td>\n",
       "      <td>125.629232</td>\n",
       "      <td>...</td>\n",
       "      <td>13.992281</td>\n",
       "      <td>-505.503262</td>\n",
       "      <td>11.950531</td>\n",
       "      <td>-501.331529</td>\n",
       "      <td>10.039245</td>\n",
       "      <td>-500.169983</td>\n",
       "      <td>7.984757</td>\n",
       "      <td>-500.582168</td>\n",
       "      <td>13.998353</td>\n",
       "      <td>-599.787184</td>\n",
       "    </tr>\n",
       "    <tr>\n",
       "      <th>2016-01-15 02:00:00</th>\n",
       "      <td>6.055926</td>\n",
       "      <td>10.213995</td>\n",
       "      <td>5.383759</td>\n",
       "      <td>42.657501</td>\n",
       "      <td>68.116445</td>\n",
       "      <td>10.507046</td>\n",
       "      <td>0.953716</td>\n",
       "      <td>16.208849</td>\n",
       "      <td>2.257889</td>\n",
       "      <td>123.819808</td>\n",
       "      <td>...</td>\n",
       "      <td>14.015015</td>\n",
       "      <td>-502.520901</td>\n",
       "      <td>11.912783</td>\n",
       "      <td>-501.133383</td>\n",
       "      <td>10.070913</td>\n",
       "      <td>-500.129135</td>\n",
       "      <td>8.013877</td>\n",
       "      <td>-500.517572</td>\n",
       "      <td>14.028663</td>\n",
       "      <td>-601.427363</td>\n",
       "    </tr>\n",
       "    <tr>\n",
       "      <th>2016-01-15 03:00:00</th>\n",
       "      <td>6.047977</td>\n",
       "      <td>9.977019</td>\n",
       "      <td>4.858634</td>\n",
       "      <td>42.689819</td>\n",
       "      <td>68.347543</td>\n",
       "      <td>10.422762</td>\n",
       "      <td>0.883763</td>\n",
       "      <td>16.532835</td>\n",
       "      <td>2.146849</td>\n",
       "      <td>122.270188</td>\n",
       "      <td>...</td>\n",
       "      <td>14.036510</td>\n",
       "      <td>-500.857308</td>\n",
       "      <td>11.999550</td>\n",
       "      <td>-501.193686</td>\n",
       "      <td>9.970366</td>\n",
       "      <td>-499.201640</td>\n",
       "      <td>7.977324</td>\n",
       "      <td>-500.255908</td>\n",
       "      <td>14.005551</td>\n",
       "      <td>-599.996129</td>\n",
       "    </tr>\n",
       "    <tr>\n",
       "      <th>2016-01-15 04:00:00</th>\n",
       "      <td>6.148599</td>\n",
       "      <td>10.142511</td>\n",
       "      <td>4.939416</td>\n",
       "      <td>42.774141</td>\n",
       "      <td>66.927016</td>\n",
       "      <td>10.360302</td>\n",
       "      <td>0.792826</td>\n",
       "      <td>16.525686</td>\n",
       "      <td>2.055292</td>\n",
       "      <td>117.988169</td>\n",
       "      <td>...</td>\n",
       "      <td>14.027298</td>\n",
       "      <td>-499.838632</td>\n",
       "      <td>11.953070</td>\n",
       "      <td>-501.053894</td>\n",
       "      <td>9.925709</td>\n",
       "      <td>-501.686727</td>\n",
       "      <td>7.894242</td>\n",
       "      <td>-500.356035</td>\n",
       "      <td>13.996647</td>\n",
       "      <td>-601.496691</td>\n",
       "    </tr>\n",
       "  </tbody>\n",
       "</table>\n",
       "<p>5 rows × 86 columns</p>\n",
       "</div>"
      ],
      "text/plain": [
       "                     final.output.concentrate_ag  final.output.concentrate_pb  \\\n",
       "date                                                                            \n",
       "2016-01-15 00:00:00                     6.055403                     9.889648   \n",
       "2016-01-15 01:00:00                     6.029369                     9.968944   \n",
       "2016-01-15 02:00:00                     6.055926                    10.213995   \n",
       "2016-01-15 03:00:00                     6.047977                     9.977019   \n",
       "2016-01-15 04:00:00                     6.148599                    10.142511   \n",
       "\n",
       "                     final.output.concentrate_sol  \\\n",
       "date                                                \n",
       "2016-01-15 00:00:00                      5.507324   \n",
       "2016-01-15 01:00:00                      5.257781   \n",
       "2016-01-15 02:00:00                      5.383759   \n",
       "2016-01-15 03:00:00                      4.858634   \n",
       "2016-01-15 04:00:00                      4.939416   \n",
       "\n",
       "                     final.output.concentrate_au  final.output.recovery  \\\n",
       "date                                                                      \n",
       "2016-01-15 00:00:00                    42.192020              70.541216   \n",
       "2016-01-15 01:00:00                    42.701629              69.266198   \n",
       "2016-01-15 02:00:00                    42.657501              68.116445   \n",
       "2016-01-15 03:00:00                    42.689819              68.347543   \n",
       "2016-01-15 04:00:00                    42.774141              66.927016   \n",
       "\n",
       "                     final.output.tail_ag  final.output.tail_pb  \\\n",
       "date                                                              \n",
       "2016-01-15 00:00:00             10.411962              0.895447   \n",
       "2016-01-15 01:00:00             10.462676              0.927452   \n",
       "2016-01-15 02:00:00             10.507046              0.953716   \n",
       "2016-01-15 03:00:00             10.422762              0.883763   \n",
       "2016-01-15 04:00:00             10.360302              0.792826   \n",
       "\n",
       "                     final.output.tail_sol  final.output.tail_au  \\\n",
       "date                                                               \n",
       "2016-01-15 00:00:00              16.904297              2.143149   \n",
       "2016-01-15 01:00:00              16.634514              2.224930   \n",
       "2016-01-15 02:00:00              16.208849              2.257889   \n",
       "2016-01-15 03:00:00              16.532835              2.146849   \n",
       "2016-01-15 04:00:00              16.525686              2.055292   \n",
       "\n",
       "                     primary_cleaner.input.sulfate  ...  \\\n",
       "date                                                ...   \n",
       "2016-01-15 00:00:00                     127.092003  ...   \n",
       "2016-01-15 01:00:00                     125.629232  ...   \n",
       "2016-01-15 02:00:00                     123.819808  ...   \n",
       "2016-01-15 03:00:00                     122.270188  ...   \n",
       "2016-01-15 04:00:00                     117.988169  ...   \n",
       "\n",
       "                     secondary_cleaner.state.floatbank4_a_air  \\\n",
       "date                                                            \n",
       "2016-01-15 00:00:00                                 14.016835   \n",
       "2016-01-15 01:00:00                                 13.992281   \n",
       "2016-01-15 02:00:00                                 14.015015   \n",
       "2016-01-15 03:00:00                                 14.036510   \n",
       "2016-01-15 04:00:00                                 14.027298   \n",
       "\n",
       "                     secondary_cleaner.state.floatbank4_a_level  \\\n",
       "date                                                              \n",
       "2016-01-15 00:00:00                                 -502.488007   \n",
       "2016-01-15 01:00:00                                 -505.503262   \n",
       "2016-01-15 02:00:00                                 -502.520901   \n",
       "2016-01-15 03:00:00                                 -500.857308   \n",
       "2016-01-15 04:00:00                                 -499.838632   \n",
       "\n",
       "                     secondary_cleaner.state.floatbank4_b_air  \\\n",
       "date                                                            \n",
       "2016-01-15 00:00:00                                 12.099931   \n",
       "2016-01-15 01:00:00                                 11.950531   \n",
       "2016-01-15 02:00:00                                 11.912783   \n",
       "2016-01-15 03:00:00                                 11.999550   \n",
       "2016-01-15 04:00:00                                 11.953070   \n",
       "\n",
       "                     secondary_cleaner.state.floatbank4_b_level  \\\n",
       "date                                                              \n",
       "2016-01-15 00:00:00                                 -504.715942   \n",
       "2016-01-15 01:00:00                                 -501.331529   \n",
       "2016-01-15 02:00:00                                 -501.133383   \n",
       "2016-01-15 03:00:00                                 -501.193686   \n",
       "2016-01-15 04:00:00                                 -501.053894   \n",
       "\n",
       "                     secondary_cleaner.state.floatbank5_a_air  \\\n",
       "date                                                            \n",
       "2016-01-15 00:00:00                                  9.925633   \n",
       "2016-01-15 01:00:00                                 10.039245   \n",
       "2016-01-15 02:00:00                                 10.070913   \n",
       "2016-01-15 03:00:00                                  9.970366   \n",
       "2016-01-15 04:00:00                                  9.925709   \n",
       "\n",
       "                     secondary_cleaner.state.floatbank5_a_level  \\\n",
       "date                                                              \n",
       "2016-01-15 00:00:00                                 -498.310211   \n",
       "2016-01-15 01:00:00                                 -500.169983   \n",
       "2016-01-15 02:00:00                                 -500.129135   \n",
       "2016-01-15 03:00:00                                 -499.201640   \n",
       "2016-01-15 04:00:00                                 -501.686727   \n",
       "\n",
       "                     secondary_cleaner.state.floatbank5_b_air  \\\n",
       "date                                                            \n",
       "2016-01-15 00:00:00                                  8.079666   \n",
       "2016-01-15 01:00:00                                  7.984757   \n",
       "2016-01-15 02:00:00                                  8.013877   \n",
       "2016-01-15 03:00:00                                  7.977324   \n",
       "2016-01-15 04:00:00                                  7.894242   \n",
       "\n",
       "                     secondary_cleaner.state.floatbank5_b_level  \\\n",
       "date                                                              \n",
       "2016-01-15 00:00:00                                 -500.470978   \n",
       "2016-01-15 01:00:00                                 -500.582168   \n",
       "2016-01-15 02:00:00                                 -500.517572   \n",
       "2016-01-15 03:00:00                                 -500.255908   \n",
       "2016-01-15 04:00:00                                 -500.356035   \n",
       "\n",
       "                     secondary_cleaner.state.floatbank6_a_air  \\\n",
       "date                                                            \n",
       "2016-01-15 00:00:00                                 14.151341   \n",
       "2016-01-15 01:00:00                                 13.998353   \n",
       "2016-01-15 02:00:00                                 14.028663   \n",
       "2016-01-15 03:00:00                                 14.005551   \n",
       "2016-01-15 04:00:00                                 13.996647   \n",
       "\n",
       "                     secondary_cleaner.state.floatbank6_a_level  \n",
       "date                                                             \n",
       "2016-01-15 00:00:00                                 -605.841980  \n",
       "2016-01-15 01:00:00                                 -599.787184  \n",
       "2016-01-15 02:00:00                                 -601.427363  \n",
       "2016-01-15 03:00:00                                 -599.996129  \n",
       "2016-01-15 04:00:00                                 -601.496691  \n",
       "\n",
       "[5 rows x 86 columns]"
      ]
     },
     "execution_count": 19,
     "metadata": {},
     "output_type": "execute_result"
    }
   ],
   "source": [
    "gold_recovery_full.head(5)"
   ]
  },
  {
   "cell_type": "code",
   "execution_count": 20,
   "metadata": {
    "scrolled": true
   },
   "outputs": [
    {
     "name": "stdout",
     "output_type": "stream",
     "text": [
      "<class 'pandas.core.frame.DataFrame'>\n",
      "Index: 19439 entries, 2016-01-15 00:00:00 to 2018-08-18 10:59:59\n",
      "Data columns (total 86 columns):\n",
      " #   Column                                              Non-Null Count  Dtype  \n",
      "---  ------                                              --------------  -----  \n",
      " 0   final.output.concentrate_ag                         19438 non-null  float64\n",
      " 1   final.output.concentrate_pb                         19438 non-null  float64\n",
      " 2   final.output.concentrate_sol                        19228 non-null  float64\n",
      " 3   final.output.concentrate_au                         19439 non-null  float64\n",
      " 4   final.output.recovery                               19439 non-null  float64\n",
      " 5   final.output.tail_ag                                19438 non-null  float64\n",
      " 6   final.output.tail_pb                                19338 non-null  float64\n",
      " 7   final.output.tail_sol                               19433 non-null  float64\n",
      " 8   final.output.tail_au                                19439 non-null  float64\n",
      " 9   primary_cleaner.input.sulfate                       19415 non-null  float64\n",
      " 10  primary_cleaner.input.depressant                    19402 non-null  float64\n",
      " 11  primary_cleaner.input.feed_size                     19439 non-null  float64\n",
      " 12  primary_cleaner.input.xanthate                      19335 non-null  float64\n",
      " 13  primary_cleaner.output.concentrate_ag               19439 non-null  float64\n",
      " 14  primary_cleaner.output.concentrate_pb               19323 non-null  float64\n",
      " 15  primary_cleaner.output.concentrate_sol              19069 non-null  float64\n",
      " 16  primary_cleaner.output.concentrate_au               19439 non-null  float64\n",
      " 17  primary_cleaner.output.tail_ag                      19435 non-null  float64\n",
      " 18  primary_cleaner.output.tail_pb                      19418 non-null  float64\n",
      " 19  primary_cleaner.output.tail_sol                     19377 non-null  float64\n",
      " 20  primary_cleaner.output.tail_au                      19439 non-null  float64\n",
      " 21  primary_cleaner.state.floatbank8_a_air              19435 non-null  float64\n",
      " 22  primary_cleaner.state.floatbank8_a_level            19438 non-null  float64\n",
      " 23  primary_cleaner.state.floatbank8_b_air              19435 non-null  float64\n",
      " 24  primary_cleaner.state.floatbank8_b_level            19438 non-null  float64\n",
      " 25  primary_cleaner.state.floatbank8_c_air              19437 non-null  float64\n",
      " 26  primary_cleaner.state.floatbank8_c_level            19438 non-null  float64\n",
      " 27  primary_cleaner.state.floatbank8_d_air              19436 non-null  float64\n",
      " 28  primary_cleaner.state.floatbank8_d_level            19438 non-null  float64\n",
      " 29  rougher.calculation.sulfate_to_au_concentrate       19437 non-null  float64\n",
      " 30  rougher.calculation.floatbank10_sulfate_to_au_feed  19437 non-null  float64\n",
      " 31  rougher.calculation.floatbank11_sulfate_to_au_feed  19437 non-null  float64\n",
      " 32  rougher.calculation.au_pb_ratio                     19439 non-null  float64\n",
      " 33  rougher.input.feed_ag                               19439 non-null  float64\n",
      " 34  rougher.input.feed_pb                               19339 non-null  float64\n",
      " 35  rougher.input.feed_rate                             19428 non-null  float64\n",
      " 36  rougher.input.feed_size                             19294 non-null  float64\n",
      " 37  rougher.input.feed_sol                              19340 non-null  float64\n",
      " 38  rougher.input.feed_au                               19439 non-null  float64\n",
      " 39  rougher.input.floatbank10_sulfate                   19405 non-null  float64\n",
      " 40  rougher.input.floatbank10_xanthate                  19431 non-null  float64\n",
      " 41  rougher.input.floatbank11_sulfate                   19395 non-null  float64\n",
      " 42  rougher.input.floatbank11_xanthate                  18986 non-null  float64\n",
      " 43  rougher.output.concentrate_ag                       19439 non-null  float64\n",
      " 44  rougher.output.concentrate_pb                       19439 non-null  float64\n",
      " 45  rougher.output.concentrate_sol                      19416 non-null  float64\n",
      " 46  rougher.output.concentrate_au                       19439 non-null  float64\n",
      " 47  rougher.output.recovery                             19439 non-null  float64\n",
      " 48  rougher.output.tail_ag                              19438 non-null  float64\n",
      " 49  rougher.output.tail_pb                              19439 non-null  float64\n",
      " 50  rougher.output.tail_sol                             19439 non-null  float64\n",
      " 51  rougher.output.tail_au                              19439 non-null  float64\n",
      " 52  rougher.state.floatbank10_a_air                     19438 non-null  float64\n",
      " 53  rougher.state.floatbank10_a_level                   19438 non-null  float64\n",
      " 54  rougher.state.floatbank10_b_air                     19438 non-null  float64\n",
      " 55  rougher.state.floatbank10_b_level                   19438 non-null  float64\n",
      " 56  rougher.state.floatbank10_c_air                     19438 non-null  float64\n",
      " 57  rougher.state.floatbank10_c_level                   19438 non-null  float64\n",
      " 58  rougher.state.floatbank10_d_air                     19439 non-null  float64\n",
      " 59  rougher.state.floatbank10_d_level                   19439 non-null  float64\n",
      " 60  rougher.state.floatbank10_e_air                     19003 non-null  float64\n",
      " 61  rougher.state.floatbank10_e_level                   19439 non-null  float64\n",
      " 62  rougher.state.floatbank10_f_air                     19439 non-null  float64\n",
      " 63  rougher.state.floatbank10_f_level                   19439 non-null  float64\n",
      " 64  secondary_cleaner.output.tail_ag                    19437 non-null  float64\n",
      " 65  secondary_cleaner.output.tail_pb                    19427 non-null  float64\n",
      " 66  secondary_cleaner.output.tail_sol                   17691 non-null  float64\n",
      " 67  secondary_cleaner.output.tail_au                    19439 non-null  float64\n",
      " 68  secondary_cleaner.state.floatbank2_a_air            19219 non-null  float64\n",
      " 69  secondary_cleaner.state.floatbank2_a_level          19438 non-null  float64\n",
      " 70  secondary_cleaner.state.floatbank2_b_air            19416 non-null  float64\n",
      " 71  secondary_cleaner.state.floatbank2_b_level          19438 non-null  float64\n",
      " 72  secondary_cleaner.state.floatbank3_a_air            19426 non-null  float64\n",
      " 73  secondary_cleaner.state.floatbank3_a_level          19438 non-null  float64\n",
      " 74  secondary_cleaner.state.floatbank3_b_air            19438 non-null  float64\n",
      " 75  secondary_cleaner.state.floatbank3_b_level          19438 non-null  float64\n",
      " 76  secondary_cleaner.state.floatbank4_a_air            19433 non-null  float64\n",
      " 77  secondary_cleaner.state.floatbank4_a_level          19438 non-null  float64\n",
      " 78  secondary_cleaner.state.floatbank4_b_air            19438 non-null  float64\n",
      " 79  secondary_cleaner.state.floatbank4_b_level          19438 non-null  float64\n",
      " 80  secondary_cleaner.state.floatbank5_a_air            19438 non-null  float64\n",
      " 81  secondary_cleaner.state.floatbank5_a_level          19438 non-null  float64\n",
      " 82  secondary_cleaner.state.floatbank5_b_air            19438 non-null  float64\n",
      " 83  secondary_cleaner.state.floatbank5_b_level          19438 non-null  float64\n",
      " 84  secondary_cleaner.state.floatbank6_a_air            19437 non-null  float64\n",
      " 85  secondary_cleaner.state.floatbank6_a_level          19438 non-null  float64\n",
      "dtypes: float64(86)\n",
      "memory usage: 13.4+ MB\n"
     ]
    }
   ],
   "source": [
    "gold_recovery_full.info()"
   ]
  },
  {
   "cell_type": "code",
   "execution_count": 21,
   "metadata": {},
   "outputs": [
    {
     "data": {
      "text/plain": [
       "final.output.concentrate_ag                     1\n",
       "final.output.concentrate_pb                     1\n",
       "final.output.concentrate_sol                  211\n",
       "final.output.concentrate_au                     0\n",
       "final.output.recovery                           0\n",
       "                                             ... \n",
       "secondary_cleaner.state.floatbank5_a_level      1\n",
       "secondary_cleaner.state.floatbank5_b_air        1\n",
       "secondary_cleaner.state.floatbank5_b_level      1\n",
       "secondary_cleaner.state.floatbank6_a_air        2\n",
       "secondary_cleaner.state.floatbank6_a_level      1\n",
       "Length: 86, dtype: int64"
      ]
     },
     "execution_count": 21,
     "metadata": {},
     "output_type": "execute_result"
    }
   ],
   "source": [
    "gold_recovery_full.isna().sum()"
   ]
  },
  {
   "cell_type": "code",
   "execution_count": 22,
   "metadata": {},
   "outputs": [
    {
     "data": {
      "text/plain": [
       "0"
      ]
     },
     "execution_count": 22,
     "metadata": {},
     "output_type": "execute_result"
    }
   ],
   "source": [
    "gold_recovery_full.duplicated().sum()"
   ]
  },
  {
   "cell_type": "code",
   "execution_count": 23,
   "metadata": {},
   "outputs": [],
   "source": [
    "gold_recovery_full = gold_recovery_full.dropna()"
   ]
  },
  {
   "cell_type": "code",
   "execution_count": 24,
   "metadata": {
    "scrolled": false
   },
   "outputs": [
    {
     "data": {
      "text/plain": [
       "final.output.concentrate_ag                   0\n",
       "final.output.concentrate_pb                   0\n",
       "final.output.concentrate_sol                  0\n",
       "final.output.concentrate_au                   0\n",
       "final.output.recovery                         0\n",
       "                                             ..\n",
       "secondary_cleaner.state.floatbank5_a_level    0\n",
       "secondary_cleaner.state.floatbank5_b_air      0\n",
       "secondary_cleaner.state.floatbank5_b_level    0\n",
       "secondary_cleaner.state.floatbank6_a_air      0\n",
       "secondary_cleaner.state.floatbank6_a_level    0\n",
       "Length: 86, dtype: int64"
      ]
     },
     "execution_count": 24,
     "metadata": {},
     "output_type": "execute_result"
    }
   ],
   "source": [
    "gold_recovery_full.isna().sum()"
   ]
  },
  {
   "cell_type": "code",
   "execution_count": 25,
   "metadata": {
    "scrolled": false
   },
   "outputs": [
    {
     "data": {
      "text/html": [
       "<div>\n",
       "<style scoped>\n",
       "    .dataframe tbody tr th:only-of-type {\n",
       "        vertical-align: middle;\n",
       "    }\n",
       "\n",
       "    .dataframe tbody tr th {\n",
       "        vertical-align: top;\n",
       "    }\n",
       "\n",
       "    .dataframe thead th {\n",
       "        text-align: right;\n",
       "    }\n",
       "</style>\n",
       "<table border=\"1\" class=\"dataframe\">\n",
       "  <thead>\n",
       "    <tr style=\"text-align: right;\">\n",
       "      <th></th>\n",
       "      <th>final.output.concentrate_ag</th>\n",
       "      <th>final.output.concentrate_pb</th>\n",
       "      <th>final.output.concentrate_sol</th>\n",
       "      <th>final.output.concentrate_au</th>\n",
       "      <th>final.output.recovery</th>\n",
       "      <th>final.output.tail_ag</th>\n",
       "      <th>final.output.tail_pb</th>\n",
       "      <th>final.output.tail_sol</th>\n",
       "      <th>final.output.tail_au</th>\n",
       "      <th>primary_cleaner.input.sulfate</th>\n",
       "      <th>...</th>\n",
       "      <th>secondary_cleaner.state.floatbank4_a_air</th>\n",
       "      <th>secondary_cleaner.state.floatbank4_a_level</th>\n",
       "      <th>secondary_cleaner.state.floatbank4_b_air</th>\n",
       "      <th>secondary_cleaner.state.floatbank4_b_level</th>\n",
       "      <th>secondary_cleaner.state.floatbank5_a_air</th>\n",
       "      <th>secondary_cleaner.state.floatbank5_a_level</th>\n",
       "      <th>secondary_cleaner.state.floatbank5_b_air</th>\n",
       "      <th>secondary_cleaner.state.floatbank5_b_level</th>\n",
       "      <th>secondary_cleaner.state.floatbank6_a_air</th>\n",
       "      <th>secondary_cleaner.state.floatbank6_a_level</th>\n",
       "    </tr>\n",
       "    <tr>\n",
       "      <th>date</th>\n",
       "      <th></th>\n",
       "      <th></th>\n",
       "      <th></th>\n",
       "      <th></th>\n",
       "      <th></th>\n",
       "      <th></th>\n",
       "      <th></th>\n",
       "      <th></th>\n",
       "      <th></th>\n",
       "      <th></th>\n",
       "      <th></th>\n",
       "      <th></th>\n",
       "      <th></th>\n",
       "      <th></th>\n",
       "      <th></th>\n",
       "      <th></th>\n",
       "      <th></th>\n",
       "      <th></th>\n",
       "      <th></th>\n",
       "      <th></th>\n",
       "      <th></th>\n",
       "    </tr>\n",
       "  </thead>\n",
       "  <tbody>\n",
       "    <tr>\n",
       "      <th>2016-01-15 00:00:00</th>\n",
       "      <td>6.055403</td>\n",
       "      <td>9.889648</td>\n",
       "      <td>5.507324</td>\n",
       "      <td>42.192020</td>\n",
       "      <td>70.541216</td>\n",
       "      <td>10.411962</td>\n",
       "      <td>0.895447</td>\n",
       "      <td>16.904297</td>\n",
       "      <td>2.143149</td>\n",
       "      <td>127.092003</td>\n",
       "      <td>...</td>\n",
       "      <td>14.016835</td>\n",
       "      <td>-502.488007</td>\n",
       "      <td>12.099931</td>\n",
       "      <td>-504.715942</td>\n",
       "      <td>9.925633</td>\n",
       "      <td>-498.310211</td>\n",
       "      <td>8.079666</td>\n",
       "      <td>-500.470978</td>\n",
       "      <td>14.151341</td>\n",
       "      <td>-605.841980</td>\n",
       "    </tr>\n",
       "    <tr>\n",
       "      <th>2016-01-15 01:00:00</th>\n",
       "      <td>6.029369</td>\n",
       "      <td>9.968944</td>\n",
       "      <td>5.257781</td>\n",
       "      <td>42.701629</td>\n",
       "      <td>69.266198</td>\n",
       "      <td>10.462676</td>\n",
       "      <td>0.927452</td>\n",
       "      <td>16.634514</td>\n",
       "      <td>2.224930</td>\n",
       "      <td>125.629232</td>\n",
       "      <td>...</td>\n",
       "      <td>13.992281</td>\n",
       "      <td>-505.503262</td>\n",
       "      <td>11.950531</td>\n",
       "      <td>-501.331529</td>\n",
       "      <td>10.039245</td>\n",
       "      <td>-500.169983</td>\n",
       "      <td>7.984757</td>\n",
       "      <td>-500.582168</td>\n",
       "      <td>13.998353</td>\n",
       "      <td>-599.787184</td>\n",
       "    </tr>\n",
       "    <tr>\n",
       "      <th>2016-01-15 02:00:00</th>\n",
       "      <td>6.055926</td>\n",
       "      <td>10.213995</td>\n",
       "      <td>5.383759</td>\n",
       "      <td>42.657501</td>\n",
       "      <td>68.116445</td>\n",
       "      <td>10.507046</td>\n",
       "      <td>0.953716</td>\n",
       "      <td>16.208849</td>\n",
       "      <td>2.257889</td>\n",
       "      <td>123.819808</td>\n",
       "      <td>...</td>\n",
       "      <td>14.015015</td>\n",
       "      <td>-502.520901</td>\n",
       "      <td>11.912783</td>\n",
       "      <td>-501.133383</td>\n",
       "      <td>10.070913</td>\n",
       "      <td>-500.129135</td>\n",
       "      <td>8.013877</td>\n",
       "      <td>-500.517572</td>\n",
       "      <td>14.028663</td>\n",
       "      <td>-601.427363</td>\n",
       "    </tr>\n",
       "    <tr>\n",
       "      <th>2016-01-15 03:00:00</th>\n",
       "      <td>6.047977</td>\n",
       "      <td>9.977019</td>\n",
       "      <td>4.858634</td>\n",
       "      <td>42.689819</td>\n",
       "      <td>68.347543</td>\n",
       "      <td>10.422762</td>\n",
       "      <td>0.883763</td>\n",
       "      <td>16.532835</td>\n",
       "      <td>2.146849</td>\n",
       "      <td>122.270188</td>\n",
       "      <td>...</td>\n",
       "      <td>14.036510</td>\n",
       "      <td>-500.857308</td>\n",
       "      <td>11.999550</td>\n",
       "      <td>-501.193686</td>\n",
       "      <td>9.970366</td>\n",
       "      <td>-499.201640</td>\n",
       "      <td>7.977324</td>\n",
       "      <td>-500.255908</td>\n",
       "      <td>14.005551</td>\n",
       "      <td>-599.996129</td>\n",
       "    </tr>\n",
       "    <tr>\n",
       "      <th>2016-01-15 04:00:00</th>\n",
       "      <td>6.148599</td>\n",
       "      <td>10.142511</td>\n",
       "      <td>4.939416</td>\n",
       "      <td>42.774141</td>\n",
       "      <td>66.927016</td>\n",
       "      <td>10.360302</td>\n",
       "      <td>0.792826</td>\n",
       "      <td>16.525686</td>\n",
       "      <td>2.055292</td>\n",
       "      <td>117.988169</td>\n",
       "      <td>...</td>\n",
       "      <td>14.027298</td>\n",
       "      <td>-499.838632</td>\n",
       "      <td>11.953070</td>\n",
       "      <td>-501.053894</td>\n",
       "      <td>9.925709</td>\n",
       "      <td>-501.686727</td>\n",
       "      <td>7.894242</td>\n",
       "      <td>-500.356035</td>\n",
       "      <td>13.996647</td>\n",
       "      <td>-601.496691</td>\n",
       "    </tr>\n",
       "  </tbody>\n",
       "</table>\n",
       "<p>5 rows × 86 columns</p>\n",
       "</div>"
      ],
      "text/plain": [
       "                     final.output.concentrate_ag  final.output.concentrate_pb  \\\n",
       "date                                                                            \n",
       "2016-01-15 00:00:00                     6.055403                     9.889648   \n",
       "2016-01-15 01:00:00                     6.029369                     9.968944   \n",
       "2016-01-15 02:00:00                     6.055926                    10.213995   \n",
       "2016-01-15 03:00:00                     6.047977                     9.977019   \n",
       "2016-01-15 04:00:00                     6.148599                    10.142511   \n",
       "\n",
       "                     final.output.concentrate_sol  \\\n",
       "date                                                \n",
       "2016-01-15 00:00:00                      5.507324   \n",
       "2016-01-15 01:00:00                      5.257781   \n",
       "2016-01-15 02:00:00                      5.383759   \n",
       "2016-01-15 03:00:00                      4.858634   \n",
       "2016-01-15 04:00:00                      4.939416   \n",
       "\n",
       "                     final.output.concentrate_au  final.output.recovery  \\\n",
       "date                                                                      \n",
       "2016-01-15 00:00:00                    42.192020              70.541216   \n",
       "2016-01-15 01:00:00                    42.701629              69.266198   \n",
       "2016-01-15 02:00:00                    42.657501              68.116445   \n",
       "2016-01-15 03:00:00                    42.689819              68.347543   \n",
       "2016-01-15 04:00:00                    42.774141              66.927016   \n",
       "\n",
       "                     final.output.tail_ag  final.output.tail_pb  \\\n",
       "date                                                              \n",
       "2016-01-15 00:00:00             10.411962              0.895447   \n",
       "2016-01-15 01:00:00             10.462676              0.927452   \n",
       "2016-01-15 02:00:00             10.507046              0.953716   \n",
       "2016-01-15 03:00:00             10.422762              0.883763   \n",
       "2016-01-15 04:00:00             10.360302              0.792826   \n",
       "\n",
       "                     final.output.tail_sol  final.output.tail_au  \\\n",
       "date                                                               \n",
       "2016-01-15 00:00:00              16.904297              2.143149   \n",
       "2016-01-15 01:00:00              16.634514              2.224930   \n",
       "2016-01-15 02:00:00              16.208849              2.257889   \n",
       "2016-01-15 03:00:00              16.532835              2.146849   \n",
       "2016-01-15 04:00:00              16.525686              2.055292   \n",
       "\n",
       "                     primary_cleaner.input.sulfate  ...  \\\n",
       "date                                                ...   \n",
       "2016-01-15 00:00:00                     127.092003  ...   \n",
       "2016-01-15 01:00:00                     125.629232  ...   \n",
       "2016-01-15 02:00:00                     123.819808  ...   \n",
       "2016-01-15 03:00:00                     122.270188  ...   \n",
       "2016-01-15 04:00:00                     117.988169  ...   \n",
       "\n",
       "                     secondary_cleaner.state.floatbank4_a_air  \\\n",
       "date                                                            \n",
       "2016-01-15 00:00:00                                 14.016835   \n",
       "2016-01-15 01:00:00                                 13.992281   \n",
       "2016-01-15 02:00:00                                 14.015015   \n",
       "2016-01-15 03:00:00                                 14.036510   \n",
       "2016-01-15 04:00:00                                 14.027298   \n",
       "\n",
       "                     secondary_cleaner.state.floatbank4_a_level  \\\n",
       "date                                                              \n",
       "2016-01-15 00:00:00                                 -502.488007   \n",
       "2016-01-15 01:00:00                                 -505.503262   \n",
       "2016-01-15 02:00:00                                 -502.520901   \n",
       "2016-01-15 03:00:00                                 -500.857308   \n",
       "2016-01-15 04:00:00                                 -499.838632   \n",
       "\n",
       "                     secondary_cleaner.state.floatbank4_b_air  \\\n",
       "date                                                            \n",
       "2016-01-15 00:00:00                                 12.099931   \n",
       "2016-01-15 01:00:00                                 11.950531   \n",
       "2016-01-15 02:00:00                                 11.912783   \n",
       "2016-01-15 03:00:00                                 11.999550   \n",
       "2016-01-15 04:00:00                                 11.953070   \n",
       "\n",
       "                     secondary_cleaner.state.floatbank4_b_level  \\\n",
       "date                                                              \n",
       "2016-01-15 00:00:00                                 -504.715942   \n",
       "2016-01-15 01:00:00                                 -501.331529   \n",
       "2016-01-15 02:00:00                                 -501.133383   \n",
       "2016-01-15 03:00:00                                 -501.193686   \n",
       "2016-01-15 04:00:00                                 -501.053894   \n",
       "\n",
       "                     secondary_cleaner.state.floatbank5_a_air  \\\n",
       "date                                                            \n",
       "2016-01-15 00:00:00                                  9.925633   \n",
       "2016-01-15 01:00:00                                 10.039245   \n",
       "2016-01-15 02:00:00                                 10.070913   \n",
       "2016-01-15 03:00:00                                  9.970366   \n",
       "2016-01-15 04:00:00                                  9.925709   \n",
       "\n",
       "                     secondary_cleaner.state.floatbank5_a_level  \\\n",
       "date                                                              \n",
       "2016-01-15 00:00:00                                 -498.310211   \n",
       "2016-01-15 01:00:00                                 -500.169983   \n",
       "2016-01-15 02:00:00                                 -500.129135   \n",
       "2016-01-15 03:00:00                                 -499.201640   \n",
       "2016-01-15 04:00:00                                 -501.686727   \n",
       "\n",
       "                     secondary_cleaner.state.floatbank5_b_air  \\\n",
       "date                                                            \n",
       "2016-01-15 00:00:00                                  8.079666   \n",
       "2016-01-15 01:00:00                                  7.984757   \n",
       "2016-01-15 02:00:00                                  8.013877   \n",
       "2016-01-15 03:00:00                                  7.977324   \n",
       "2016-01-15 04:00:00                                  7.894242   \n",
       "\n",
       "                     secondary_cleaner.state.floatbank5_b_level  \\\n",
       "date                                                              \n",
       "2016-01-15 00:00:00                                 -500.470978   \n",
       "2016-01-15 01:00:00                                 -500.582168   \n",
       "2016-01-15 02:00:00                                 -500.517572   \n",
       "2016-01-15 03:00:00                                 -500.255908   \n",
       "2016-01-15 04:00:00                                 -500.356035   \n",
       "\n",
       "                     secondary_cleaner.state.floatbank6_a_air  \\\n",
       "date                                                            \n",
       "2016-01-15 00:00:00                                 14.151341   \n",
       "2016-01-15 01:00:00                                 13.998353   \n",
       "2016-01-15 02:00:00                                 14.028663   \n",
       "2016-01-15 03:00:00                                 14.005551   \n",
       "2016-01-15 04:00:00                                 13.996647   \n",
       "\n",
       "                     secondary_cleaner.state.floatbank6_a_level  \n",
       "date                                                             \n",
       "2016-01-15 00:00:00                                 -605.841980  \n",
       "2016-01-15 01:00:00                                 -599.787184  \n",
       "2016-01-15 02:00:00                                 -601.427363  \n",
       "2016-01-15 03:00:00                                 -599.996129  \n",
       "2016-01-15 04:00:00                                 -601.496691  \n",
       "\n",
       "[5 rows x 86 columns]"
      ]
     },
     "execution_count": 25,
     "metadata": {},
     "output_type": "execute_result"
    }
   ],
   "source": [
    "gold_recovery_full.head()"
   ]
  },
  {
   "cell_type": "markdown",
   "metadata": {},
   "source": [
    "### Вывод"
   ]
  },
  {
   "cell_type": "markdown",
   "metadata": {},
   "source": [
    "Были проанализированны предаставленные данные. В таблицах присутствовали пропуски данных, которые мы никак не можем заменить, поэтому было принято решение удалить эти данные. \n",
    "\n",
    "Также, во всех таблицах был удален столбец `date` так как он не будет использоваться в построеннии модели.\n",
    "\n",
    "В тестовой выборке отсуствуют столбцы этапов `rougher.output`, `rougher.calculation`, `final.output`, `primary_cleaner.output` и `secondary_cleaner.output`. Эти данные будут получены по результатам технологического процесса.  Остальные столбцы исторически известны."
   ]
  },
  {
   "cell_type": "markdown",
   "metadata": {},
   "source": [
    "## Анализ данных"
   ]
  },
  {
   "cell_type": "markdown",
   "metadata": {},
   "source": [
    "### Распределение концентрации металлов на различных ступенях обработки"
   ]
  },
  {
   "cell_type": "code",
   "execution_count": 26,
   "metadata": {},
   "outputs": [],
   "source": [
    "def graph (metal, title):\n",
    "    x0 = gold_recovery_full[f'rougher.input.feed_{metal}']\n",
    "    x1 = gold_recovery_full[f'rougher.output.concentrate_{metal}']\n",
    "    x2 = gold_recovery_full[f'primary_cleaner.output.concentrate_{metal}']\n",
    "    x3 = gold_recovery_full[f'final.output.concentrate_{metal}']\n",
    "    \n",
    "    plt.figure(figsize=(13,10), dpi= 80)\n",
    "    sns.distplot(x0, color=\"dodgerblue\", label=\"Сырье\", hist_kws={'alpha':.7}, kde_kws={'linewidth':3})\n",
    "    sns.distplot(x1, color=\"orange\", label=\"Черновой\", hist_kws={'alpha':.7}, kde_kws={'linewidth':3})\n",
    "    sns.distplot(x2, color=\"g\", label=\"Первичная очистка\", hist_kws={'alpha':.7}, kde_kws={'linewidth':3})\n",
    "    sns.distplot(x3, color=\"y\", label=\"Финальный этап\", hist_kws={'alpha':.7}, kde_kws={'linewidth':3})\n",
    "\n",
    "    plt.title(label=f'Концентрация {title} на различных этапах очистки', fontsize=22)\n",
    "    plt.xlabel('Концентрация')\n",
    "    plt.ylabel('Количество наблюдений')\n",
    "    plt.legend()\n",
    "    plt.show()"
   ]
  },
  {
   "cell_type": "code",
   "execution_count": 27,
   "metadata": {},
   "outputs": [
    {
     "data": {
      "image/png": "[encoded data removed]",
      "text/plain": [
       "<Figure size 1040x800 with 1 Axes>"
      ]
     },
     "metadata": {
      "needs_background": "light"
     },
     "output_type": "display_data"
    }
   ],
   "source": [
    "graph('au', 'золото')"
   ]
  },
  {
   "cell_type": "code",
   "execution_count": 28,
   "metadata": {},
   "outputs": [
    {
     "data": {
      "image/png": "[encoded data removed]",
      "text/plain": [
       "<Figure size 1040x800 with 1 Axes>"
      ]
     },
     "metadata": {
      "needs_background": "light"
     },
     "output_type": "display_data"
    }
   ],
   "source": [
    "graph('ag', 'серебра')"
   ]
  },
  {
   "cell_type": "code",
   "execution_count": 29,
   "metadata": {},
   "outputs": [
    {
     "data": {
      "image/png": "[encoded data removed]",
      "text/plain": [
       "<Figure size 1040x800 with 1 Axes>"
      ]
     },
     "metadata": {
      "needs_background": "light"
     },
     "output_type": "display_data"
    }
   ],
   "source": [
    "graph('pb', 'свинца')"
   ]
  },
  {
   "cell_type": "markdown",
   "metadata": {},
   "source": [
    "Вывод:\n",
    "\n",
    "* Концентрация золота увеличивается после каждого этапа очистки\n",
    "* Концентрация серебра увеличивается после флотации и уменьшается после следующих этапов\n",
    "* Концентрация свинца снижается после первого этапа очистки и незначительно изменяется в дальнейшем"
   ]
  },
  {
   "cell_type": "markdown",
   "metadata": {},
   "source": [
    "### Распределения гранул сырья"
   ]
  },
  {
   "cell_type": "code",
   "execution_count": 30,
   "metadata": {},
   "outputs": [],
   "source": [
    "def granul (size, title):\n",
    "    x0 = gold_recovery_train[f'{size}.input.feed_size']\n",
    "    x1 = gold_recovery_test[f'{size}.input.feed_size']\n",
    "    \n",
    "    plt.figure(figsize=(13,10), dpi= 80)\n",
    "    sns.distplot(x0, color=\"dodgerblue\", label=\"gold_recovery_train\", hist_kws={'alpha':.7}, kde_kws={'linewidth':3})\n",
    "    sns.distplot(x1, color=\"orange\", label=\"gold_recovery_test\", hist_kws={'alpha':.7}, kde_kws={'linewidth':3})\n",
    "\n",
    "    plt.title(label=f'Распределение размеров гранул сырья для {title}', fontsize=22)\n",
    "    plt.xlabel('Размер гранул')\n",
    "    plt.ylabel('Количество наблюдений')\n",
    "    plt.legend()\n",
    "    plt.show()"
   ]
  },
  {
   "cell_type": "code",
   "execution_count": 31,
   "metadata": {
    "scrolled": false
   },
   "outputs": [
    {
     "data": {
      "image/png": "[encoded data removed]",
      "text/plain": [
       "<Figure size 1040x800 with 1 Axes>"
      ]
     },
     "metadata": {
      "needs_background": "light"
     },
     "output_type": "display_data"
    }
   ],
   "source": [
    "granul('rougher', 'флотации')"
   ]
  },
  {
   "cell_type": "code",
   "execution_count": 32,
   "metadata": {
    "scrolled": false
   },
   "outputs": [
    {
     "data": {
      "image/png": "[encoded data removed]",
      "text/plain": [
       "<Figure size 1040x800 with 1 Axes>"
      ]
     },
     "metadata": {
      "needs_background": "light"
     },
     "output_type": "display_data"
    }
   ],
   "source": [
    "granul('primary_cleaner', 'очистки')"
   ]
  },
  {
   "cell_type": "markdown",
   "metadata": {},
   "source": [
    "* Как мы видим распределения очень похожи"
   ]
  },
  {
   "cell_type": "markdown",
   "metadata": {},
   "source": [
    "### Суммарная концентрация всех веществ на разных этапах очистки"
   ]
  },
  {
   "cell_type": "code",
   "execution_count": 33,
   "metadata": {},
   "outputs": [],
   "source": [
    "metal = ['ag', 'au', 'pb', 'sol']\n",
    "steps = ['rougher.input.feed_',\n",
    "        'rougher.output.concentrate_', \n",
    "         'final.output.concentrate_']"
   ]
  },
  {
   "cell_type": "code",
   "execution_count": 34,
   "metadata": {},
   "outputs": [],
   "source": [
    "for step in steps:\n",
    "    gold_recovery_full[step] = gold_recovery_full[step + metal[0]] + gold_recovery_full[step + metal[1]] + gold_recovery_full[step + metal[2]] + gold_recovery_full[step + metal[3]]"
   ]
  },
  {
   "cell_type": "code",
   "execution_count": 35,
   "metadata": {},
   "outputs": [
    {
     "data": {
      "image/png": "[encoded data removed]",
      "text/plain": [
       "<Figure size 1040x800 with 1 Axes>"
      ]
     },
     "metadata": {
      "needs_background": "light"
     },
     "output_type": "display_data"
    }
   ],
   "source": [
    "x0 = gold_recovery_full['rougher.input.feed_']\n",
    "x1 = gold_recovery_full['rougher.output.concentrate_']\n",
    "x2 = gold_recovery_full['final.output.concentrate_']\n",
    " \n",
    "plt.figure(figsize=(13,10), dpi= 80)\n",
    "sns.distplot(x0, color=\"dodgerblue\", label=\"Сырье\", hist_kws={'alpha':.7}, kde_kws={'linewidth':3})\n",
    "sns.distplot(x1, color=\"orange\", label=\"Черновой\", hist_kws={'alpha':.7}, kde_kws={'linewidth':3})\n",
    "sns.distplot(x2, color=\"g\", label=\"Финальный этап\", hist_kws={'alpha':.7}, kde_kws={'linewidth':3})\n",
    "\n",
    "plt.title(label='Концентрация всех веществ на разных стадиях', fontsize=22)\n",
    "plt.xlabel('Концентрация')\n",
    "plt.ylabel('Количество наблюдений')\n",
    "plt.legend()\n",
    "plt.show()"
   ]
  },
  {
   "cell_type": "markdown",
   "metadata": {},
   "source": [
    "По распределению видно, что присутствуют выбросы. Есть много значению от 0 до 40, которые можно удалить. их очень много,а чистота их нулевая. Поэтому, думаю можно их удалить, чтобы не мешали обучению модели."
   ]
  },
  {
   "cell_type": "code",
   "execution_count": 36,
   "metadata": {},
   "outputs": [
    {
     "data": {
      "text/html": [
       "<div>\n",
       "<style scoped>\n",
       "    .dataframe tbody tr th:only-of-type {\n",
       "        vertical-align: middle;\n",
       "    }\n",
       "\n",
       "    .dataframe tbody tr th {\n",
       "        vertical-align: top;\n",
       "    }\n",
       "\n",
       "    .dataframe thead th {\n",
       "        text-align: right;\n",
       "    }\n",
       "</style>\n",
       "<table border=\"1\" class=\"dataframe\">\n",
       "  <thead>\n",
       "    <tr style=\"text-align: right;\">\n",
       "      <th></th>\n",
       "      <th>final.output.concentrate_ag</th>\n",
       "      <th>final.output.concentrate_pb</th>\n",
       "      <th>final.output.concentrate_sol</th>\n",
       "      <th>final.output.concentrate_au</th>\n",
       "      <th>final.output.recovery</th>\n",
       "      <th>final.output.tail_ag</th>\n",
       "      <th>final.output.tail_pb</th>\n",
       "      <th>final.output.tail_sol</th>\n",
       "      <th>final.output.tail_au</th>\n",
       "      <th>primary_cleaner.input.sulfate</th>\n",
       "      <th>...</th>\n",
       "      <th>secondary_cleaner.state.floatbank4_b_level</th>\n",
       "      <th>secondary_cleaner.state.floatbank5_a_air</th>\n",
       "      <th>secondary_cleaner.state.floatbank5_a_level</th>\n",
       "      <th>secondary_cleaner.state.floatbank5_b_air</th>\n",
       "      <th>secondary_cleaner.state.floatbank5_b_level</th>\n",
       "      <th>secondary_cleaner.state.floatbank6_a_air</th>\n",
       "      <th>secondary_cleaner.state.floatbank6_a_level</th>\n",
       "      <th>rougher.input.feed_</th>\n",
       "      <th>rougher.output.concentrate_</th>\n",
       "      <th>final.output.concentrate_</th>\n",
       "    </tr>\n",
       "    <tr>\n",
       "      <th>date</th>\n",
       "      <th></th>\n",
       "      <th></th>\n",
       "      <th></th>\n",
       "      <th></th>\n",
       "      <th></th>\n",
       "      <th></th>\n",
       "      <th></th>\n",
       "      <th></th>\n",
       "      <th></th>\n",
       "      <th></th>\n",
       "      <th></th>\n",
       "      <th></th>\n",
       "      <th></th>\n",
       "      <th></th>\n",
       "      <th></th>\n",
       "      <th></th>\n",
       "      <th></th>\n",
       "      <th></th>\n",
       "      <th></th>\n",
       "      <th></th>\n",
       "      <th></th>\n",
       "    </tr>\n",
       "  </thead>\n",
       "  <tbody>\n",
       "    <tr>\n",
       "      <th>2016-01-15 00:00:00</th>\n",
       "      <td>6.055403</td>\n",
       "      <td>9.889648</td>\n",
       "      <td>5.507324</td>\n",
       "      <td>42.192020</td>\n",
       "      <td>70.541216</td>\n",
       "      <td>10.411962</td>\n",
       "      <td>0.895447</td>\n",
       "      <td>16.904297</td>\n",
       "      <td>2.143149</td>\n",
       "      <td>127.092003</td>\n",
       "      <td>...</td>\n",
       "      <td>-504.715942</td>\n",
       "      <td>9.925633</td>\n",
       "      <td>-498.310211</td>\n",
       "      <td>8.079666</td>\n",
       "      <td>-500.470978</td>\n",
       "      <td>14.151341</td>\n",
       "      <td>-605.841980</td>\n",
       "      <td>51.680034</td>\n",
       "      <td>66.424950</td>\n",
       "      <td>63.644396</td>\n",
       "    </tr>\n",
       "    <tr>\n",
       "      <th>2016-01-15 01:00:00</th>\n",
       "      <td>6.029369</td>\n",
       "      <td>9.968944</td>\n",
       "      <td>5.257781</td>\n",
       "      <td>42.701629</td>\n",
       "      <td>69.266198</td>\n",
       "      <td>10.462676</td>\n",
       "      <td>0.927452</td>\n",
       "      <td>16.634514</td>\n",
       "      <td>2.224930</td>\n",
       "      <td>125.629232</td>\n",
       "      <td>...</td>\n",
       "      <td>-501.331529</td>\n",
       "      <td>10.039245</td>\n",
       "      <td>-500.169983</td>\n",
       "      <td>7.984757</td>\n",
       "      <td>-500.582168</td>\n",
       "      <td>13.998353</td>\n",
       "      <td>-599.787184</td>\n",
       "      <td>50.659114</td>\n",
       "      <td>67.012710</td>\n",
       "      <td>63.957723</td>\n",
       "    </tr>\n",
       "    <tr>\n",
       "      <th>2016-01-15 02:00:00</th>\n",
       "      <td>6.055926</td>\n",
       "      <td>10.213995</td>\n",
       "      <td>5.383759</td>\n",
       "      <td>42.657501</td>\n",
       "      <td>68.116445</td>\n",
       "      <td>10.507046</td>\n",
       "      <td>0.953716</td>\n",
       "      <td>16.208849</td>\n",
       "      <td>2.257889</td>\n",
       "      <td>123.819808</td>\n",
       "      <td>...</td>\n",
       "      <td>-501.133383</td>\n",
       "      <td>10.070913</td>\n",
       "      <td>-500.129135</td>\n",
       "      <td>8.013877</td>\n",
       "      <td>-500.517572</td>\n",
       "      <td>14.028663</td>\n",
       "      <td>-601.427363</td>\n",
       "      <td>50.609929</td>\n",
       "      <td>66.103793</td>\n",
       "      <td>64.311180</td>\n",
       "    </tr>\n",
       "    <tr>\n",
       "      <th>2016-01-15 03:00:00</th>\n",
       "      <td>6.047977</td>\n",
       "      <td>9.977019</td>\n",
       "      <td>4.858634</td>\n",
       "      <td>42.689819</td>\n",
       "      <td>68.347543</td>\n",
       "      <td>10.422762</td>\n",
       "      <td>0.883763</td>\n",
       "      <td>16.532835</td>\n",
       "      <td>2.146849</td>\n",
       "      <td>122.270188</td>\n",
       "      <td>...</td>\n",
       "      <td>-501.193686</td>\n",
       "      <td>9.970366</td>\n",
       "      <td>-499.201640</td>\n",
       "      <td>7.977324</td>\n",
       "      <td>-500.255908</td>\n",
       "      <td>14.005551</td>\n",
       "      <td>-599.996129</td>\n",
       "      <td>51.061546</td>\n",
       "      <td>65.752751</td>\n",
       "      <td>63.573449</td>\n",
       "    </tr>\n",
       "    <tr>\n",
       "      <th>2016-01-15 04:00:00</th>\n",
       "      <td>6.148599</td>\n",
       "      <td>10.142511</td>\n",
       "      <td>4.939416</td>\n",
       "      <td>42.774141</td>\n",
       "      <td>66.927016</td>\n",
       "      <td>10.360302</td>\n",
       "      <td>0.792826</td>\n",
       "      <td>16.525686</td>\n",
       "      <td>2.055292</td>\n",
       "      <td>117.988169</td>\n",
       "      <td>...</td>\n",
       "      <td>-501.053894</td>\n",
       "      <td>9.925709</td>\n",
       "      <td>-501.686727</td>\n",
       "      <td>7.894242</td>\n",
       "      <td>-500.356035</td>\n",
       "      <td>13.996647</td>\n",
       "      <td>-601.496691</td>\n",
       "      <td>47.859163</td>\n",
       "      <td>65.908382</td>\n",
       "      <td>64.004667</td>\n",
       "    </tr>\n",
       "    <tr>\n",
       "      <th>2016-01-15 05:00:00</th>\n",
       "      <td>6.482968</td>\n",
       "      <td>10.049416</td>\n",
       "      <td>5.480257</td>\n",
       "      <td>41.633678</td>\n",
       "      <td>69.465816</td>\n",
       "      <td>10.182708</td>\n",
       "      <td>0.664118</td>\n",
       "      <td>16.999638</td>\n",
       "      <td>1.918586</td>\n",
       "      <td>115.581252</td>\n",
       "      <td>...</td>\n",
       "      <td>-500.395298</td>\n",
       "      <td>10.054147</td>\n",
       "      <td>-496.374715</td>\n",
       "      <td>7.965083</td>\n",
       "      <td>-499.364752</td>\n",
       "      <td>14.017067</td>\n",
       "      <td>-599.707915</td>\n",
       "      <td>48.838521</td>\n",
       "      <td>64.955919</td>\n",
       "      <td>63.646320</td>\n",
       "    </tr>\n",
       "    <tr>\n",
       "      <th>2016-01-15 06:00:00</th>\n",
       "      <td>6.533849</td>\n",
       "      <td>10.058141</td>\n",
       "      <td>4.569100</td>\n",
       "      <td>41.995316</td>\n",
       "      <td>69.300835</td>\n",
       "      <td>10.304598</td>\n",
       "      <td>0.807342</td>\n",
       "      <td>16.723575</td>\n",
       "      <td>2.058913</td>\n",
       "      <td>117.322323</td>\n",
       "      <td>...</td>\n",
       "      <td>-500.501426</td>\n",
       "      <td>10.003247</td>\n",
       "      <td>-497.083180</td>\n",
       "      <td>8.010890</td>\n",
       "      <td>-500.002423</td>\n",
       "      <td>14.029649</td>\n",
       "      <td>-600.905470</td>\n",
       "      <td>49.120760</td>\n",
       "      <td>65.372419</td>\n",
       "      <td>63.156407</td>\n",
       "    </tr>\n",
       "    <tr>\n",
       "      <th>2016-01-15 07:00:00</th>\n",
       "      <td>6.130823</td>\n",
       "      <td>9.935481</td>\n",
       "      <td>4.389813</td>\n",
       "      <td>42.452727</td>\n",
       "      <td>70.230976</td>\n",
       "      <td>10.443288</td>\n",
       "      <td>0.949346</td>\n",
       "      <td>16.689959</td>\n",
       "      <td>2.143437</td>\n",
       "      <td>124.592960</td>\n",
       "      <td>...</td>\n",
       "      <td>-500.583446</td>\n",
       "      <td>9.873169</td>\n",
       "      <td>-499.171928</td>\n",
       "      <td>7.993381</td>\n",
       "      <td>-499.794518</td>\n",
       "      <td>13.984498</td>\n",
       "      <td>-600.411070</td>\n",
       "      <td>50.790724</td>\n",
       "      <td>65.180132</td>\n",
       "      <td>62.908843</td>\n",
       "    </tr>\n",
       "    <tr>\n",
       "      <th>2016-01-15 08:00:00</th>\n",
       "      <td>5.834140</td>\n",
       "      <td>10.071156</td>\n",
       "      <td>4.876389</td>\n",
       "      <td>43.404078</td>\n",
       "      <td>69.688595</td>\n",
       "      <td>10.420140</td>\n",
       "      <td>1.065453</td>\n",
       "      <td>17.201948</td>\n",
       "      <td>2.209881</td>\n",
       "      <td>131.781026</td>\n",
       "      <td>...</td>\n",
       "      <td>-501.174549</td>\n",
       "      <td>10.033838</td>\n",
       "      <td>-501.178133</td>\n",
       "      <td>7.881604</td>\n",
       "      <td>-499.729434</td>\n",
       "      <td>13.967135</td>\n",
       "      <td>-599.061188</td>\n",
       "      <td>50.550288</td>\n",
       "      <td>65.625127</td>\n",
       "      <td>64.185763</td>\n",
       "    </tr>\n",
       "    <tr>\n",
       "      <th>2016-01-15 09:00:00</th>\n",
       "      <td>5.687063</td>\n",
       "      <td>9.980404</td>\n",
       "      <td>5.282514</td>\n",
       "      <td>43.235220</td>\n",
       "      <td>70.279619</td>\n",
       "      <td>10.487013</td>\n",
       "      <td>1.159805</td>\n",
       "      <td>17.483979</td>\n",
       "      <td>2.209593</td>\n",
       "      <td>138.120409</td>\n",
       "      <td>...</td>\n",
       "      <td>-500.928547</td>\n",
       "      <td>9.962574</td>\n",
       "      <td>-502.986357</td>\n",
       "      <td>7.979219</td>\n",
       "      <td>-500.146835</td>\n",
       "      <td>13.981614</td>\n",
       "      <td>-598.070855</td>\n",
       "      <td>51.941235</td>\n",
       "      <td>65.408849</td>\n",
       "      <td>64.185200</td>\n",
       "    </tr>\n",
       "  </tbody>\n",
       "</table>\n",
       "<p>10 rows × 89 columns</p>\n",
       "</div>"
      ],
      "text/plain": [
       "                     final.output.concentrate_ag  final.output.concentrate_pb  \\\n",
       "date                                                                            \n",
       "2016-01-15 00:00:00                     6.055403                     9.889648   \n",
       "2016-01-15 01:00:00                     6.029369                     9.968944   \n",
       "2016-01-15 02:00:00                     6.055926                    10.213995   \n",
       "2016-01-15 03:00:00                     6.047977                     9.977019   \n",
       "2016-01-15 04:00:00                     6.148599                    10.142511   \n",
       "2016-01-15 05:00:00                     6.482968                    10.049416   \n",
       "2016-01-15 06:00:00                     6.533849                    10.058141   \n",
       "2016-01-15 07:00:00                     6.130823                     9.935481   \n",
       "2016-01-15 08:00:00                     5.834140                    10.071156   \n",
       "2016-01-15 09:00:00                     5.687063                     9.980404   \n",
       "\n",
       "                     final.output.concentrate_sol  \\\n",
       "date                                                \n",
       "2016-01-15 00:00:00                      5.507324   \n",
       "2016-01-15 01:00:00                      5.257781   \n",
       "2016-01-15 02:00:00                      5.383759   \n",
       "2016-01-15 03:00:00                      4.858634   \n",
       "2016-01-15 04:00:00                      4.939416   \n",
       "2016-01-15 05:00:00                      5.480257   \n",
       "2016-01-15 06:00:00                      4.569100   \n",
       "2016-01-15 07:00:00                      4.389813   \n",
       "2016-01-15 08:00:00                      4.876389   \n",
       "2016-01-15 09:00:00                      5.282514   \n",
       "\n",
       "                     final.output.concentrate_au  final.output.recovery  \\\n",
       "date                                                                      \n",
       "2016-01-15 00:00:00                    42.192020              70.541216   \n",
       "2016-01-15 01:00:00                    42.701629              69.266198   \n",
       "2016-01-15 02:00:00                    42.657501              68.116445   \n",
       "2016-01-15 03:00:00                    42.689819              68.347543   \n",
       "2016-01-15 04:00:00                    42.774141              66.927016   \n",
       "2016-01-15 05:00:00                    41.633678              69.465816   \n",
       "2016-01-15 06:00:00                    41.995316              69.300835   \n",
       "2016-01-15 07:00:00                    42.452727              70.230976   \n",
       "2016-01-15 08:00:00                    43.404078              69.688595   \n",
       "2016-01-15 09:00:00                    43.235220              70.279619   \n",
       "\n",
       "                     final.output.tail_ag  final.output.tail_pb  \\\n",
       "date                                                              \n",
       "2016-01-15 00:00:00             10.411962              0.895447   \n",
       "2016-01-15 01:00:00             10.462676              0.927452   \n",
       "2016-01-15 02:00:00             10.507046              0.953716   \n",
       "2016-01-15 03:00:00             10.422762              0.883763   \n",
       "2016-01-15 04:00:00             10.360302              0.792826   \n",
       "2016-01-15 05:00:00             10.182708              0.664118   \n",
       "2016-01-15 06:00:00             10.304598              0.807342   \n",
       "2016-01-15 07:00:00             10.443288              0.949346   \n",
       "2016-01-15 08:00:00             10.420140              1.065453   \n",
       "2016-01-15 09:00:00             10.487013              1.159805   \n",
       "\n",
       "                     final.output.tail_sol  final.output.tail_au  \\\n",
       "date                                                               \n",
       "2016-01-15 00:00:00              16.904297              2.143149   \n",
       "2016-01-15 01:00:00              16.634514              2.224930   \n",
       "2016-01-15 02:00:00              16.208849              2.257889   \n",
       "2016-01-15 03:00:00              16.532835              2.146849   \n",
       "2016-01-15 04:00:00              16.525686              2.055292   \n",
       "2016-01-15 05:00:00              16.999638              1.918586   \n",
       "2016-01-15 06:00:00              16.723575              2.058913   \n",
       "2016-01-15 07:00:00              16.689959              2.143437   \n",
       "2016-01-15 08:00:00              17.201948              2.209881   \n",
       "2016-01-15 09:00:00              17.483979              2.209593   \n",
       "\n",
       "                     primary_cleaner.input.sulfate  ...  \\\n",
       "date                                                ...   \n",
       "2016-01-15 00:00:00                     127.092003  ...   \n",
       "2016-01-15 01:00:00                     125.629232  ...   \n",
       "2016-01-15 02:00:00                     123.819808  ...   \n",
       "2016-01-15 03:00:00                     122.270188  ...   \n",
       "2016-01-15 04:00:00                     117.988169  ...   \n",
       "2016-01-15 05:00:00                     115.581252  ...   \n",
       "2016-01-15 06:00:00                     117.322323  ...   \n",
       "2016-01-15 07:00:00                     124.592960  ...   \n",
       "2016-01-15 08:00:00                     131.781026  ...   \n",
       "2016-01-15 09:00:00                     138.120409  ...   \n",
       "\n",
       "                     secondary_cleaner.state.floatbank4_b_level  \\\n",
       "date                                                              \n",
       "2016-01-15 00:00:00                                 -504.715942   \n",
       "2016-01-15 01:00:00                                 -501.331529   \n",
       "2016-01-15 02:00:00                                 -501.133383   \n",
       "2016-01-15 03:00:00                                 -501.193686   \n",
       "2016-01-15 04:00:00                                 -501.053894   \n",
       "2016-01-15 05:00:00                                 -500.395298   \n",
       "2016-01-15 06:00:00                                 -500.501426   \n",
       "2016-01-15 07:00:00                                 -500.583446   \n",
       "2016-01-15 08:00:00                                 -501.174549   \n",
       "2016-01-15 09:00:00                                 -500.928547   \n",
       "\n",
       "                     secondary_cleaner.state.floatbank5_a_air  \\\n",
       "date                                                            \n",
       "2016-01-15 00:00:00                                  9.925633   \n",
       "2016-01-15 01:00:00                                 10.039245   \n",
       "2016-01-15 02:00:00                                 10.070913   \n",
       "2016-01-15 03:00:00                                  9.970366   \n",
       "2016-01-15 04:00:00                                  9.925709   \n",
       "2016-01-15 05:00:00                                 10.054147   \n",
       "2016-01-15 06:00:00                                 10.003247   \n",
       "2016-01-15 07:00:00                                  9.873169   \n",
       "2016-01-15 08:00:00                                 10.033838   \n",
       "2016-01-15 09:00:00                                  9.962574   \n",
       "\n",
       "                     secondary_cleaner.state.floatbank5_a_level  \\\n",
       "date                                                              \n",
       "2016-01-15 00:00:00                                 -498.310211   \n",
       "2016-01-15 01:00:00                                 -500.169983   \n",
       "2016-01-15 02:00:00                                 -500.129135   \n",
       "2016-01-15 03:00:00                                 -499.201640   \n",
       "2016-01-15 04:00:00                                 -501.686727   \n",
       "2016-01-15 05:00:00                                 -496.374715   \n",
       "2016-01-15 06:00:00                                 -497.083180   \n",
       "2016-01-15 07:00:00                                 -499.171928   \n",
       "2016-01-15 08:00:00                                 -501.178133   \n",
       "2016-01-15 09:00:00                                 -502.986357   \n",
       "\n",
       "                     secondary_cleaner.state.floatbank5_b_air  \\\n",
       "date                                                            \n",
       "2016-01-15 00:00:00                                  8.079666   \n",
       "2016-01-15 01:00:00                                  7.984757   \n",
       "2016-01-15 02:00:00                                  8.013877   \n",
       "2016-01-15 03:00:00                                  7.977324   \n",
       "2016-01-15 04:00:00                                  7.894242   \n",
       "2016-01-15 05:00:00                                  7.965083   \n",
       "2016-01-15 06:00:00                                  8.010890   \n",
       "2016-01-15 07:00:00                                  7.993381   \n",
       "2016-01-15 08:00:00                                  7.881604   \n",
       "2016-01-15 09:00:00                                  7.979219   \n",
       "\n",
       "                     secondary_cleaner.state.floatbank5_b_level  \\\n",
       "date                                                              \n",
       "2016-01-15 00:00:00                                 -500.470978   \n",
       "2016-01-15 01:00:00                                 -500.582168   \n",
       "2016-01-15 02:00:00                                 -500.517572   \n",
       "2016-01-15 03:00:00                                 -500.255908   \n",
       "2016-01-15 04:00:00                                 -500.356035   \n",
       "2016-01-15 05:00:00                                 -499.364752   \n",
       "2016-01-15 06:00:00                                 -500.002423   \n",
       "2016-01-15 07:00:00                                 -499.794518   \n",
       "2016-01-15 08:00:00                                 -499.729434   \n",
       "2016-01-15 09:00:00                                 -500.146835   \n",
       "\n",
       "                     secondary_cleaner.state.floatbank6_a_air  \\\n",
       "date                                                            \n",
       "2016-01-15 00:00:00                                 14.151341   \n",
       "2016-01-15 01:00:00                                 13.998353   \n",
       "2016-01-15 02:00:00                                 14.028663   \n",
       "2016-01-15 03:00:00                                 14.005551   \n",
       "2016-01-15 04:00:00                                 13.996647   \n",
       "2016-01-15 05:00:00                                 14.017067   \n",
       "2016-01-15 06:00:00                                 14.029649   \n",
       "2016-01-15 07:00:00                                 13.984498   \n",
       "2016-01-15 08:00:00                                 13.967135   \n",
       "2016-01-15 09:00:00                                 13.981614   \n",
       "\n",
       "                     secondary_cleaner.state.floatbank6_a_level  \\\n",
       "date                                                              \n",
       "2016-01-15 00:00:00                                 -605.841980   \n",
       "2016-01-15 01:00:00                                 -599.787184   \n",
       "2016-01-15 02:00:00                                 -601.427363   \n",
       "2016-01-15 03:00:00                                 -599.996129   \n",
       "2016-01-15 04:00:00                                 -601.496691   \n",
       "2016-01-15 05:00:00                                 -599.707915   \n",
       "2016-01-15 06:00:00                                 -600.905470   \n",
       "2016-01-15 07:00:00                                 -600.411070   \n",
       "2016-01-15 08:00:00                                 -599.061188   \n",
       "2016-01-15 09:00:00                                 -598.070855   \n",
       "\n",
       "                     rougher.input.feed_  rougher.output.concentrate_  \\\n",
       "date                                                                    \n",
       "2016-01-15 00:00:00            51.680034                    66.424950   \n",
       "2016-01-15 01:00:00            50.659114                    67.012710   \n",
       "2016-01-15 02:00:00            50.609929                    66.103793   \n",
       "2016-01-15 03:00:00            51.061546                    65.752751   \n",
       "2016-01-15 04:00:00            47.859163                    65.908382   \n",
       "2016-01-15 05:00:00            48.838521                    64.955919   \n",
       "2016-01-15 06:00:00            49.120760                    65.372419   \n",
       "2016-01-15 07:00:00            50.790724                    65.180132   \n",
       "2016-01-15 08:00:00            50.550288                    65.625127   \n",
       "2016-01-15 09:00:00            51.941235                    65.408849   \n",
       "\n",
       "                     final.output.concentrate_  \n",
       "date                                            \n",
       "2016-01-15 00:00:00                  63.644396  \n",
       "2016-01-15 01:00:00                  63.957723  \n",
       "2016-01-15 02:00:00                  64.311180  \n",
       "2016-01-15 03:00:00                  63.573449  \n",
       "2016-01-15 04:00:00                  64.004667  \n",
       "2016-01-15 05:00:00                  63.646320  \n",
       "2016-01-15 06:00:00                  63.156407  \n",
       "2016-01-15 07:00:00                  62.908843  \n",
       "2016-01-15 08:00:00                  64.185763  \n",
       "2016-01-15 09:00:00                  64.185200  \n",
       "\n",
       "[10 rows x 89 columns]"
      ]
     },
     "execution_count": 36,
     "metadata": {},
     "output_type": "execute_result"
    }
   ],
   "source": [
    "gold_recovery_full = gold_recovery_full[(gold_recovery_full['rougher.input.feed_'] > 40) &\n",
    "         (gold_recovery_full['rougher.output.concentrate_'] > 40) & \n",
    "         (gold_recovery_full['final.output.concentrate_'] > 40)]\n",
    "gold_recovery_full.head(10)"
   ]
  },
  {
   "cell_type": "code",
   "execution_count": 37,
   "metadata": {
    "scrolled": true
   },
   "outputs": [
    {
     "data": {
      "image/png": "[encoded data removed]",
      "text/plain": [
       "<Figure size 1040x800 with 1 Axes>"
      ]
     },
     "metadata": {
      "needs_background": "light"
     },
     "output_type": "display_data"
    }
   ],
   "source": [
    "x0 = gold_recovery_full['rougher.input.feed_']\n",
    "x1 = gold_recovery_full['rougher.output.concentrate_']\n",
    "x2 = gold_recovery_full['final.output.concentrate_']\n",
    " \n",
    "plt.figure(figsize=(13,10), dpi= 80)\n",
    "sns.distplot(x0, color=\"dodgerblue\", label=\"Сырье\", hist_kws={'alpha':.7}, kde_kws={'linewidth':3})\n",
    "sns.distplot(x1, color=\"orange\", label=\"Черновой\", hist_kws={'alpha':.7}, kde_kws={'linewidth':3})\n",
    "sns.distplot(x2, color=\"g\", label=\"Финальный этап\", hist_kws={'alpha':.7}, kde_kws={'linewidth':3})\n",
    "\n",
    "plt.title(label='Концентрация всех веществ на разных стадиях', fontsize=22)\n",
    "plt.xlabel('Концентрация')\n",
    "plt.ylabel('Количество наблюдений')\n",
    "plt.legend()\n",
    "plt.show()"
   ]
  },
  {
   "cell_type": "markdown",
   "metadata": {},
   "source": [
    "## Модель"
   ]
  },
  {
   "cell_type": "markdown",
   "metadata": {},
   "source": [
    "Удалим из обучающей выборки столбцы, которых нету в тестовой модели"
   ]
  },
  {
   "cell_type": "code",
   "execution_count": 38,
   "metadata": {},
   "outputs": [],
   "source": [
    "def missa (train, test):\n",
    "    result = set(train.columns.to_list())-set(test.columns.to_list())\n",
    "    return result"
   ]
  },
  {
   "cell_type": "code",
   "execution_count": 39,
   "metadata": {},
   "outputs": [
    {
     "name": "stdout",
     "output_type": "stream",
     "text": [
      "<class 'pandas.core.frame.DataFrame'>\n",
      "Index: 11017 entries, 2016-01-15 00:00:00 to 2018-08-18 10:59:59\n",
      "Data columns (total 54 columns):\n",
      " #   Column                                      Non-Null Count  Dtype  \n",
      "---  ------                                      --------------  -----  \n",
      " 0   final.output.recovery                       11017 non-null  float64\n",
      " 1   primary_cleaner.input.sulfate               11017 non-null  float64\n",
      " 2   primary_cleaner.input.depressant            11017 non-null  float64\n",
      " 3   primary_cleaner.input.feed_size             11017 non-null  float64\n",
      " 4   primary_cleaner.input.xanthate              11017 non-null  float64\n",
      " 5   primary_cleaner.state.floatbank8_a_air      11017 non-null  float64\n",
      " 6   primary_cleaner.state.floatbank8_a_level    11017 non-null  float64\n",
      " 7   primary_cleaner.state.floatbank8_b_air      11017 non-null  float64\n",
      " 8   primary_cleaner.state.floatbank8_b_level    11017 non-null  float64\n",
      " 9   primary_cleaner.state.floatbank8_c_air      11017 non-null  float64\n",
      " 10  primary_cleaner.state.floatbank8_c_level    11017 non-null  float64\n",
      " 11  primary_cleaner.state.floatbank8_d_air      11017 non-null  float64\n",
      " 12  primary_cleaner.state.floatbank8_d_level    11017 non-null  float64\n",
      " 13  rougher.input.feed_ag                       11017 non-null  float64\n",
      " 14  rougher.input.feed_pb                       11017 non-null  float64\n",
      " 15  rougher.input.feed_rate                     11017 non-null  float64\n",
      " 16  rougher.input.feed_size                     11017 non-null  float64\n",
      " 17  rougher.input.feed_sol                      11017 non-null  float64\n",
      " 18  rougher.input.feed_au                       11017 non-null  float64\n",
      " 19  rougher.input.floatbank10_sulfate           11017 non-null  float64\n",
      " 20  rougher.input.floatbank10_xanthate          11017 non-null  float64\n",
      " 21  rougher.input.floatbank11_sulfate           11017 non-null  float64\n",
      " 22  rougher.input.floatbank11_xanthate          11017 non-null  float64\n",
      " 23  rougher.output.recovery                     11017 non-null  float64\n",
      " 24  rougher.state.floatbank10_a_air             11017 non-null  float64\n",
      " 25  rougher.state.floatbank10_a_level           11017 non-null  float64\n",
      " 26  rougher.state.floatbank10_b_air             11017 non-null  float64\n",
      " 27  rougher.state.floatbank10_b_level           11017 non-null  float64\n",
      " 28  rougher.state.floatbank10_c_air             11017 non-null  float64\n",
      " 29  rougher.state.floatbank10_c_level           11017 non-null  float64\n",
      " 30  rougher.state.floatbank10_d_air             11017 non-null  float64\n",
      " 31  rougher.state.floatbank10_d_level           11017 non-null  float64\n",
      " 32  rougher.state.floatbank10_e_air             11017 non-null  float64\n",
      " 33  rougher.state.floatbank10_e_level           11017 non-null  float64\n",
      " 34  rougher.state.floatbank10_f_air             11017 non-null  float64\n",
      " 35  rougher.state.floatbank10_f_level           11017 non-null  float64\n",
      " 36  secondary_cleaner.state.floatbank2_a_air    11017 non-null  float64\n",
      " 37  secondary_cleaner.state.floatbank2_a_level  11017 non-null  float64\n",
      " 38  secondary_cleaner.state.floatbank2_b_air    11017 non-null  float64\n",
      " 39  secondary_cleaner.state.floatbank2_b_level  11017 non-null  float64\n",
      " 40  secondary_cleaner.state.floatbank3_a_air    11017 non-null  float64\n",
      " 41  secondary_cleaner.state.floatbank3_a_level  11017 non-null  float64\n",
      " 42  secondary_cleaner.state.floatbank3_b_air    11017 non-null  float64\n",
      " 43  secondary_cleaner.state.floatbank3_b_level  11017 non-null  float64\n",
      " 44  secondary_cleaner.state.floatbank4_a_air    11017 non-null  float64\n",
      " 45  secondary_cleaner.state.floatbank4_a_level  11017 non-null  float64\n",
      " 46  secondary_cleaner.state.floatbank4_b_air    11017 non-null  float64\n",
      " 47  secondary_cleaner.state.floatbank4_b_level  11017 non-null  float64\n",
      " 48  secondary_cleaner.state.floatbank5_a_air    11017 non-null  float64\n",
      " 49  secondary_cleaner.state.floatbank5_a_level  11017 non-null  float64\n",
      " 50  secondary_cleaner.state.floatbank5_b_air    11017 non-null  float64\n",
      " 51  secondary_cleaner.state.floatbank5_b_level  11017 non-null  float64\n",
      " 52  secondary_cleaner.state.floatbank6_a_air    11017 non-null  float64\n",
      " 53  secondary_cleaner.state.floatbank6_a_level  11017 non-null  float64\n",
      "dtypes: float64(54)\n",
      "memory usage: 4.6+ MB\n"
     ]
    }
   ],
   "source": [
    "missing_model = missa(gold_recovery_train, gold_recovery_test_merged)\n",
    "gold_recovery_train = gold_recovery_train.drop(columns=list(missing_model))\n",
    "gold_recovery_train.info()"
   ]
  },
  {
   "cell_type": "code",
   "execution_count": 40,
   "metadata": {},
   "outputs": [],
   "source": [
    "features_train = gold_recovery_train.drop(['rougher.output.recovery', 'final.output.recovery'], axis='columns')\n",
    "target_train = gold_recovery_train[['rougher.output.recovery', 'final.output.recovery']]\n",
    "\n",
    "features_test = gold_recovery_test_merged.drop(['rougher.output.recovery', 'final.output.recovery'], axis='columns')\n",
    "target_test = gold_recovery_test_merged[['rougher.output.recovery', 'final.output.recovery']]"
   ]
  },
  {
   "cell_type": "code",
   "execution_count": 41,
   "metadata": {},
   "outputs": [
    {
     "data": {
      "text/plain": [
       "(11017, 52)"
      ]
     },
     "execution_count": 41,
     "metadata": {},
     "output_type": "execute_result"
    }
   ],
   "source": [
    "features_train.shape"
   ]
  },
  {
   "cell_type": "code",
   "execution_count": 42,
   "metadata": {},
   "outputs": [
    {
     "data": {
      "text/plain": [
       "(5229, 52)"
      ]
     },
     "execution_count": 42,
     "metadata": {},
     "output_type": "execute_result"
    }
   ],
   "source": [
    "features_test.shape"
   ]
  },
  {
   "cell_type": "markdown",
   "metadata": {},
   "source": [
    "### Функция smape"
   ]
  },
  {
   "cell_type": "code",
   "execution_count": 43,
   "metadata": {},
   "outputs": [],
   "source": [
    "def smape(target, predictions): \n",
    "    return 1 / len(target) * np.sum(2 * np.abs(target - predictions) / (np.abs(target) + np.abs(predictions)) * 100)\n",
    "\n",
    "def final_smape(target, predictions):\n",
    "    return (0.25 * smape(target.iloc[:, 0], predictions[:, 0]) + 0.75 * smape(target.iloc[:, 1], predictions[:, 1]))\n",
    "\n",
    "smape_scorer = make_scorer(final_smape, greater_is_better=False)"
   ]
  },
  {
   "cell_type": "markdown",
   "metadata": {},
   "source": [
    "### Линейная регрессия"
   ]
  },
  {
   "cell_type": "code",
   "execution_count": 44,
   "metadata": {},
   "outputs": [
    {
     "name": "stdout",
     "output_type": "stream",
     "text": [
      "Лучший результат smape линейной регрессии: 10.290896728293268\n"
     ]
    }
   ],
   "source": [
    "model_LR = LinearRegression()\n",
    "model_LR.fit(features_train, target_train)\n",
    "smape_model_LR = cross_val_score(model_LR, features_train, target_train, cv=5, scoring=smape_scorer).mean()\n",
    "print('Лучший результат smape линейной регрессии:', -smape_model_LR)"
   ]
  },
  {
   "cell_type": "markdown",
   "metadata": {},
   "source": [
    "### Дерево решений"
   ]
  },
  {
   "cell_type": "code",
   "execution_count": 45,
   "metadata": {},
   "outputs": [
    {
     "name": "stdout",
     "output_type": "stream",
     "text": [
      "Лучший результат smape Дерева Решений: 9.256795905147513, при глубине {'max_depth': 2}\n"
     ]
    }
   ],
   "source": [
    "parametrs_mt = {'max_depth': range(2, 30)}\n",
    "    \n",
    "model_dr = DecisionTreeRegressor(random_state=12345)\n",
    "grid_dr = GridSearchCV(model_dr, parametrs_mt, cv=5, scoring=smape_scorer)\n",
    "grid_dr.fit(features_train, target_train)\n",
    "print('Лучший результат smape Дерева Решений: {}, при глубине {}'. format(-grid_dr.best_score_,\n",
    "                                                                         grid_dr.best_params_))"
   ]
  },
  {
   "cell_type": "markdown",
   "metadata": {},
   "source": [
    "### Случайный лес"
   ]
  },
  {
   "cell_type": "code",
   "execution_count": 46,
   "metadata": {
    "scrolled": false
   },
   "outputs": [
    {
     "name": "stdout",
     "output_type": "stream",
     "text": [
      "Лучший результат smape Случайного леса: 9.03521693559292, при гиперпараметрах {'max_depth': 2, 'n_estimators': 10}\n"
     ]
    }
   ],
   "source": [
    "parametrs_sl = {'max_depth': range(2, 20, 5),\n",
    "               'n_estimators': range(10, 20, 5)}\n",
    "\n",
    "model_sl = RandomForestRegressor(random_state=12345)\n",
    "grid_sl = GridSearchCV(model_sl, parametrs_sl, cv=5, scoring=smape_scorer)\n",
    "grid_sl.fit(features_train, target_train)\n",
    "print('Лучший результат smape Случайного леса: {}, при гиперпараметрах {}'. format(-grid_sl.best_score_,\n",
    "                                                                         grid_sl.best_params_))"
   ]
  },
  {
   "cell_type": "markdown",
   "metadata": {},
   "source": [
    "### Тестовая выборка"
   ]
  },
  {
   "cell_type": "code",
   "execution_count": 47,
   "metadata": {},
   "outputs": [
    {
     "name": "stdout",
     "output_type": "stream",
     "text": [
      "Показатель smape модели случайного леса с заданными гиперпараметрами тестовой выборки: 9.229555762236405\n"
     ]
    }
   ],
   "source": [
    "best_model = RandomForestRegressor(max_depth=2, n_estimators=10, random_state=12345)\n",
    "best_model.fit(features_train, target_train)\n",
    "predictions_test = best_model.predict(features_test)\n",
    "print('Показатель smape модели случайного леса с заданными гиперпараметрами тестовой выборки:', final_smape(target_test, predictions_test))"
   ]
  },
  {
   "cell_type": "markdown",
   "metadata": {},
   "source": [
    "### Константная модель"
   ]
  },
  {
   "cell_type": "code",
   "execution_count": 48,
   "metadata": {},
   "outputs": [
    {
     "name": "stdout",
     "output_type": "stream",
     "text": [
      "Показатель smape для Dummy model: 9.736782265639786\n"
     ]
    }
   ],
   "source": [
    "dummy = DummyRegressor(strategy='mean')\n",
    "dummy.fit(features_train, target_train)\n",
    "predicition_dummy = dummy.predict(features_test)\n",
    "print('Показатель smape для Dummy model:', final_smape(target_test, predicition_dummy))"
   ]
  },
  {
   "cell_type": "markdown",
   "metadata": {},
   "source": [
    "Как показали все наши модели, модель Случайного леса на тестовой модели, показала себя лучше (sMAPE = 9,04), чем константная модель (sMAPE = 9.74)"
   ]
  }
 ],
 "metadata": {
  "ExecuteTimeLog": [
   {
    "duration": 1803,
    "start_time": "2022-06-30T11:37:11.080Z"
   },
   {
    "duration": 208,
    "start_time": "2022-06-30T11:38:31.949Z"
   },
   {
    "duration": 2522,
    "start_time": "2022-06-30T11:38:41.449Z"
   },
   {
    "duration": 28,
    "start_time": "2022-06-30T11:38:55.973Z"
   },
   {
    "duration": 18,
    "start_time": "2022-06-30T11:39:11.350Z"
   },
   {
    "duration": 29,
    "start_time": "2022-06-30T11:40:04.248Z"
   },
   {
    "duration": 18,
    "start_time": "2022-06-30T11:40:10.406Z"
   },
   {
    "duration": 33,
    "start_time": "2022-06-30T11:40:28.929Z"
   },
   {
    "duration": 23,
    "start_time": "2022-06-30T11:40:44.440Z"
   },
   {
    "duration": 1576,
    "start_time": "2022-07-01T12:19:11.055Z"
   },
   {
    "duration": 1481,
    "start_time": "2022-07-01T12:19:12.633Z"
   },
   {
    "duration": 26,
    "start_time": "2022-07-01T12:19:14.116Z"
   },
   {
    "duration": 18,
    "start_time": "2022-07-01T12:19:14.144Z"
   },
   {
    "duration": 20,
    "start_time": "2022-07-01T12:19:14.165Z"
   },
   {
    "duration": 38,
    "start_time": "2022-07-01T12:19:14.188Z"
   },
   {
    "duration": 34,
    "start_time": "2022-07-01T12:19:14.228Z"
   },
   {
    "duration": 27,
    "start_time": "2022-07-01T12:19:14.264Z"
   },
   {
    "duration": 10,
    "start_time": "2022-07-01T12:22:59.284Z"
   },
   {
    "duration": 142,
    "start_time": "2022-07-01T12:23:22.480Z"
   },
   {
    "duration": 126,
    "start_time": "2022-07-01T12:23:26.315Z"
   },
   {
    "duration": 9,
    "start_time": "2022-07-01T12:23:42.810Z"
   },
   {
    "duration": 11,
    "start_time": "2022-07-01T12:24:50.984Z"
   },
   {
    "duration": 141,
    "start_time": "2022-07-01T12:25:05.718Z"
   },
   {
    "duration": 24,
    "start_time": "2022-07-01T12:25:20.973Z"
   },
   {
    "duration": 107,
    "start_time": "2022-07-01T12:42:51.915Z"
   },
   {
    "duration": 12,
    "start_time": "2022-07-01T12:43:04.456Z"
   },
   {
    "duration": 11,
    "start_time": "2022-07-01T12:43:21.816Z"
   },
   {
    "duration": 15,
    "start_time": "2022-07-01T12:43:28.680Z"
   },
   {
    "duration": 15,
    "start_time": "2022-07-01T12:43:35.087Z"
   },
   {
    "duration": 13,
    "start_time": "2022-07-01T12:43:37.881Z"
   },
   {
    "duration": 78,
    "start_time": "2022-07-01T12:43:48.591Z"
   },
   {
    "duration": 21,
    "start_time": "2022-07-01T12:43:52.421Z"
   },
   {
    "duration": 18,
    "start_time": "2022-07-01T12:44:05.520Z"
   },
   {
    "duration": 4,
    "start_time": "2022-07-01T12:46:46.253Z"
   },
   {
    "duration": 14,
    "start_time": "2022-07-01T12:47:12.480Z"
   },
   {
    "duration": 10,
    "start_time": "2022-07-01T12:47:43.040Z"
   },
   {
    "duration": 14,
    "start_time": "2022-07-01T12:49:20.741Z"
   },
   {
    "duration": 37,
    "start_time": "2022-07-01T12:49:29.140Z"
   },
   {
    "duration": 8,
    "start_time": "2022-07-01T12:49:54.782Z"
   },
   {
    "duration": 17,
    "start_time": "2022-07-01T12:49:59.514Z"
   },
   {
    "duration": 18,
    "start_time": "2022-07-01T12:50:20.659Z"
   },
   {
    "duration": 32,
    "start_time": "2022-07-01T12:50:26.850Z"
   },
   {
    "duration": 17,
    "start_time": "2022-07-01T12:50:32.506Z"
   },
   {
    "duration": 19,
    "start_time": "2022-07-01T12:50:37.394Z"
   },
   {
    "duration": 57,
    "start_time": "2022-07-01T12:51:26.705Z"
   },
   {
    "duration": 8,
    "start_time": "2022-07-01T12:53:51.751Z"
   },
   {
    "duration": 12,
    "start_time": "2022-07-01T13:04:48.778Z"
   },
   {
    "duration": 14,
    "start_time": "2022-07-01T13:05:27.900Z"
   },
   {
    "duration": 18,
    "start_time": "2022-07-01T13:05:29.683Z"
   },
   {
    "duration": 15,
    "start_time": "2022-07-01T13:05:29.948Z"
   },
   {
    "duration": 6,
    "start_time": "2022-07-01T13:10:25.058Z"
   },
   {
    "duration": 21,
    "start_time": "2022-07-01T13:10:32.951Z"
   },
   {
    "duration": 24,
    "start_time": "2022-07-01T13:10:40.696Z"
   },
   {
    "duration": 1468,
    "start_time": "2022-07-01T13:10:50.367Z"
   },
   {
    "duration": 731,
    "start_time": "2022-07-01T13:10:51.837Z"
   },
   {
    "duration": 26,
    "start_time": "2022-07-01T13:10:52.569Z"
   },
   {
    "duration": 36,
    "start_time": "2022-07-01T13:10:52.598Z"
   },
   {
    "duration": 10,
    "start_time": "2022-07-01T13:10:52.637Z"
   },
   {
    "duration": 142,
    "start_time": "2022-07-01T13:10:52.648Z"
   },
   {
    "duration": 35,
    "start_time": "2022-07-01T13:10:52.792Z"
   },
   {
    "duration": 9,
    "start_time": "2022-07-01T13:10:52.829Z"
   },
   {
    "duration": 28,
    "start_time": "2022-07-01T13:10:52.840Z"
   },
   {
    "duration": 65,
    "start_time": "2022-07-01T13:10:52.870Z"
   },
   {
    "duration": 35,
    "start_time": "2022-07-01T13:10:52.937Z"
   },
   {
    "duration": 20,
    "start_time": "2022-07-01T13:10:52.974Z"
   },
   {
    "duration": 10,
    "start_time": "2022-07-01T13:10:52.997Z"
   },
   {
    "duration": 32,
    "start_time": "2022-07-01T13:10:53.029Z"
   },
   {
    "duration": 12,
    "start_time": "2022-07-01T13:10:53.062Z"
   },
   {
    "duration": 22,
    "start_time": "2022-07-01T13:10:53.075Z"
   },
   {
    "duration": 29,
    "start_time": "2022-07-01T13:10:53.099Z"
   },
   {
    "duration": 11,
    "start_time": "2022-07-01T13:10:53.130Z"
   },
   {
    "duration": 110,
    "start_time": "2022-07-01T13:10:53.143Z"
   },
   {
    "duration": 20,
    "start_time": "2022-07-01T13:10:53.254Z"
   },
   {
    "duration": 9,
    "start_time": "2022-07-01T13:10:53.276Z"
   },
   {
    "duration": 33,
    "start_time": "2022-07-01T13:11:15.964Z"
   },
   {
    "duration": 32,
    "start_time": "2022-07-01T13:11:30.292Z"
   },
   {
    "duration": 3395,
    "start_time": "2022-07-03T12:22:03.120Z"
   },
   {
    "duration": 6900,
    "start_time": "2022-07-03T12:22:06.517Z"
   },
   {
    "duration": 166,
    "start_time": "2022-07-03T12:22:13.433Z"
   },
   {
    "duration": 104,
    "start_time": "2022-07-03T12:22:13.612Z"
   },
   {
    "duration": 81,
    "start_time": "2022-07-03T12:22:13.723Z"
   },
   {
    "duration": 405,
    "start_time": "2022-07-03T12:22:13.817Z"
   },
   {
    "duration": 35,
    "start_time": "2022-07-03T12:22:14.228Z"
   },
   {
    "duration": 95,
    "start_time": "2022-07-03T12:22:14.270Z"
   },
   {
    "duration": 203,
    "start_time": "2022-07-03T12:22:14.380Z"
   },
   {
    "duration": 250,
    "start_time": "2022-07-03T12:22:14.594Z"
   },
   {
    "duration": 165,
    "start_time": "2022-07-03T12:22:14.855Z"
   },
   {
    "duration": 657,
    "start_time": "2022-07-03T12:22:15.034Z"
   },
   {
    "duration": 158,
    "start_time": "2022-07-03T12:22:15.706Z"
   },
   {
    "duration": 203,
    "start_time": "2022-07-03T12:22:15.881Z"
   },
   {
    "duration": 154,
    "start_time": "2022-07-03T12:22:16.095Z"
   },
   {
    "duration": 239,
    "start_time": "2022-07-03T12:22:16.260Z"
   },
   {
    "duration": 333,
    "start_time": "2022-07-03T12:22:16.511Z"
   },
   {
    "duration": 117,
    "start_time": "2022-07-03T12:22:16.851Z"
   },
   {
    "duration": 201,
    "start_time": "2022-07-03T12:22:16.975Z"
   },
   {
    "duration": 340,
    "start_time": "2022-07-03T12:22:17.191Z"
   },
   {
    "duration": 80,
    "start_time": "2022-07-03T12:22:17.537Z"
   },
   {
    "duration": 301,
    "start_time": "2022-07-03T12:22:17.628Z"
   },
   {
    "duration": 246,
    "start_time": "2022-07-03T12:22:17.953Z"
   },
   {
    "duration": 1560,
    "start_time": "2022-07-03T13:56:41.912Z"
   },
   {
    "duration": 1766,
    "start_time": "2022-07-03T13:56:43.474Z"
   },
   {
    "duration": 39,
    "start_time": "2022-07-03T13:56:45.242Z"
   },
   {
    "duration": 27,
    "start_time": "2022-07-03T13:56:45.283Z"
   },
   {
    "duration": 16,
    "start_time": "2022-07-03T13:56:45.313Z"
   },
   {
    "duration": 154,
    "start_time": "2022-07-03T13:56:45.331Z"
   },
   {
    "duration": 18,
    "start_time": "2022-07-03T13:56:45.487Z"
   },
   {
    "duration": 24,
    "start_time": "2022-07-03T13:56:45.507Z"
   },
   {
    "duration": 29,
    "start_time": "2022-07-03T13:56:45.533Z"
   },
   {
    "duration": 26,
    "start_time": "2022-07-03T13:56:45.564Z"
   },
   {
    "duration": 46,
    "start_time": "2022-07-03T13:56:45.592Z"
   },
   {
    "duration": 20,
    "start_time": "2022-07-03T13:56:45.641Z"
   },
   {
    "duration": 8,
    "start_time": "2022-07-03T13:56:45.663Z"
   },
   {
    "duration": 26,
    "start_time": "2022-07-03T13:56:45.672Z"
   },
   {
    "duration": 35,
    "start_time": "2022-07-03T13:56:45.700Z"
   },
   {
    "duration": 33,
    "start_time": "2022-07-03T13:56:45.737Z"
   },
   {
    "duration": 35,
    "start_time": "2022-07-03T13:56:45.772Z"
   },
   {
    "duration": 23,
    "start_time": "2022-07-03T13:56:45.826Z"
   },
   {
    "duration": 11,
    "start_time": "2022-07-03T13:56:45.852Z"
   },
   {
    "duration": 114,
    "start_time": "2022-07-03T13:56:45.865Z"
   },
   {
    "duration": 17,
    "start_time": "2022-07-03T13:56:45.981Z"
   },
   {
    "duration": 31,
    "start_time": "2022-07-03T13:56:46.000Z"
   },
   {
    "duration": 36,
    "start_time": "2022-07-03T13:56:46.032Z"
   },
   {
    "duration": 4,
    "start_time": "2022-07-03T14:01:41.530Z"
   },
   {
    "duration": 9,
    "start_time": "2022-07-03T14:02:33.349Z"
   },
   {
    "duration": 132,
    "start_time": "2022-07-03T14:03:11.766Z"
   },
   {
    "duration": 16,
    "start_time": "2022-07-03T14:03:24.626Z"
   },
   {
    "duration": 6,
    "start_time": "2022-07-03T14:03:34.600Z"
   },
   {
    "duration": 17,
    "start_time": "2022-07-03T14:03:35.498Z"
   },
   {
    "duration": 150,
    "start_time": "2022-07-03T14:04:01.901Z"
   },
   {
    "duration": 1456,
    "start_time": "2022-07-03T14:04:06.471Z"
   },
   {
    "duration": 4,
    "start_time": "2022-07-03T14:05:02.077Z"
   },
   {
    "duration": 5,
    "start_time": "2022-07-03T14:05:05.591Z"
   },
   {
    "duration": 1499,
    "start_time": "2022-07-03T14:05:05.866Z"
   },
   {
    "duration": 5,
    "start_time": "2022-07-03T14:08:01.802Z"
   },
   {
    "duration": 131,
    "start_time": "2022-07-03T14:08:02.472Z"
   },
   {
    "duration": 5,
    "start_time": "2022-07-03T14:08:31.457Z"
   },
   {
    "duration": 27,
    "start_time": "2022-07-03T14:08:32.023Z"
   },
   {
    "duration": 5,
    "start_time": "2022-07-03T14:08:39.010Z"
   },
   {
    "duration": 131,
    "start_time": "2022-07-03T14:08:40.097Z"
   },
   {
    "duration": 5,
    "start_time": "2022-07-03T14:08:53.397Z"
   },
   {
    "duration": 275,
    "start_time": "2022-07-03T14:08:54.055Z"
   },
   {
    "duration": 5,
    "start_time": "2022-07-03T14:09:14.754Z"
   },
   {
    "duration": 247,
    "start_time": "2022-07-03T14:09:15.745Z"
   },
   {
    "duration": 4,
    "start_time": "2022-07-03T14:09:29.610Z"
   },
   {
    "duration": 223,
    "start_time": "2022-07-03T14:09:29.992Z"
   },
   {
    "duration": 5,
    "start_time": "2022-07-03T14:10:09.261Z"
   },
   {
    "duration": 287,
    "start_time": "2022-07-03T14:10:09.430Z"
   },
   {
    "duration": 4,
    "start_time": "2022-07-03T14:10:17.149Z"
   },
   {
    "duration": 0,
    "start_time": "2022-07-03T14:10:40.672Z"
   },
   {
    "duration": 0,
    "start_time": "2022-07-03T14:10:40.674Z"
   },
   {
    "duration": 4,
    "start_time": "2022-07-03T14:10:43.121Z"
   },
   {
    "duration": 165,
    "start_time": "2022-07-03T14:10:43.625Z"
   },
   {
    "duration": 5,
    "start_time": "2022-07-03T14:10:56.658Z"
   },
   {
    "duration": 347,
    "start_time": "2022-07-03T14:10:56.932Z"
   },
   {
    "duration": 64,
    "start_time": "2022-07-03T14:14:46.418Z"
   },
   {
    "duration": 5,
    "start_time": "2022-07-03T14:14:52.682Z"
   },
   {
    "duration": 1642,
    "start_time": "2022-07-03T14:14:53.193Z"
   },
   {
    "duration": 86,
    "start_time": "2022-07-03T14:15:31.165Z"
   },
   {
    "duration": 1554,
    "start_time": "2022-07-03T14:15:31.606Z"
   },
   {
    "duration": 6,
    "start_time": "2022-07-03T14:15:43.720Z"
   },
   {
    "duration": 1598,
    "start_time": "2022-07-03T14:15:44.085Z"
   },
   {
    "duration": 1687,
    "start_time": "2022-07-03T14:16:33.602Z"
   },
   {
    "duration": 1513,
    "start_time": "2022-07-03T14:16:38.573Z"
   },
   {
    "duration": 1579,
    "start_time": "2022-07-03T14:16:47.697Z"
   },
   {
    "duration": 1574,
    "start_time": "2022-07-03T14:17:21.196Z"
   },
   {
    "duration": 6,
    "start_time": "2022-07-03T14:17:34.813Z"
   },
   {
    "duration": 1518,
    "start_time": "2022-07-03T14:17:35.268Z"
   },
   {
    "duration": 1717,
    "start_time": "2022-07-03T14:17:36.788Z"
   },
   {
    "duration": 1415,
    "start_time": "2022-07-03T14:17:38.507Z"
   },
   {
    "duration": 50,
    "start_time": "2022-07-03T14:26:42.453Z"
   },
   {
    "duration": 4,
    "start_time": "2022-07-03T14:27:48.663Z"
   },
   {
    "duration": 6,
    "start_time": "2022-07-03T14:33:56.954Z"
   },
   {
    "duration": 635,
    "start_time": "2022-07-03T14:34:15.564Z"
   },
   {
    "duration": 1408,
    "start_time": "2022-07-03T14:34:37.129Z"
   },
   {
    "duration": 3,
    "start_time": "2022-07-03T14:51:49.946Z"
   },
   {
    "duration": 91,
    "start_time": "2022-07-03T14:53:12.167Z"
   },
   {
    "duration": 12,
    "start_time": "2022-07-03T14:53:14.522Z"
   },
   {
    "duration": 14,
    "start_time": "2022-07-03T14:53:24.604Z"
   },
   {
    "duration": 8,
    "start_time": "2022-07-03T14:53:49.574Z"
   },
   {
    "duration": 1119,
    "start_time": "2022-07-03T14:55:45.425Z"
   },
   {
    "duration": 19,
    "start_time": "2022-07-03T15:01:01.287Z"
   },
   {
    "duration": 34,
    "start_time": "2022-07-03T15:01:08.928Z"
   },
   {
    "duration": 43,
    "start_time": "2022-07-03T15:03:21.238Z"
   },
   {
    "duration": 35,
    "start_time": "2022-07-03T15:03:23.700Z"
   },
   {
    "duration": 33,
    "start_time": "2022-07-03T15:03:26.608Z"
   },
   {
    "duration": 36,
    "start_time": "2022-07-03T15:03:30.492Z"
   },
   {
    "duration": 10,
    "start_time": "2022-07-03T15:09:20.842Z"
   },
   {
    "duration": 6,
    "start_time": "2022-07-03T15:09:29.467Z"
   },
   {
    "duration": 9,
    "start_time": "2022-07-03T15:09:58.276Z"
   },
   {
    "duration": 5,
    "start_time": "2022-07-03T15:28:10.280Z"
   },
   {
    "duration": 64,
    "start_time": "2022-07-03T15:41:47.359Z"
   },
   {
    "duration": 51,
    "start_time": "2022-07-03T15:41:56.259Z"
   },
   {
    "duration": 87,
    "start_time": "2022-07-03T15:42:00.385Z"
   },
   {
    "duration": 46,
    "start_time": "2022-07-03T15:42:26.343Z"
   },
   {
    "duration": 21,
    "start_time": "2022-07-03T15:42:33.289Z"
   },
   {
    "duration": 1349,
    "start_time": "2022-07-03T15:42:53.086Z"
   },
   {
    "duration": 722,
    "start_time": "2022-07-03T15:42:54.437Z"
   },
   {
    "duration": 27,
    "start_time": "2022-07-03T15:42:55.161Z"
   },
   {
    "duration": 18,
    "start_time": "2022-07-03T15:42:55.190Z"
   },
   {
    "duration": 32,
    "start_time": "2022-07-03T15:42:55.210Z"
   },
   {
    "duration": 129,
    "start_time": "2022-07-03T15:42:55.244Z"
   },
   {
    "duration": 17,
    "start_time": "2022-07-03T15:42:55.375Z"
   },
   {
    "duration": 128,
    "start_time": "2022-07-03T15:42:55.394Z"
   },
   {
    "duration": 0,
    "start_time": "2022-07-03T15:42:55.526Z"
   },
   {
    "duration": 0,
    "start_time": "2022-07-03T15:42:55.526Z"
   },
   {
    "duration": 0,
    "start_time": "2022-07-03T15:42:55.528Z"
   },
   {
    "duration": 0,
    "start_time": "2022-07-03T15:42:55.528Z"
   },
   {
    "duration": 0,
    "start_time": "2022-07-03T15:42:55.529Z"
   },
   {
    "duration": 0,
    "start_time": "2022-07-03T15:42:55.531Z"
   },
   {
    "duration": 0,
    "start_time": "2022-07-03T15:42:55.532Z"
   },
   {
    "duration": 0,
    "start_time": "2022-07-03T15:42:55.533Z"
   },
   {
    "duration": 0,
    "start_time": "2022-07-03T15:42:55.534Z"
   },
   {
    "duration": 0,
    "start_time": "2022-07-03T15:42:55.535Z"
   },
   {
    "duration": 0,
    "start_time": "2022-07-03T15:42:55.535Z"
   },
   {
    "duration": 0,
    "start_time": "2022-07-03T15:42:55.538Z"
   },
   {
    "duration": 0,
    "start_time": "2022-07-03T15:42:55.539Z"
   },
   {
    "duration": 0,
    "start_time": "2022-07-03T15:42:55.540Z"
   },
   {
    "duration": 1,
    "start_time": "2022-07-03T15:42:55.541Z"
   },
   {
    "duration": 0,
    "start_time": "2022-07-03T15:42:55.543Z"
   },
   {
    "duration": 0,
    "start_time": "2022-07-03T15:42:55.544Z"
   },
   {
    "duration": 0,
    "start_time": "2022-07-03T15:42:55.545Z"
   },
   {
    "duration": 0,
    "start_time": "2022-07-03T15:42:55.545Z"
   },
   {
    "duration": 0,
    "start_time": "2022-07-03T15:42:55.546Z"
   },
   {
    "duration": 0,
    "start_time": "2022-07-03T15:42:55.547Z"
   },
   {
    "duration": 0,
    "start_time": "2022-07-03T15:42:55.548Z"
   },
   {
    "duration": 0,
    "start_time": "2022-07-03T15:42:55.549Z"
   },
   {
    "duration": 0,
    "start_time": "2022-07-03T15:42:55.550Z"
   },
   {
    "duration": 0,
    "start_time": "2022-07-03T15:42:55.551Z"
   },
   {
    "duration": 0,
    "start_time": "2022-07-03T15:42:55.552Z"
   },
   {
    "duration": 0,
    "start_time": "2022-07-03T15:42:55.553Z"
   },
   {
    "duration": 0,
    "start_time": "2022-07-03T15:42:55.554Z"
   },
   {
    "duration": 6,
    "start_time": "2022-07-03T15:43:15.638Z"
   },
   {
    "duration": 1443,
    "start_time": "2022-07-03T15:43:21.403Z"
   },
   {
    "duration": 707,
    "start_time": "2022-07-03T15:43:22.848Z"
   },
   {
    "duration": 24,
    "start_time": "2022-07-03T15:43:23.556Z"
   },
   {
    "duration": 17,
    "start_time": "2022-07-03T15:43:23.582Z"
   },
   {
    "duration": 36,
    "start_time": "2022-07-03T15:43:23.601Z"
   },
   {
    "duration": 120,
    "start_time": "2022-07-03T15:43:23.639Z"
   },
   {
    "duration": 16,
    "start_time": "2022-07-03T15:43:23.761Z"
   },
   {
    "duration": 6,
    "start_time": "2022-07-03T15:43:23.778Z"
   },
   {
    "duration": 50,
    "start_time": "2022-07-03T15:43:23.786Z"
   },
   {
    "duration": 25,
    "start_time": "2022-07-03T15:43:23.840Z"
   },
   {
    "duration": 22,
    "start_time": "2022-07-03T15:43:23.867Z"
   },
   {
    "duration": 15,
    "start_time": "2022-07-03T15:43:23.890Z"
   },
   {
    "duration": 6,
    "start_time": "2022-07-03T15:43:23.906Z"
   },
   {
    "duration": 23,
    "start_time": "2022-07-03T15:43:23.933Z"
   },
   {
    "duration": 10,
    "start_time": "2022-07-03T15:43:23.958Z"
   },
   {
    "duration": 24,
    "start_time": "2022-07-03T15:43:23.969Z"
   },
   {
    "duration": 42,
    "start_time": "2022-07-03T15:43:23.994Z"
   },
   {
    "duration": 29,
    "start_time": "2022-07-03T15:43:24.037Z"
   },
   {
    "duration": 10,
    "start_time": "2022-07-03T15:43:24.068Z"
   },
   {
    "duration": 108,
    "start_time": "2022-07-03T15:43:24.080Z"
   },
   {
    "duration": 16,
    "start_time": "2022-07-03T15:43:24.190Z"
   },
   {
    "duration": 30,
    "start_time": "2022-07-03T15:43:24.208Z"
   },
   {
    "duration": 27,
    "start_time": "2022-07-03T15:43:24.239Z"
   },
   {
    "duration": 5,
    "start_time": "2022-07-03T15:43:24.268Z"
   },
   {
    "duration": 1642,
    "start_time": "2022-07-03T15:43:24.275Z"
   },
   {
    "duration": 1571,
    "start_time": "2022-07-03T15:43:25.919Z"
   },
   {
    "duration": 1880,
    "start_time": "2022-07-03T15:43:27.491Z"
   },
   {
    "duration": 5,
    "start_time": "2022-07-03T15:43:29.428Z"
   },
   {
    "duration": 1121,
    "start_time": "2022-07-03T15:43:29.441Z"
   },
   {
    "duration": 794,
    "start_time": "2022-07-03T15:43:30.563Z"
   },
   {
    "duration": 3,
    "start_time": "2022-07-03T15:43:31.359Z"
   },
   {
    "duration": 25,
    "start_time": "2022-07-03T15:43:31.364Z"
   },
   {
    "duration": 1355,
    "start_time": "2022-07-03T15:43:31.391Z"
   },
   {
    "duration": 39,
    "start_time": "2022-07-03T15:43:32.748Z"
   },
   {
    "duration": 135,
    "start_time": "2022-07-03T15:43:32.788Z"
   },
   {
    "duration": 0,
    "start_time": "2022-07-03T15:43:32.925Z"
   },
   {
    "duration": 1123,
    "start_time": "2022-07-03T15:53:47.100Z"
   },
   {
    "duration": 1520,
    "start_time": "2022-07-03T16:00:08.149Z"
   },
   {
    "duration": 783,
    "start_time": "2022-07-03T16:00:09.672Z"
   },
   {
    "duration": 28,
    "start_time": "2022-07-03T16:00:10.457Z"
   },
   {
    "duration": 19,
    "start_time": "2022-07-03T16:00:10.487Z"
   },
   {
    "duration": 34,
    "start_time": "2022-07-03T16:00:10.508Z"
   },
   {
    "duration": 134,
    "start_time": "2022-07-03T16:00:10.549Z"
   },
   {
    "duration": 18,
    "start_time": "2022-07-03T16:00:10.686Z"
   },
   {
    "duration": 22,
    "start_time": "2022-07-03T16:00:10.705Z"
   },
   {
    "duration": 21,
    "start_time": "2022-07-03T16:00:10.729Z"
   },
   {
    "duration": 23,
    "start_time": "2022-07-03T16:00:10.754Z"
   },
   {
    "duration": 19,
    "start_time": "2022-07-03T16:00:10.779Z"
   },
   {
    "duration": 35,
    "start_time": "2022-07-03T16:00:10.800Z"
   },
   {
    "duration": 40,
    "start_time": "2022-07-03T16:00:10.837Z"
   },
   {
    "duration": 10,
    "start_time": "2022-07-03T16:00:10.879Z"
   },
   {
    "duration": 45,
    "start_time": "2022-07-03T16:00:10.891Z"
   },
   {
    "duration": 27,
    "start_time": "2022-07-03T16:00:10.938Z"
   },
   {
    "duration": 12,
    "start_time": "2022-07-03T16:00:10.967Z"
   },
   {
    "duration": 141,
    "start_time": "2022-07-03T16:00:10.981Z"
   },
   {
    "duration": 23,
    "start_time": "2022-07-03T16:00:11.123Z"
   },
   {
    "duration": 13,
    "start_time": "2022-07-03T16:00:11.149Z"
   },
   {
    "duration": 9,
    "start_time": "2022-07-03T16:00:11.165Z"
   },
   {
    "duration": 1565,
    "start_time": "2022-07-03T16:00:11.176Z"
   },
   {
    "duration": 1741,
    "start_time": "2022-07-03T16:00:12.743Z"
   },
   {
    "duration": 1738,
    "start_time": "2022-07-03T16:00:14.488Z"
   },
   {
    "duration": 5,
    "start_time": "2022-07-03T16:00:16.228Z"
   },
   {
    "duration": 687,
    "start_time": "2022-07-03T16:00:16.235Z"
   },
   {
    "duration": 696,
    "start_time": "2022-07-03T16:00:16.924Z"
   },
   {
    "duration": 5,
    "start_time": "2022-07-03T16:00:17.625Z"
   },
   {
    "duration": 46,
    "start_time": "2022-07-03T16:00:17.632Z"
   },
   {
    "duration": 1517,
    "start_time": "2022-07-03T16:00:17.680Z"
   },
   {
    "duration": 55,
    "start_time": "2022-07-03T16:00:19.199Z"
   },
   {
    "duration": 1295,
    "start_time": "2022-07-03T16:00:19.256Z"
   },
   {
    "duration": 132,
    "start_time": "2022-07-03T16:00:20.554Z"
   },
   {
    "duration": 0,
    "start_time": "2022-07-03T16:00:20.688Z"
   },
   {
    "duration": 4,
    "start_time": "2022-07-03T16:07:17.227Z"
   },
   {
    "duration": 13,
    "start_time": "2022-07-03T16:20:24.504Z"
   },
   {
    "duration": 6,
    "start_time": "2022-07-03T16:20:27.243Z"
   },
   {
    "duration": 6,
    "start_time": "2022-07-03T16:20:31.446Z"
   },
   {
    "duration": 5,
    "start_time": "2022-07-03T16:48:13.441Z"
   },
   {
    "duration": 21,
    "start_time": "2022-07-03T16:54:12.595Z"
   },
   {
    "duration": 63,
    "start_time": "2022-07-03T17:03:07.216Z"
   },
   {
    "duration": 72,
    "start_time": "2022-07-03T17:03:11.077Z"
   },
   {
    "duration": 49,
    "start_time": "2022-07-03T17:03:21.644Z"
   },
   {
    "duration": 79,
    "start_time": "2022-07-03T17:03:28.388Z"
   },
   {
    "duration": 12,
    "start_time": "2022-07-03T17:03:49.612Z"
   },
   {
    "duration": 7,
    "start_time": "2022-07-03T17:05:42.561Z"
   },
   {
    "duration": 22,
    "start_time": "2022-07-03T17:06:06.816Z"
   },
   {
    "duration": 9,
    "start_time": "2022-07-03T17:06:24.213Z"
   },
   {
    "duration": 4,
    "start_time": "2022-07-03T17:08:04.073Z"
   },
   {
    "duration": 18,
    "start_time": "2022-07-03T17:12:22.836Z"
   },
   {
    "duration": 6,
    "start_time": "2022-07-03T17:13:12.274Z"
   },
   {
    "duration": 15,
    "start_time": "2022-07-03T17:13:15.748Z"
   },
   {
    "duration": 10,
    "start_time": "2022-07-03T17:22:06.173Z"
   },
   {
    "duration": 244,
    "start_time": "2022-07-03T17:22:17.091Z"
   },
   {
    "duration": 598,
    "start_time": "2022-07-03T17:24:29.542Z"
   },
   {
    "duration": 3577,
    "start_time": "2022-07-03T17:24:46.055Z"
   },
   {
    "duration": 12,
    "start_time": "2022-07-03T17:32:26.089Z"
   },
   {
    "duration": 8,
    "start_time": "2022-07-03T17:32:33.224Z"
   },
   {
    "duration": 3243,
    "start_time": "2022-07-03T17:32:59.188Z"
   },
   {
    "duration": 3,
    "start_time": "2022-07-03T17:35:59.486Z"
   },
   {
    "duration": 17,
    "start_time": "2022-07-03T17:41:55.523Z"
   },
   {
    "duration": 17,
    "start_time": "2022-07-03T17:42:11.219Z"
   },
   {
    "duration": 92334,
    "start_time": "2022-07-03T17:42:28.368Z"
   },
   {
    "duration": 1127,
    "start_time": "2022-07-03T17:44:07.148Z"
   },
   {
    "duration": 1260,
    "start_time": "2022-07-03T17:46:31.026Z"
   },
   {
    "duration": 1119,
    "start_time": "2022-07-03T17:46:59.487Z"
   },
   {
    "duration": 116942,
    "start_time": "2022-07-03T17:47:13.719Z"
   },
   {
    "duration": 331626,
    "start_time": "2022-07-03T17:53:30.485Z"
   },
   {
    "duration": 278034,
    "start_time": "2022-07-03T17:59:11.946Z"
   },
   {
    "duration": 201573,
    "start_time": "2022-07-03T18:03:56.671Z"
   },
   {
    "duration": 2437,
    "start_time": "2022-07-03T18:07:56.735Z"
   },
   {
    "duration": 2579,
    "start_time": "2022-07-03T18:09:41.657Z"
   },
   {
    "duration": 11717,
    "start_time": "2022-07-03T18:14:09.587Z"
   },
   {
    "duration": 12040,
    "start_time": "2022-07-03T18:15:00.854Z"
   },
   {
    "duration": 11707,
    "start_time": "2022-07-03T18:15:40.484Z"
   },
   {
    "duration": 5,
    "start_time": "2022-07-03T18:19:31.289Z"
   },
   {
    "duration": 6,
    "start_time": "2022-07-03T18:19:36.391Z"
   },
   {
    "duration": 6,
    "start_time": "2022-07-03T18:19:43.387Z"
   },
   {
    "duration": 1535,
    "start_time": "2022-07-03T18:21:49.372Z"
   },
   {
    "duration": 756,
    "start_time": "2022-07-03T18:21:50.909Z"
   },
   {
    "duration": 25,
    "start_time": "2022-07-03T18:21:51.667Z"
   },
   {
    "duration": 37,
    "start_time": "2022-07-03T18:21:51.694Z"
   },
   {
    "duration": 13,
    "start_time": "2022-07-03T18:21:51.733Z"
   },
   {
    "duration": 134,
    "start_time": "2022-07-03T18:21:51.749Z"
   },
   {
    "duration": 17,
    "start_time": "2022-07-03T18:21:51.884Z"
   },
   {
    "duration": 23,
    "start_time": "2022-07-03T18:21:51.903Z"
   },
   {
    "duration": 24,
    "start_time": "2022-07-03T18:21:51.928Z"
   },
   {
    "duration": 22,
    "start_time": "2022-07-03T18:21:51.956Z"
   },
   {
    "duration": 17,
    "start_time": "2022-07-03T18:21:51.979Z"
   },
   {
    "duration": 40,
    "start_time": "2022-07-03T18:21:51.997Z"
   },
   {
    "duration": 35,
    "start_time": "2022-07-03T18:21:52.038Z"
   },
   {
    "duration": 12,
    "start_time": "2022-07-03T18:21:52.075Z"
   },
   {
    "duration": 21,
    "start_time": "2022-07-03T18:21:52.089Z"
   },
   {
    "duration": 24,
    "start_time": "2022-07-03T18:21:52.111Z"
   },
   {
    "duration": 39,
    "start_time": "2022-07-03T18:21:52.139Z"
   },
   {
    "duration": 35,
    "start_time": "2022-07-03T18:21:52.180Z"
   },
   {
    "duration": 27,
    "start_time": "2022-07-03T18:21:52.217Z"
   },
   {
    "duration": 14,
    "start_time": "2022-07-03T18:21:52.245Z"
   },
   {
    "duration": 134,
    "start_time": "2022-07-03T18:21:52.261Z"
   },
   {
    "duration": 18,
    "start_time": "2022-07-03T18:21:52.396Z"
   },
   {
    "duration": 16,
    "start_time": "2022-07-03T18:21:52.416Z"
   },
   {
    "duration": 50,
    "start_time": "2022-07-03T18:21:52.434Z"
   },
   {
    "duration": 15,
    "start_time": "2022-07-03T18:21:52.485Z"
   },
   {
    "duration": 1742,
    "start_time": "2022-07-03T18:21:52.502Z"
   },
   {
    "duration": 2712,
    "start_time": "2022-07-03T18:21:54.246Z"
   },
   {
    "duration": 2013,
    "start_time": "2022-07-03T18:21:56.962Z"
   },
   {
    "duration": 7,
    "start_time": "2022-07-03T18:21:58.978Z"
   },
   {
    "duration": 760,
    "start_time": "2022-07-03T18:21:58.987Z"
   },
   {
    "duration": 739,
    "start_time": "2022-07-03T18:21:59.753Z"
   },
   {
    "duration": 3,
    "start_time": "2022-07-03T18:22:00.493Z"
   },
   {
    "duration": 19,
    "start_time": "2022-07-03T18:22:00.498Z"
   },
   {
    "duration": 1475,
    "start_time": "2022-07-03T18:22:00.519Z"
   },
   {
    "duration": 72,
    "start_time": "2022-07-03T18:22:01.997Z"
   },
   {
    "duration": 1325,
    "start_time": "2022-07-03T18:22:02.071Z"
   },
   {
    "duration": 158,
    "start_time": "2022-07-03T18:22:03.398Z"
   },
   {
    "duration": 0,
    "start_time": "2022-07-03T18:22:03.558Z"
   },
   {
    "duration": 0,
    "start_time": "2022-07-03T18:22:03.559Z"
   },
   {
    "duration": 0,
    "start_time": "2022-07-03T18:22:03.561Z"
   },
   {
    "duration": 0,
    "start_time": "2022-07-03T18:22:03.562Z"
   },
   {
    "duration": 0,
    "start_time": "2022-07-03T18:22:03.564Z"
   },
   {
    "duration": 1,
    "start_time": "2022-07-03T18:22:03.565Z"
   },
   {
    "duration": 0,
    "start_time": "2022-07-03T18:22:03.567Z"
   },
   {
    "duration": 0,
    "start_time": "2022-07-03T18:22:03.568Z"
   },
   {
    "duration": 0,
    "start_time": "2022-07-03T18:22:03.569Z"
   },
   {
    "duration": 0,
    "start_time": "2022-07-03T18:22:03.570Z"
   },
   {
    "duration": 1466,
    "start_time": "2022-07-03T18:22:55.385Z"
   },
   {
    "duration": 723,
    "start_time": "2022-07-03T18:22:56.853Z"
   },
   {
    "duration": 25,
    "start_time": "2022-07-03T18:22:57.577Z"
   },
   {
    "duration": 41,
    "start_time": "2022-07-03T18:22:57.604Z"
   },
   {
    "duration": 9,
    "start_time": "2022-07-03T18:22:57.648Z"
   },
   {
    "duration": 140,
    "start_time": "2022-07-03T18:22:57.659Z"
   },
   {
    "duration": 30,
    "start_time": "2022-07-03T18:22:57.801Z"
   },
   {
    "duration": 15,
    "start_time": "2022-07-03T18:22:57.833Z"
   },
   {
    "duration": 29,
    "start_time": "2022-07-03T18:22:57.850Z"
   },
   {
    "duration": 34,
    "start_time": "2022-07-03T18:22:57.881Z"
   },
   {
    "duration": 21,
    "start_time": "2022-07-03T18:22:57.928Z"
   },
   {
    "duration": 13,
    "start_time": "2022-07-03T18:22:57.951Z"
   },
   {
    "duration": 23,
    "start_time": "2022-07-03T18:22:57.965Z"
   },
   {
    "duration": 34,
    "start_time": "2022-07-03T18:22:57.993Z"
   },
   {
    "duration": 13,
    "start_time": "2022-07-03T18:22:58.035Z"
   },
   {
    "duration": 23,
    "start_time": "2022-07-03T18:22:58.050Z"
   },
   {
    "duration": 23,
    "start_time": "2022-07-03T18:22:58.075Z"
   },
   {
    "duration": 46,
    "start_time": "2022-07-03T18:22:58.101Z"
   },
   {
    "duration": 11,
    "start_time": "2022-07-03T18:22:58.149Z"
   },
   {
    "duration": 118,
    "start_time": "2022-07-03T18:22:58.161Z"
   },
   {
    "duration": 21,
    "start_time": "2022-07-03T18:22:58.281Z"
   },
   {
    "duration": 33,
    "start_time": "2022-07-03T18:22:58.304Z"
   },
   {
    "duration": 31,
    "start_time": "2022-07-03T18:22:58.340Z"
   },
   {
    "duration": 6,
    "start_time": "2022-07-03T18:22:58.373Z"
   },
   {
    "duration": 1660,
    "start_time": "2022-07-03T18:22:58.381Z"
   },
   {
    "duration": 1730,
    "start_time": "2022-07-03T18:23:00.043Z"
   },
   {
    "duration": 1982,
    "start_time": "2022-07-03T18:23:01.775Z"
   },
   {
    "duration": 5,
    "start_time": "2022-07-03T18:23:03.759Z"
   },
   {
    "duration": 1397,
    "start_time": "2022-07-03T18:23:03.766Z"
   },
   {
    "duration": 1154,
    "start_time": "2022-07-03T18:23:05.164Z"
   },
   {
    "duration": 9,
    "start_time": "2022-07-03T18:23:06.321Z"
   },
   {
    "duration": 38,
    "start_time": "2022-07-03T18:23:06.333Z"
   },
   {
    "duration": 1423,
    "start_time": "2022-07-03T18:23:06.373Z"
   },
   {
    "duration": 63,
    "start_time": "2022-07-03T18:23:07.798Z"
   },
   {
    "duration": 1406,
    "start_time": "2022-07-03T18:23:07.863Z"
   },
   {
    "duration": 12,
    "start_time": "2022-07-03T18:23:09.271Z"
   },
   {
    "duration": 18,
    "start_time": "2022-07-03T18:23:09.284Z"
   },
   {
    "duration": 9,
    "start_time": "2022-07-03T18:23:09.304Z"
   },
   {
    "duration": 24,
    "start_time": "2022-07-03T18:23:09.328Z"
   },
   {
    "duration": 6,
    "start_time": "2022-07-03T18:23:09.355Z"
   },
   {
    "duration": 5,
    "start_time": "2022-07-03T18:23:09.366Z"
   },
   {
    "duration": 5063,
    "start_time": "2022-07-03T18:23:09.373Z"
   },
   {
    "duration": 726,
    "start_time": "2022-07-03T18:23:38.885Z"
   },
   {
    "duration": 35,
    "start_time": "2022-07-03T18:23:39.613Z"
   },
   {
    "duration": 29,
    "start_time": "2022-07-03T18:23:39.649Z"
   },
   {
    "duration": 10,
    "start_time": "2022-07-03T18:23:39.680Z"
   },
   {
    "duration": 240,
    "start_time": "2022-07-03T18:23:39.693Z"
   },
   {
    "duration": 29,
    "start_time": "2022-07-03T18:23:39.935Z"
   },
   {
    "duration": 65,
    "start_time": "2022-07-03T18:23:39.966Z"
   },
   {
    "duration": 49,
    "start_time": "2022-07-03T18:23:40.033Z"
   },
   {
    "duration": 76,
    "start_time": "2022-07-03T18:23:40.084Z"
   },
   {
    "duration": 74,
    "start_time": "2022-07-03T18:23:40.162Z"
   },
   {
    "duration": 11,
    "start_time": "2022-07-03T18:23:40.238Z"
   },
   {
    "duration": 108,
    "start_time": "2022-07-03T18:23:40.252Z"
   },
   {
    "duration": 13,
    "start_time": "2022-07-03T18:23:40.362Z"
   },
   {
    "duration": 10,
    "start_time": "2022-07-03T18:23:40.427Z"
   },
   {
    "duration": 98,
    "start_time": "2022-07-03T18:23:40.438Z"
   },
   {
    "duration": 32,
    "start_time": "2022-07-03T18:23:40.539Z"
   },
   {
    "duration": 26,
    "start_time": "2022-07-03T18:23:40.627Z"
   },
   {
    "duration": 22,
    "start_time": "2022-07-03T18:23:40.655Z"
   },
   {
    "duration": 304,
    "start_time": "2022-07-03T18:23:40.728Z"
   },
   {
    "duration": 24,
    "start_time": "2022-07-03T18:23:41.035Z"
   },
   {
    "duration": 16,
    "start_time": "2022-07-03T18:23:41.061Z"
   },
   {
    "duration": 14,
    "start_time": "2022-07-03T18:23:41.132Z"
   },
   {
    "duration": 3212,
    "start_time": "2022-07-03T18:23:41.150Z"
   },
   {
    "duration": 2375,
    "start_time": "2022-07-03T18:23:44.364Z"
   },
   {
    "duration": 1696,
    "start_time": "2022-07-03T18:23:46.742Z"
   },
   {
    "duration": 10,
    "start_time": "2022-07-03T18:23:48.447Z"
   },
   {
    "duration": 671,
    "start_time": "2022-07-03T18:23:48.458Z"
   },
   {
    "duration": 734,
    "start_time": "2022-07-03T18:23:49.142Z"
   },
   {
    "duration": 4,
    "start_time": "2022-07-03T18:23:49.878Z"
   },
   {
    "duration": 35,
    "start_time": "2022-07-03T18:23:49.884Z"
   },
   {
    "duration": 1615,
    "start_time": "2022-07-03T18:23:49.920Z"
   },
   {
    "duration": 57,
    "start_time": "2022-07-03T18:23:51.537Z"
   },
   {
    "duration": 1506,
    "start_time": "2022-07-03T18:23:51.597Z"
   },
   {
    "duration": 24,
    "start_time": "2022-07-03T18:23:53.105Z"
   },
   {
    "duration": 42,
    "start_time": "2022-07-03T18:23:53.131Z"
   },
   {
    "duration": 6,
    "start_time": "2022-07-03T18:23:53.175Z"
   },
   {
    "duration": 17,
    "start_time": "2022-07-03T18:23:53.183Z"
   },
   {
    "duration": 11,
    "start_time": "2022-07-03T18:23:53.203Z"
   },
   {
    "duration": 12,
    "start_time": "2022-07-03T18:23:53.216Z"
   },
   {
    "duration": 5412,
    "start_time": "2022-07-03T18:23:53.232Z"
   },
   {
    "duration": 1432,
    "start_time": "2022-07-03T18:25:24.945Z"
   },
   {
    "duration": 989,
    "start_time": "2022-07-03T18:25:26.379Z"
   },
   {
    "duration": 87,
    "start_time": "2022-07-03T18:25:27.369Z"
   },
   {
    "duration": 92,
    "start_time": "2022-07-03T18:25:27.457Z"
   },
   {
    "duration": 14,
    "start_time": "2022-07-03T18:25:27.554Z"
   },
   {
    "duration": 285,
    "start_time": "2022-07-03T18:25:27.569Z"
   },
   {
    "duration": 16,
    "start_time": "2022-07-03T18:25:27.856Z"
   },
   {
    "duration": 64,
    "start_time": "2022-07-03T18:25:27.873Z"
   },
   {
    "duration": 40,
    "start_time": "2022-07-03T18:25:27.939Z"
   },
   {
    "duration": 66,
    "start_time": "2022-07-03T18:25:27.981Z"
   },
   {
    "duration": 18,
    "start_time": "2022-07-03T18:25:28.049Z"
   },
   {
    "duration": 60,
    "start_time": "2022-07-03T18:25:28.069Z"
   },
   {
    "duration": 27,
    "start_time": "2022-07-03T18:25:28.133Z"
   },
   {
    "duration": 12,
    "start_time": "2022-07-03T18:25:28.163Z"
   },
   {
    "duration": 363,
    "start_time": "2022-07-03T18:25:28.176Z"
   },
   {
    "duration": 0,
    "start_time": "2022-07-03T18:25:28.541Z"
   },
   {
    "duration": 0,
    "start_time": "2022-07-03T18:25:28.542Z"
   },
   {
    "duration": 0,
    "start_time": "2022-07-03T18:25:28.543Z"
   },
   {
    "duration": 0,
    "start_time": "2022-07-03T18:25:28.544Z"
   },
   {
    "duration": 0,
    "start_time": "2022-07-03T18:25:28.544Z"
   },
   {
    "duration": 0,
    "start_time": "2022-07-03T18:25:28.545Z"
   },
   {
    "duration": 0,
    "start_time": "2022-07-03T18:25:28.546Z"
   },
   {
    "duration": 0,
    "start_time": "2022-07-03T18:25:28.547Z"
   },
   {
    "duration": 0,
    "start_time": "2022-07-03T18:25:28.547Z"
   },
   {
    "duration": 0,
    "start_time": "2022-07-03T18:25:28.548Z"
   },
   {
    "duration": 0,
    "start_time": "2022-07-03T18:25:28.549Z"
   },
   {
    "duration": 0,
    "start_time": "2022-07-03T18:25:28.551Z"
   },
   {
    "duration": 0,
    "start_time": "2022-07-03T18:25:28.553Z"
   },
   {
    "duration": 0,
    "start_time": "2022-07-03T18:25:28.554Z"
   },
   {
    "duration": 0,
    "start_time": "2022-07-03T18:25:28.555Z"
   },
   {
    "duration": 0,
    "start_time": "2022-07-03T18:25:28.556Z"
   },
   {
    "duration": 0,
    "start_time": "2022-07-03T18:25:28.557Z"
   },
   {
    "duration": 0,
    "start_time": "2022-07-03T18:25:28.558Z"
   },
   {
    "duration": 0,
    "start_time": "2022-07-03T18:25:28.559Z"
   },
   {
    "duration": 1,
    "start_time": "2022-07-03T18:25:28.560Z"
   },
   {
    "duration": 0,
    "start_time": "2022-07-03T18:25:28.562Z"
   },
   {
    "duration": 0,
    "start_time": "2022-07-03T18:25:28.564Z"
   },
   {
    "duration": 0,
    "start_time": "2022-07-03T18:25:28.565Z"
   },
   {
    "duration": 0,
    "start_time": "2022-07-03T18:25:28.567Z"
   },
   {
    "duration": 0,
    "start_time": "2022-07-03T18:25:28.568Z"
   },
   {
    "duration": 0,
    "start_time": "2022-07-03T18:25:28.638Z"
   },
   {
    "duration": 0,
    "start_time": "2022-07-03T18:25:28.639Z"
   },
   {
    "duration": 0,
    "start_time": "2022-07-03T18:25:28.640Z"
   },
   {
    "duration": 0,
    "start_time": "2022-07-03T18:25:28.641Z"
   },
   {
    "duration": 0,
    "start_time": "2022-07-03T18:25:28.641Z"
   },
   {
    "duration": 26,
    "start_time": "2022-07-03T18:26:06.085Z"
   },
   {
    "duration": 20,
    "start_time": "2022-07-03T18:26:25.954Z"
   },
   {
    "duration": 22,
    "start_time": "2022-07-03T18:27:37.339Z"
   },
   {
    "duration": 19,
    "start_time": "2022-07-03T18:27:38.176Z"
   },
   {
    "duration": 11,
    "start_time": "2022-07-03T18:27:38.699Z"
   },
   {
    "duration": 99,
    "start_time": "2022-07-03T18:27:39.538Z"
   },
   {
    "duration": 17,
    "start_time": "2022-07-03T18:27:39.870Z"
   },
   {
    "duration": 10,
    "start_time": "2022-07-03T18:27:40.470Z"
   },
   {
    "duration": 17,
    "start_time": "2022-07-03T18:27:44.801Z"
   },
   {
    "duration": 17,
    "start_time": "2022-07-03T18:28:01.455Z"
   },
   {
    "duration": 1494,
    "start_time": "2022-07-03T18:28:05.775Z"
   },
   {
    "duration": 848,
    "start_time": "2022-07-03T18:28:07.272Z"
   },
   {
    "duration": 32,
    "start_time": "2022-07-03T18:28:08.122Z"
   },
   {
    "duration": 22,
    "start_time": "2022-07-03T18:28:08.156Z"
   },
   {
    "duration": 25,
    "start_time": "2022-07-03T18:28:08.180Z"
   },
   {
    "duration": 163,
    "start_time": "2022-07-03T18:28:08.206Z"
   },
   {
    "duration": 18,
    "start_time": "2022-07-03T18:28:08.371Z"
   },
   {
    "duration": 8,
    "start_time": "2022-07-03T18:28:08.390Z"
   },
   {
    "duration": 48,
    "start_time": "2022-07-03T18:28:08.401Z"
   },
   {
    "duration": 22,
    "start_time": "2022-07-03T18:28:08.451Z"
   },
   {
    "duration": 16,
    "start_time": "2022-07-03T18:28:08.474Z"
   },
   {
    "duration": 40,
    "start_time": "2022-07-03T18:28:08.492Z"
   },
   {
    "duration": 27,
    "start_time": "2022-07-03T18:28:08.533Z"
   },
   {
    "duration": 12,
    "start_time": "2022-07-03T18:28:08.565Z"
   },
   {
    "duration": 35,
    "start_time": "2022-07-03T18:28:08.578Z"
   },
   {
    "duration": 33,
    "start_time": "2022-07-03T18:28:08.628Z"
   },
   {
    "duration": 11,
    "start_time": "2022-07-03T18:28:08.664Z"
   },
   {
    "duration": 120,
    "start_time": "2022-07-03T18:28:08.677Z"
   },
   {
    "duration": 28,
    "start_time": "2022-07-03T18:28:08.799Z"
   },
   {
    "duration": 17,
    "start_time": "2022-07-03T18:28:08.829Z"
   },
   {
    "duration": 135,
    "start_time": "2022-07-03T18:28:08.848Z"
   },
   {
    "duration": 0,
    "start_time": "2022-07-03T18:28:08.985Z"
   },
   {
    "duration": 0,
    "start_time": "2022-07-03T18:28:08.986Z"
   },
   {
    "duration": 0,
    "start_time": "2022-07-03T18:28:08.987Z"
   },
   {
    "duration": 0,
    "start_time": "2022-07-03T18:28:08.989Z"
   },
   {
    "duration": 0,
    "start_time": "2022-07-03T18:28:08.990Z"
   },
   {
    "duration": 0,
    "start_time": "2022-07-03T18:28:08.991Z"
   },
   {
    "duration": 0,
    "start_time": "2022-07-03T18:28:08.992Z"
   },
   {
    "duration": 0,
    "start_time": "2022-07-03T18:28:08.992Z"
   },
   {
    "duration": 0,
    "start_time": "2022-07-03T18:28:08.993Z"
   },
   {
    "duration": 0,
    "start_time": "2022-07-03T18:28:08.995Z"
   },
   {
    "duration": 0,
    "start_time": "2022-07-03T18:28:08.997Z"
   },
   {
    "duration": 0,
    "start_time": "2022-07-03T18:28:08.998Z"
   },
   {
    "duration": 0,
    "start_time": "2022-07-03T18:28:09.000Z"
   },
   {
    "duration": 0,
    "start_time": "2022-07-03T18:28:09.001Z"
   },
   {
    "duration": 0,
    "start_time": "2022-07-03T18:28:09.026Z"
   },
   {
    "duration": 0,
    "start_time": "2022-07-03T18:28:09.027Z"
   },
   {
    "duration": 0,
    "start_time": "2022-07-03T18:28:09.029Z"
   },
   {
    "duration": 0,
    "start_time": "2022-07-03T18:28:09.030Z"
   },
   {
    "duration": 0,
    "start_time": "2022-07-03T18:28:09.031Z"
   },
   {
    "duration": 0,
    "start_time": "2022-07-03T18:28:09.031Z"
   },
   {
    "duration": 0,
    "start_time": "2022-07-03T18:28:09.032Z"
   },
   {
    "duration": 0,
    "start_time": "2022-07-03T18:28:09.033Z"
   },
   {
    "duration": 0,
    "start_time": "2022-07-03T18:28:09.034Z"
   },
   {
    "duration": 24,
    "start_time": "2022-07-03T18:28:31.123Z"
   },
   {
    "duration": 16,
    "start_time": "2022-07-03T18:29:38.395Z"
   },
   {
    "duration": 1541,
    "start_time": "2022-07-03T18:29:42.742Z"
   },
   {
    "duration": 1258,
    "start_time": "2022-07-03T18:29:44.286Z"
   },
   {
    "duration": 287,
    "start_time": "2022-07-03T18:29:45.546Z"
   },
   {
    "duration": 0,
    "start_time": "2022-07-03T18:29:45.842Z"
   },
   {
    "duration": 0,
    "start_time": "2022-07-03T18:29:45.843Z"
   },
   {
    "duration": 0,
    "start_time": "2022-07-03T18:29:45.844Z"
   },
   {
    "duration": 0,
    "start_time": "2022-07-03T18:29:45.846Z"
   },
   {
    "duration": 0,
    "start_time": "2022-07-03T18:29:45.846Z"
   },
   {
    "duration": 0,
    "start_time": "2022-07-03T18:29:45.848Z"
   },
   {
    "duration": 0,
    "start_time": "2022-07-03T18:29:45.849Z"
   },
   {
    "duration": 0,
    "start_time": "2022-07-03T18:29:45.850Z"
   },
   {
    "duration": 0,
    "start_time": "2022-07-03T18:29:45.852Z"
   },
   {
    "duration": 0,
    "start_time": "2022-07-03T18:29:45.853Z"
   },
   {
    "duration": 0,
    "start_time": "2022-07-03T18:29:45.855Z"
   },
   {
    "duration": 0,
    "start_time": "2022-07-03T18:29:45.857Z"
   },
   {
    "duration": 0,
    "start_time": "2022-07-03T18:29:45.858Z"
   },
   {
    "duration": 0,
    "start_time": "2022-07-03T18:29:45.860Z"
   },
   {
    "duration": 0,
    "start_time": "2022-07-03T18:29:45.862Z"
   },
   {
    "duration": 0,
    "start_time": "2022-07-03T18:29:45.863Z"
   },
   {
    "duration": 0,
    "start_time": "2022-07-03T18:29:45.864Z"
   },
   {
    "duration": 0,
    "start_time": "2022-07-03T18:29:45.866Z"
   },
   {
    "duration": 0,
    "start_time": "2022-07-03T18:29:45.867Z"
   },
   {
    "duration": 0,
    "start_time": "2022-07-03T18:29:45.933Z"
   },
   {
    "duration": 0,
    "start_time": "2022-07-03T18:29:45.937Z"
   },
   {
    "duration": 0,
    "start_time": "2022-07-03T18:29:45.938Z"
   },
   {
    "duration": 0,
    "start_time": "2022-07-03T18:29:45.939Z"
   },
   {
    "duration": 0,
    "start_time": "2022-07-03T18:29:45.939Z"
   },
   {
    "duration": 0,
    "start_time": "2022-07-03T18:29:45.940Z"
   },
   {
    "duration": 0,
    "start_time": "2022-07-03T18:29:45.940Z"
   },
   {
    "duration": 0,
    "start_time": "2022-07-03T18:29:45.942Z"
   },
   {
    "duration": 0,
    "start_time": "2022-07-03T18:29:45.944Z"
   },
   {
    "duration": 0,
    "start_time": "2022-07-03T18:29:45.945Z"
   },
   {
    "duration": 0,
    "start_time": "2022-07-03T18:29:45.945Z"
   },
   {
    "duration": 0,
    "start_time": "2022-07-03T18:29:45.948Z"
   },
   {
    "duration": 0,
    "start_time": "2022-07-03T18:29:45.949Z"
   },
   {
    "duration": 0,
    "start_time": "2022-07-03T18:29:45.950Z"
   },
   {
    "duration": 0,
    "start_time": "2022-07-03T18:29:45.952Z"
   },
   {
    "duration": 0,
    "start_time": "2022-07-03T18:29:45.953Z"
   },
   {
    "duration": 0,
    "start_time": "2022-07-03T18:29:45.954Z"
   },
   {
    "duration": 0,
    "start_time": "2022-07-03T18:29:45.955Z"
   },
   {
    "duration": 0,
    "start_time": "2022-07-03T18:29:45.956Z"
   },
   {
    "duration": 0,
    "start_time": "2022-07-03T18:29:45.957Z"
   },
   {
    "duration": 0,
    "start_time": "2022-07-03T18:29:45.958Z"
   },
   {
    "duration": 0,
    "start_time": "2022-07-03T18:29:45.958Z"
   },
   {
    "duration": 35,
    "start_time": "2022-07-03T18:30:04.174Z"
   },
   {
    "duration": 20,
    "start_time": "2022-07-03T18:30:04.450Z"
   },
   {
    "duration": 17,
    "start_time": "2022-07-03T18:30:06.726Z"
   },
   {
    "duration": 136,
    "start_time": "2022-07-03T18:30:07.848Z"
   },
   {
    "duration": 26,
    "start_time": "2022-07-03T18:30:09.908Z"
   },
   {
    "duration": 9,
    "start_time": "2022-07-03T18:30:10.311Z"
   },
   {
    "duration": 22,
    "start_time": "2022-07-03T18:30:12.083Z"
   },
   {
    "duration": 23,
    "start_time": "2022-07-03T18:30:14.462Z"
   },
   {
    "duration": 23,
    "start_time": "2022-07-03T18:30:14.843Z"
   },
   {
    "duration": 17,
    "start_time": "2022-07-03T18:30:15.010Z"
   },
   {
    "duration": 8,
    "start_time": "2022-07-03T18:30:15.212Z"
   },
   {
    "duration": 23,
    "start_time": "2022-07-03T18:30:15.556Z"
   },
   {
    "duration": 12,
    "start_time": "2022-07-03T18:30:15.894Z"
   },
   {
    "duration": 26,
    "start_time": "2022-07-03T18:30:16.492Z"
   },
   {
    "duration": 21,
    "start_time": "2022-07-03T18:30:16.643Z"
   },
   {
    "duration": 21,
    "start_time": "2022-07-03T18:30:16.667Z"
   },
   {
    "duration": 132,
    "start_time": "2022-07-03T18:30:16.689Z"
   },
   {
    "duration": 23,
    "start_time": "2022-07-03T18:30:16.826Z"
   },
   {
    "duration": 33,
    "start_time": "2022-07-03T18:30:16.852Z"
   },
   {
    "duration": 9,
    "start_time": "2022-07-03T18:30:16.926Z"
   },
   {
    "duration": 1804,
    "start_time": "2022-07-03T18:30:16.940Z"
   },
   {
    "duration": 1658,
    "start_time": "2022-07-03T18:30:18.747Z"
   },
   {
    "duration": 1683,
    "start_time": "2022-07-03T18:30:20.407Z"
   },
   {
    "duration": 6,
    "start_time": "2022-07-03T18:30:22.094Z"
   },
   {
    "duration": 18,
    "start_time": "2022-07-03T18:33:02.945Z"
   },
   {
    "duration": 15,
    "start_time": "2022-07-03T18:33:15.951Z"
   },
   {
    "duration": 23,
    "start_time": "2022-07-03T18:33:26.040Z"
   },
   {
    "duration": 15,
    "start_time": "2022-07-03T18:33:33.688Z"
   },
   {
    "duration": 1418,
    "start_time": "2022-07-03T18:33:39.262Z"
   },
   {
    "duration": 777,
    "start_time": "2022-07-03T18:33:40.682Z"
   },
   {
    "duration": 31,
    "start_time": "2022-07-03T18:33:41.461Z"
   },
   {
    "duration": 53,
    "start_time": "2022-07-03T18:33:41.495Z"
   },
   {
    "duration": 11,
    "start_time": "2022-07-03T18:33:41.550Z"
   },
   {
    "duration": 145,
    "start_time": "2022-07-03T18:33:41.564Z"
   },
   {
    "duration": 33,
    "start_time": "2022-07-03T18:33:41.711Z"
   },
   {
    "duration": 8,
    "start_time": "2022-07-03T18:33:41.746Z"
   },
   {
    "duration": 22,
    "start_time": "2022-07-03T18:33:41.756Z"
   },
   {
    "duration": 56,
    "start_time": "2022-07-03T18:33:41.782Z"
   },
   {
    "duration": 16,
    "start_time": "2022-07-03T18:33:41.839Z"
   },
   {
    "duration": 7,
    "start_time": "2022-07-03T18:33:41.857Z"
   },
   {
    "duration": 26,
    "start_time": "2022-07-03T18:33:41.865Z"
   },
   {
    "duration": 11,
    "start_time": "2022-07-03T18:33:41.893Z"
   },
   {
    "duration": 33,
    "start_time": "2022-07-03T18:33:41.928Z"
   },
   {
    "duration": 19,
    "start_time": "2022-07-03T18:33:41.963Z"
   },
   {
    "duration": 10,
    "start_time": "2022-07-03T18:33:41.984Z"
   },
   {
    "duration": 146,
    "start_time": "2022-07-03T18:33:41.996Z"
   },
   {
    "duration": 20,
    "start_time": "2022-07-03T18:33:42.144Z"
   },
   {
    "duration": 10,
    "start_time": "2022-07-03T18:33:42.167Z"
   },
   {
    "duration": 157,
    "start_time": "2022-07-03T18:33:42.179Z"
   },
   {
    "duration": 0,
    "start_time": "2022-07-03T18:33:42.338Z"
   },
   {
    "duration": 0,
    "start_time": "2022-07-03T18:33:42.339Z"
   },
   {
    "duration": 0,
    "start_time": "2022-07-03T18:33:42.341Z"
   },
   {
    "duration": 0,
    "start_time": "2022-07-03T18:33:42.342Z"
   },
   {
    "duration": 0,
    "start_time": "2022-07-03T18:33:42.344Z"
   },
   {
    "duration": 0,
    "start_time": "2022-07-03T18:33:42.345Z"
   },
   {
    "duration": 0,
    "start_time": "2022-07-03T18:33:42.346Z"
   },
   {
    "duration": 0,
    "start_time": "2022-07-03T18:33:42.347Z"
   },
   {
    "duration": 0,
    "start_time": "2022-07-03T18:33:42.349Z"
   },
   {
    "duration": 0,
    "start_time": "2022-07-03T18:33:42.350Z"
   },
   {
    "duration": 0,
    "start_time": "2022-07-03T18:33:42.352Z"
   },
   {
    "duration": 0,
    "start_time": "2022-07-03T18:33:42.354Z"
   },
   {
    "duration": 0,
    "start_time": "2022-07-03T18:33:42.357Z"
   },
   {
    "duration": 0,
    "start_time": "2022-07-03T18:33:42.358Z"
   },
   {
    "duration": 0,
    "start_time": "2022-07-03T18:33:42.360Z"
   },
   {
    "duration": 0,
    "start_time": "2022-07-03T18:33:42.362Z"
   },
   {
    "duration": 0,
    "start_time": "2022-07-03T18:33:42.363Z"
   },
   {
    "duration": 0,
    "start_time": "2022-07-03T18:33:42.364Z"
   },
   {
    "duration": 0,
    "start_time": "2022-07-03T18:33:42.366Z"
   },
   {
    "duration": 0,
    "start_time": "2022-07-03T18:33:42.367Z"
   },
   {
    "duration": 0,
    "start_time": "2022-07-03T18:33:42.368Z"
   },
   {
    "duration": 0,
    "start_time": "2022-07-03T18:33:42.369Z"
   },
   {
    "duration": 0,
    "start_time": "2022-07-03T18:33:42.371Z"
   },
   {
    "duration": 20,
    "start_time": "2022-07-03T18:35:13.975Z"
   },
   {
    "duration": 19,
    "start_time": "2022-07-03T18:35:22.947Z"
   },
   {
    "duration": 31,
    "start_time": "2022-07-03T18:35:34.388Z"
   },
   {
    "duration": 8,
    "start_time": "2022-07-03T18:36:54.141Z"
   },
   {
    "duration": 31,
    "start_time": "2022-07-03T18:36:59.911Z"
   },
   {
    "duration": 6,
    "start_time": "2022-07-03T18:37:18.318Z"
   },
   {
    "duration": 21,
    "start_time": "2022-07-03T18:37:24.197Z"
   },
   {
    "duration": 11,
    "start_time": "2022-07-03T18:37:45.774Z"
   },
   {
    "duration": 20,
    "start_time": "2022-07-03T18:37:52.575Z"
   },
   {
    "duration": 19,
    "start_time": "2022-07-03T18:38:19.566Z"
   },
   {
    "duration": 1504,
    "start_time": "2022-07-03T18:40:36.094Z"
   },
   {
    "duration": 1071,
    "start_time": "2022-07-03T18:40:37.600Z"
   },
   {
    "duration": 72,
    "start_time": "2022-07-03T18:40:38.673Z"
   },
   {
    "duration": 23,
    "start_time": "2022-07-03T18:40:38.747Z"
   },
   {
    "duration": 83,
    "start_time": "2022-07-03T18:40:38.771Z"
   },
   {
    "duration": 15,
    "start_time": "2022-07-03T18:40:38.856Z"
   },
   {
    "duration": 17,
    "start_time": "2022-07-03T18:40:38.926Z"
   },
   {
    "duration": 318,
    "start_time": "2022-07-03T18:40:38.946Z"
   },
   {
    "duration": 78,
    "start_time": "2022-07-03T18:40:39.267Z"
   },
   {
    "duration": 13,
    "start_time": "2022-07-03T18:40:39.348Z"
   },
   {
    "duration": 82,
    "start_time": "2022-07-03T18:40:39.363Z"
   },
   {
    "duration": 222,
    "start_time": "2022-07-03T18:40:39.447Z"
   },
   {
    "duration": 0,
    "start_time": "2022-07-03T18:40:39.672Z"
   },
   {
    "duration": 0,
    "start_time": "2022-07-03T18:40:39.727Z"
   },
   {
    "duration": 0,
    "start_time": "2022-07-03T18:40:39.729Z"
   },
   {
    "duration": 0,
    "start_time": "2022-07-03T18:40:39.730Z"
   },
   {
    "duration": 0,
    "start_time": "2022-07-03T18:40:39.731Z"
   },
   {
    "duration": 0,
    "start_time": "2022-07-03T18:40:39.732Z"
   },
   {
    "duration": 0,
    "start_time": "2022-07-03T18:40:39.733Z"
   },
   {
    "duration": 0,
    "start_time": "2022-07-03T18:40:39.733Z"
   },
   {
    "duration": 0,
    "start_time": "2022-07-03T18:40:39.734Z"
   },
   {
    "duration": 0,
    "start_time": "2022-07-03T18:40:39.735Z"
   },
   {
    "duration": 0,
    "start_time": "2022-07-03T18:40:39.736Z"
   },
   {
    "duration": 0,
    "start_time": "2022-07-03T18:40:39.736Z"
   },
   {
    "duration": 0,
    "start_time": "2022-07-03T18:40:39.737Z"
   },
   {
    "duration": 0,
    "start_time": "2022-07-03T18:40:39.738Z"
   },
   {
    "duration": 0,
    "start_time": "2022-07-03T18:40:39.739Z"
   },
   {
    "duration": 0,
    "start_time": "2022-07-03T18:40:39.740Z"
   },
   {
    "duration": 0,
    "start_time": "2022-07-03T18:40:39.741Z"
   },
   {
    "duration": 0,
    "start_time": "2022-07-03T18:40:39.741Z"
   },
   {
    "duration": 0,
    "start_time": "2022-07-03T18:40:39.744Z"
   },
   {
    "duration": 0,
    "start_time": "2022-07-03T18:40:39.745Z"
   },
   {
    "duration": 0,
    "start_time": "2022-07-03T18:40:39.746Z"
   },
   {
    "duration": 0,
    "start_time": "2022-07-03T18:40:39.747Z"
   },
   {
    "duration": 0,
    "start_time": "2022-07-03T18:40:39.749Z"
   },
   {
    "duration": 0,
    "start_time": "2022-07-03T18:40:39.749Z"
   },
   {
    "duration": 0,
    "start_time": "2022-07-03T18:40:39.751Z"
   },
   {
    "duration": 0,
    "start_time": "2022-07-03T18:40:39.752Z"
   },
   {
    "duration": 0,
    "start_time": "2022-07-03T18:40:39.753Z"
   },
   {
    "duration": 0,
    "start_time": "2022-07-03T18:40:39.755Z"
   },
   {
    "duration": 0,
    "start_time": "2022-07-03T18:40:39.756Z"
   },
   {
    "duration": 0,
    "start_time": "2022-07-03T18:40:39.757Z"
   },
   {
    "duration": 0,
    "start_time": "2022-07-03T18:40:39.759Z"
   },
   {
    "duration": 0,
    "start_time": "2022-07-03T18:40:39.760Z"
   },
   {
    "duration": 0,
    "start_time": "2022-07-03T18:40:39.761Z"
   },
   {
    "duration": 0,
    "start_time": "2022-07-03T18:40:39.762Z"
   },
   {
    "duration": 0,
    "start_time": "2022-07-03T18:40:39.763Z"
   },
   {
    "duration": 0,
    "start_time": "2022-07-03T18:40:39.764Z"
   },
   {
    "duration": 0,
    "start_time": "2022-07-03T18:40:39.765Z"
   },
   {
    "duration": 0,
    "start_time": "2022-07-03T18:40:39.767Z"
   },
   {
    "duration": 0,
    "start_time": "2022-07-03T18:40:39.768Z"
   },
   {
    "duration": 14,
    "start_time": "2022-07-03T18:41:01.942Z"
   },
   {
    "duration": 7,
    "start_time": "2022-07-03T18:41:03.829Z"
   },
   {
    "duration": 1665,
    "start_time": "2022-07-03T18:41:46.058Z"
   },
   {
    "duration": 1523,
    "start_time": "2022-07-03T18:41:47.725Z"
   },
   {
    "duration": 19,
    "start_time": "2022-07-03T18:41:49.250Z"
   },
   {
    "duration": 72,
    "start_time": "2022-07-03T18:41:49.271Z"
   },
   {
    "duration": 11,
    "start_time": "2022-07-03T18:41:49.350Z"
   },
   {
    "duration": 87,
    "start_time": "2022-07-03T18:41:49.363Z"
   },
   {
    "duration": 79,
    "start_time": "2022-07-03T18:41:49.452Z"
   },
   {
    "duration": 11,
    "start_time": "2022-07-03T18:41:49.535Z"
   },
   {
    "duration": 281,
    "start_time": "2022-07-03T18:41:49.548Z"
   },
   {
    "duration": 20,
    "start_time": "2022-07-03T18:41:49.831Z"
   },
   {
    "duration": 15,
    "start_time": "2022-07-03T18:41:49.853Z"
   },
   {
    "duration": 77,
    "start_time": "2022-07-03T18:41:49.870Z"
   },
   {
    "duration": 227,
    "start_time": "2022-07-03T18:41:49.950Z"
   },
   {
    "duration": 0,
    "start_time": "2022-07-03T18:41:50.180Z"
   },
   {
    "duration": 0,
    "start_time": "2022-07-03T18:41:50.182Z"
   },
   {
    "duration": 0,
    "start_time": "2022-07-03T18:41:50.183Z"
   },
   {
    "duration": 0,
    "start_time": "2022-07-03T18:41:50.184Z"
   },
   {
    "duration": 0,
    "start_time": "2022-07-03T18:41:50.185Z"
   },
   {
    "duration": 0,
    "start_time": "2022-07-03T18:41:50.186Z"
   },
   {
    "duration": 0,
    "start_time": "2022-07-03T18:41:50.188Z"
   },
   {
    "duration": 0,
    "start_time": "2022-07-03T18:41:50.189Z"
   },
   {
    "duration": 0,
    "start_time": "2022-07-03T18:41:50.190Z"
   },
   {
    "duration": 0,
    "start_time": "2022-07-03T18:41:50.191Z"
   },
   {
    "duration": 0,
    "start_time": "2022-07-03T18:41:50.192Z"
   },
   {
    "duration": 0,
    "start_time": "2022-07-03T18:41:50.193Z"
   },
   {
    "duration": 0,
    "start_time": "2022-07-03T18:41:50.194Z"
   },
   {
    "duration": 0,
    "start_time": "2022-07-03T18:41:50.196Z"
   },
   {
    "duration": 0,
    "start_time": "2022-07-03T18:41:50.228Z"
   },
   {
    "duration": 1,
    "start_time": "2022-07-03T18:41:50.228Z"
   },
   {
    "duration": 0,
    "start_time": "2022-07-03T18:41:50.229Z"
   },
   {
    "duration": 0,
    "start_time": "2022-07-03T18:41:50.230Z"
   },
   {
    "duration": 0,
    "start_time": "2022-07-03T18:41:50.231Z"
   },
   {
    "duration": 0,
    "start_time": "2022-07-03T18:41:50.232Z"
   },
   {
    "duration": 0,
    "start_time": "2022-07-03T18:41:50.233Z"
   },
   {
    "duration": 0,
    "start_time": "2022-07-03T18:41:50.234Z"
   },
   {
    "duration": 0,
    "start_time": "2022-07-03T18:41:50.235Z"
   },
   {
    "duration": 0,
    "start_time": "2022-07-03T18:41:50.236Z"
   },
   {
    "duration": 0,
    "start_time": "2022-07-03T18:41:50.237Z"
   },
   {
    "duration": 0,
    "start_time": "2022-07-03T18:41:50.238Z"
   },
   {
    "duration": 0,
    "start_time": "2022-07-03T18:41:50.239Z"
   },
   {
    "duration": 0,
    "start_time": "2022-07-03T18:41:50.239Z"
   },
   {
    "duration": 0,
    "start_time": "2022-07-03T18:41:50.240Z"
   },
   {
    "duration": 0,
    "start_time": "2022-07-03T18:41:50.241Z"
   },
   {
    "duration": 1,
    "start_time": "2022-07-03T18:41:50.241Z"
   },
   {
    "duration": 0,
    "start_time": "2022-07-03T18:41:50.242Z"
   },
   {
    "duration": 0,
    "start_time": "2022-07-03T18:41:50.243Z"
   },
   {
    "duration": 0,
    "start_time": "2022-07-03T18:41:50.244Z"
   },
   {
    "duration": 0,
    "start_time": "2022-07-03T18:41:50.245Z"
   },
   {
    "duration": 0,
    "start_time": "2022-07-03T18:41:50.246Z"
   },
   {
    "duration": 0,
    "start_time": "2022-07-03T18:41:50.247Z"
   },
   {
    "duration": 0,
    "start_time": "2022-07-03T18:41:50.248Z"
   },
   {
    "duration": 0,
    "start_time": "2022-07-03T18:41:50.249Z"
   },
   {
    "duration": 1767,
    "start_time": "2022-07-03T18:44:50.907Z"
   },
   {
    "duration": 861,
    "start_time": "2022-07-03T18:44:52.676Z"
   },
   {
    "duration": 40,
    "start_time": "2022-07-03T18:44:53.539Z"
   },
   {
    "duration": 20,
    "start_time": "2022-07-03T18:44:53.581Z"
   },
   {
    "duration": 25,
    "start_time": "2022-07-03T18:44:53.602Z"
   },
   {
    "duration": 169,
    "start_time": "2022-07-03T18:44:53.628Z"
   },
   {
    "duration": 33,
    "start_time": "2022-07-03T18:44:53.799Z"
   },
   {
    "duration": 24,
    "start_time": "2022-07-03T18:44:53.834Z"
   },
   {
    "duration": 47,
    "start_time": "2022-07-03T18:44:53.862Z"
   },
   {
    "duration": 8,
    "start_time": "2022-07-03T18:44:53.912Z"
   },
   {
    "duration": 33,
    "start_time": "2022-07-03T18:44:53.922Z"
   },
   {
    "duration": 48,
    "start_time": "2022-07-03T18:44:53.958Z"
   },
   {
    "duration": 32,
    "start_time": "2022-07-03T18:44:54.008Z"
   },
   {
    "duration": 38,
    "start_time": "2022-07-03T18:44:54.042Z"
   },
   {
    "duration": 35,
    "start_time": "2022-07-03T18:44:54.082Z"
   },
   {
    "duration": 22,
    "start_time": "2022-07-03T18:44:54.120Z"
   },
   {
    "duration": 25,
    "start_time": "2022-07-03T18:44:54.146Z"
   },
   {
    "duration": 30,
    "start_time": "2022-07-03T18:44:54.174Z"
   },
   {
    "duration": 41,
    "start_time": "2022-07-03T18:44:54.207Z"
   },
   {
    "duration": 43,
    "start_time": "2022-07-03T18:44:54.253Z"
   },
   {
    "duration": 10,
    "start_time": "2022-07-03T18:44:54.298Z"
   },
   {
    "duration": 124,
    "start_time": "2022-07-03T18:44:54.310Z"
   },
   {
    "duration": 27,
    "start_time": "2022-07-03T18:44:54.438Z"
   },
   {
    "duration": 28,
    "start_time": "2022-07-03T18:44:54.466Z"
   },
   {
    "duration": 21,
    "start_time": "2022-07-03T18:44:54.497Z"
   },
   {
    "duration": 79,
    "start_time": "2022-07-03T18:44:54.521Z"
   },
   {
    "duration": 179,
    "start_time": "2022-07-03T18:44:54.603Z"
   },
   {
    "duration": 0,
    "start_time": "2022-07-03T18:44:54.785Z"
   },
   {
    "duration": 0,
    "start_time": "2022-07-03T18:44:54.786Z"
   },
   {
    "duration": 0,
    "start_time": "2022-07-03T18:44:54.788Z"
   },
   {
    "duration": 0,
    "start_time": "2022-07-03T18:44:54.789Z"
   },
   {
    "duration": 0,
    "start_time": "2022-07-03T18:44:54.790Z"
   },
   {
    "duration": 0,
    "start_time": "2022-07-03T18:44:54.791Z"
   },
   {
    "duration": 1,
    "start_time": "2022-07-03T18:44:54.792Z"
   },
   {
    "duration": 1,
    "start_time": "2022-07-03T18:44:54.793Z"
   },
   {
    "duration": 0,
    "start_time": "2022-07-03T18:44:54.795Z"
   },
   {
    "duration": 0,
    "start_time": "2022-07-03T18:44:54.796Z"
   },
   {
    "duration": 0,
    "start_time": "2022-07-03T18:44:54.797Z"
   },
   {
    "duration": 0,
    "start_time": "2022-07-03T18:44:54.798Z"
   },
   {
    "duration": 0,
    "start_time": "2022-07-03T18:44:54.799Z"
   },
   {
    "duration": 0,
    "start_time": "2022-07-03T18:44:54.800Z"
   },
   {
    "duration": 0,
    "start_time": "2022-07-03T18:44:54.801Z"
   },
   {
    "duration": 0,
    "start_time": "2022-07-03T18:44:54.803Z"
   },
   {
    "duration": 0,
    "start_time": "2022-07-03T18:44:54.827Z"
   },
   {
    "duration": 0,
    "start_time": "2022-07-03T18:44:54.829Z"
   },
   {
    "duration": 0,
    "start_time": "2022-07-03T18:44:54.830Z"
   },
   {
    "duration": 0,
    "start_time": "2022-07-03T18:44:54.832Z"
   },
   {
    "duration": 0,
    "start_time": "2022-07-03T18:44:54.840Z"
   },
   {
    "duration": 0,
    "start_time": "2022-07-03T18:44:54.840Z"
   },
   {
    "duration": 0,
    "start_time": "2022-07-03T18:44:54.841Z"
   },
   {
    "duration": 16,
    "start_time": "2022-07-03T18:45:54.779Z"
   },
   {
    "duration": 1698,
    "start_time": "2022-07-03T18:46:02.005Z"
   },
   {
    "duration": 859,
    "start_time": "2022-07-03T18:46:03.707Z"
   },
   {
    "duration": 22,
    "start_time": "2022-07-03T18:46:04.569Z"
   },
   {
    "duration": 32,
    "start_time": "2022-07-03T18:46:04.594Z"
   },
   {
    "duration": 102,
    "start_time": "2022-07-03T18:46:04.628Z"
   },
   {
    "duration": 56,
    "start_time": "2022-07-03T18:46:04.733Z"
   },
   {
    "duration": 30,
    "start_time": "2022-07-03T18:46:04.792Z"
   },
   {
    "duration": 204,
    "start_time": "2022-07-03T18:46:04.825Z"
   },
   {
    "duration": 21,
    "start_time": "2022-07-03T18:46:05.035Z"
   },
   {
    "duration": 31,
    "start_time": "2022-07-03T18:46:05.061Z"
   },
   {
    "duration": 38,
    "start_time": "2022-07-03T18:46:05.094Z"
   },
   {
    "duration": 160,
    "start_time": "2022-07-03T18:46:05.134Z"
   },
   {
    "duration": 0,
    "start_time": "2022-07-03T18:46:05.299Z"
   },
   {
    "duration": 0,
    "start_time": "2022-07-03T18:46:05.301Z"
   },
   {
    "duration": 0,
    "start_time": "2022-07-03T18:46:05.303Z"
   },
   {
    "duration": 0,
    "start_time": "2022-07-03T18:46:05.305Z"
   },
   {
    "duration": 0,
    "start_time": "2022-07-03T18:46:05.307Z"
   },
   {
    "duration": 0,
    "start_time": "2022-07-03T18:46:05.308Z"
   },
   {
    "duration": 0,
    "start_time": "2022-07-03T18:46:05.327Z"
   },
   {
    "duration": 0,
    "start_time": "2022-07-03T18:46:05.329Z"
   },
   {
    "duration": 0,
    "start_time": "2022-07-03T18:46:05.330Z"
   },
   {
    "duration": 0,
    "start_time": "2022-07-03T18:46:05.331Z"
   },
   {
    "duration": 0,
    "start_time": "2022-07-03T18:46:05.333Z"
   },
   {
    "duration": 0,
    "start_time": "2022-07-03T18:46:05.335Z"
   },
   {
    "duration": 0,
    "start_time": "2022-07-03T18:46:05.336Z"
   },
   {
    "duration": 0,
    "start_time": "2022-07-03T18:46:05.337Z"
   },
   {
    "duration": 0,
    "start_time": "2022-07-03T18:46:05.339Z"
   },
   {
    "duration": 0,
    "start_time": "2022-07-03T18:46:05.340Z"
   },
   {
    "duration": 0,
    "start_time": "2022-07-03T18:46:05.341Z"
   },
   {
    "duration": 0,
    "start_time": "2022-07-03T18:46:05.343Z"
   },
   {
    "duration": 0,
    "start_time": "2022-07-03T18:46:05.344Z"
   },
   {
    "duration": 0,
    "start_time": "2022-07-03T18:46:05.346Z"
   },
   {
    "duration": 0,
    "start_time": "2022-07-03T18:46:05.347Z"
   },
   {
    "duration": 0,
    "start_time": "2022-07-03T18:46:05.349Z"
   },
   {
    "duration": 0,
    "start_time": "2022-07-03T18:46:05.350Z"
   },
   {
    "duration": 0,
    "start_time": "2022-07-03T18:46:05.352Z"
   },
   {
    "duration": 0,
    "start_time": "2022-07-03T18:46:05.353Z"
   },
   {
    "duration": 0,
    "start_time": "2022-07-03T18:46:05.355Z"
   },
   {
    "duration": 0,
    "start_time": "2022-07-03T18:46:05.357Z"
   },
   {
    "duration": 0,
    "start_time": "2022-07-03T18:46:05.359Z"
   },
   {
    "duration": 0,
    "start_time": "2022-07-03T18:46:05.360Z"
   },
   {
    "duration": 0,
    "start_time": "2022-07-03T18:46:05.362Z"
   },
   {
    "duration": 0,
    "start_time": "2022-07-03T18:46:05.363Z"
   },
   {
    "duration": 0,
    "start_time": "2022-07-03T18:46:05.364Z"
   },
   {
    "duration": 0,
    "start_time": "2022-07-03T18:46:05.366Z"
   },
   {
    "duration": 0,
    "start_time": "2022-07-03T18:46:05.368Z"
   },
   {
    "duration": 0,
    "start_time": "2022-07-03T18:46:05.369Z"
   },
   {
    "duration": 0,
    "start_time": "2022-07-03T18:46:05.371Z"
   },
   {
    "duration": 0,
    "start_time": "2022-07-03T18:46:05.432Z"
   },
   {
    "duration": 0,
    "start_time": "2022-07-03T18:46:05.433Z"
   },
   {
    "duration": 1611,
    "start_time": "2022-07-03T18:46:29.392Z"
   },
   {
    "duration": 833,
    "start_time": "2022-07-03T18:46:31.005Z"
   },
   {
    "duration": 23,
    "start_time": "2022-07-03T18:46:31.845Z"
   },
   {
    "duration": 22,
    "start_time": "2022-07-03T18:46:31.872Z"
   },
   {
    "duration": 27,
    "start_time": "2022-07-03T18:46:31.896Z"
   },
   {
    "duration": 20,
    "start_time": "2022-07-03T18:46:31.926Z"
   },
   {
    "duration": 19,
    "start_time": "2022-07-03T18:46:31.955Z"
   },
   {
    "duration": 146,
    "start_time": "2022-07-03T18:46:31.976Z"
   },
   {
    "duration": 35,
    "start_time": "2022-07-03T18:46:32.127Z"
   },
   {
    "duration": 17,
    "start_time": "2022-07-03T18:46:32.169Z"
   },
   {
    "duration": 46,
    "start_time": "2022-07-03T18:46:32.190Z"
   },
   {
    "duration": 29,
    "start_time": "2022-07-03T18:46:32.239Z"
   },
   {
    "duration": 52,
    "start_time": "2022-07-03T18:46:32.271Z"
   },
   {
    "duration": 73,
    "start_time": "2022-07-03T18:46:32.325Z"
   },
   {
    "duration": 22,
    "start_time": "2022-07-03T18:46:32.400Z"
   },
   {
    "duration": 32,
    "start_time": "2022-07-03T18:46:32.424Z"
   },
   {
    "duration": 35,
    "start_time": "2022-07-03T18:46:32.457Z"
   },
   {
    "duration": 29,
    "start_time": "2022-07-03T18:46:32.495Z"
   },
   {
    "duration": 35,
    "start_time": "2022-07-03T18:46:32.527Z"
   },
   {
    "duration": 40,
    "start_time": "2022-07-03T18:46:32.565Z"
   },
   {
    "duration": 11,
    "start_time": "2022-07-03T18:46:32.607Z"
   },
   {
    "duration": 123,
    "start_time": "2022-07-03T18:46:32.620Z"
   },
   {
    "duration": 19,
    "start_time": "2022-07-03T18:46:32.746Z"
   },
   {
    "duration": 18,
    "start_time": "2022-07-03T18:46:32.771Z"
   },
   {
    "duration": 23,
    "start_time": "2022-07-03T18:46:32.791Z"
   },
   {
    "duration": 8,
    "start_time": "2022-07-03T18:46:32.816Z"
   },
   {
    "duration": 1946,
    "start_time": "2022-07-03T18:46:32.832Z"
   },
   {
    "duration": 2131,
    "start_time": "2022-07-03T18:46:34.783Z"
   },
   {
    "duration": 2722,
    "start_time": "2022-07-03T18:46:36.917Z"
   },
   {
    "duration": 9,
    "start_time": "2022-07-03T18:46:39.642Z"
   },
   {
    "duration": 1454,
    "start_time": "2022-07-03T18:46:39.653Z"
   },
   {
    "duration": 0,
    "start_time": "2022-07-03T18:46:41.110Z"
   },
   {
    "duration": 0,
    "start_time": "2022-07-03T18:46:41.112Z"
   },
   {
    "duration": 0,
    "start_time": "2022-07-03T18:46:41.113Z"
   },
   {
    "duration": 0,
    "start_time": "2022-07-03T18:46:41.115Z"
   },
   {
    "duration": 0,
    "start_time": "2022-07-03T18:46:41.129Z"
   },
   {
    "duration": 0,
    "start_time": "2022-07-03T18:46:41.131Z"
   },
   {
    "duration": 0,
    "start_time": "2022-07-03T18:46:41.132Z"
   },
   {
    "duration": 0,
    "start_time": "2022-07-03T18:46:41.133Z"
   },
   {
    "duration": 0,
    "start_time": "2022-07-03T18:46:41.134Z"
   },
   {
    "duration": 0,
    "start_time": "2022-07-03T18:46:41.135Z"
   },
   {
    "duration": 0,
    "start_time": "2022-07-03T18:46:41.136Z"
   },
   {
    "duration": 0,
    "start_time": "2022-07-03T18:46:41.137Z"
   },
   {
    "duration": 0,
    "start_time": "2022-07-03T18:46:41.139Z"
   },
   {
    "duration": 0,
    "start_time": "2022-07-03T18:46:41.142Z"
   },
   {
    "duration": 0,
    "start_time": "2022-07-03T18:46:41.143Z"
   },
   {
    "duration": 0,
    "start_time": "2022-07-03T18:46:41.144Z"
   },
   {
    "duration": 0,
    "start_time": "2022-07-03T18:46:41.145Z"
   },
   {
    "duration": 5,
    "start_time": "2022-07-03T18:54:51.435Z"
   },
   {
    "duration": 3,
    "start_time": "2022-07-03T18:56:25.984Z"
   },
   {
    "duration": 12,
    "start_time": "2022-07-03T18:56:26.248Z"
   },
   {
    "duration": 3,
    "start_time": "2022-07-03T18:56:40.122Z"
   },
   {
    "duration": 12,
    "start_time": "2022-07-03T18:56:40.526Z"
   },
   {
    "duration": 7,
    "start_time": "2022-07-03T18:57:19.616Z"
   },
   {
    "duration": 18,
    "start_time": "2022-07-03T18:57:25.460Z"
   },
   {
    "duration": 1520,
    "start_time": "2022-07-03T18:57:30.001Z"
   },
   {
    "duration": 819,
    "start_time": "2022-07-03T18:57:31.524Z"
   },
   {
    "duration": 23,
    "start_time": "2022-07-03T18:57:32.345Z"
   },
   {
    "duration": 20,
    "start_time": "2022-07-03T18:57:32.370Z"
   },
   {
    "duration": 44,
    "start_time": "2022-07-03T18:57:32.392Z"
   },
   {
    "duration": 23,
    "start_time": "2022-07-03T18:57:32.438Z"
   },
   {
    "duration": 9,
    "start_time": "2022-07-03T18:57:32.463Z"
   },
   {
    "duration": 149,
    "start_time": "2022-07-03T18:57:32.473Z"
   },
   {
    "duration": 24,
    "start_time": "2022-07-03T18:57:32.624Z"
   },
   {
    "duration": 26,
    "start_time": "2022-07-03T18:57:32.660Z"
   },
   {
    "duration": 41,
    "start_time": "2022-07-03T18:57:32.688Z"
   },
   {
    "duration": 25,
    "start_time": "2022-07-03T18:57:32.740Z"
   },
   {
    "duration": 21,
    "start_time": "2022-07-03T18:57:32.767Z"
   },
   {
    "duration": 16,
    "start_time": "2022-07-03T18:57:32.789Z"
   },
   {
    "duration": 26,
    "start_time": "2022-07-03T18:57:32.807Z"
   },
   {
    "duration": 38,
    "start_time": "2022-07-03T18:57:32.836Z"
   },
   {
    "duration": 14,
    "start_time": "2022-07-03T18:57:32.876Z"
   },
   {
    "duration": 45,
    "start_time": "2022-07-03T18:57:32.892Z"
   },
   {
    "duration": 43,
    "start_time": "2022-07-03T18:57:32.939Z"
   },
   {
    "duration": 25,
    "start_time": "2022-07-03T18:57:32.984Z"
   },
   {
    "duration": 9,
    "start_time": "2022-07-03T18:57:33.011Z"
   },
   {
    "duration": 134,
    "start_time": "2022-07-03T18:57:33.022Z"
   },
   {
    "duration": 11,
    "start_time": "2022-07-03T18:57:33.158Z"
   },
   {
    "duration": 9,
    "start_time": "2022-07-03T18:57:33.171Z"
   },
   {
    "duration": 20,
    "start_time": "2022-07-03T18:57:33.181Z"
   },
   {
    "duration": 13,
    "start_time": "2022-07-03T18:57:33.202Z"
   },
   {
    "duration": 1838,
    "start_time": "2022-07-03T18:57:33.217Z"
   },
   {
    "duration": 1550,
    "start_time": "2022-07-03T18:57:35.059Z"
   },
   {
    "duration": 1738,
    "start_time": "2022-07-03T18:57:36.611Z"
   },
   {
    "duration": 5,
    "start_time": "2022-07-03T18:57:38.351Z"
   },
   {
    "duration": 677,
    "start_time": "2022-07-03T18:57:38.358Z"
   },
   {
    "duration": 620,
    "start_time": "2022-07-03T18:57:39.036Z"
   },
   {
    "duration": 3,
    "start_time": "2022-07-03T18:57:39.659Z"
   },
   {
    "duration": 17,
    "start_time": "2022-07-03T18:57:39.664Z"
   },
   {
    "duration": 1411,
    "start_time": "2022-07-03T18:57:39.683Z"
   },
   {
    "duration": 54,
    "start_time": "2022-07-03T18:57:41.096Z"
   },
   {
    "duration": 1380,
    "start_time": "2022-07-03T18:57:41.154Z"
   },
   {
    "duration": 4,
    "start_time": "2022-07-03T18:57:42.535Z"
   },
   {
    "duration": 41,
    "start_time": "2022-07-03T18:57:42.541Z"
   },
   {
    "duration": 135,
    "start_time": "2022-07-03T18:57:42.584Z"
   },
   {
    "duration": 0,
    "start_time": "2022-07-03T18:57:42.721Z"
   },
   {
    "duration": 0,
    "start_time": "2022-07-03T18:57:42.722Z"
   },
   {
    "duration": 0,
    "start_time": "2022-07-03T18:57:42.728Z"
   },
   {
    "duration": 0,
    "start_time": "2022-07-03T18:57:42.731Z"
   },
   {
    "duration": 0,
    "start_time": "2022-07-03T18:57:42.732Z"
   },
   {
    "duration": 0,
    "start_time": "2022-07-03T18:57:42.733Z"
   },
   {
    "duration": 0,
    "start_time": "2022-07-03T18:57:42.735Z"
   },
   {
    "duration": 0,
    "start_time": "2022-07-03T18:57:42.736Z"
   },
   {
    "duration": 0,
    "start_time": "2022-07-03T18:57:42.737Z"
   },
   {
    "duration": 0,
    "start_time": "2022-07-03T18:57:42.738Z"
   },
   {
    "duration": 1536,
    "start_time": "2022-07-03T18:58:04.922Z"
   },
   {
    "duration": 785,
    "start_time": "2022-07-03T18:58:06.461Z"
   },
   {
    "duration": 21,
    "start_time": "2022-07-03T18:58:07.250Z"
   },
   {
    "duration": 16,
    "start_time": "2022-07-03T18:58:07.273Z"
   },
   {
    "duration": 63,
    "start_time": "2022-07-03T18:58:07.291Z"
   },
   {
    "duration": 19,
    "start_time": "2022-07-03T18:58:07.357Z"
   },
   {
    "duration": 9,
    "start_time": "2022-07-03T18:58:07.379Z"
   },
   {
    "duration": 162,
    "start_time": "2022-07-03T18:58:07.390Z"
   },
   {
    "duration": 19,
    "start_time": "2022-07-03T18:58:07.555Z"
   },
   {
    "duration": 11,
    "start_time": "2022-07-03T18:58:07.576Z"
   },
   {
    "duration": 58,
    "start_time": "2022-07-03T18:58:07.589Z"
   },
   {
    "duration": 25,
    "start_time": "2022-07-03T18:58:07.656Z"
   },
   {
    "duration": 28,
    "start_time": "2022-07-03T18:58:07.683Z"
   },
   {
    "duration": 16,
    "start_time": "2022-07-03T18:58:07.713Z"
   },
   {
    "duration": 27,
    "start_time": "2022-07-03T18:58:07.730Z"
   },
   {
    "duration": 27,
    "start_time": "2022-07-03T18:58:07.760Z"
   },
   {
    "duration": 11,
    "start_time": "2022-07-03T18:58:07.789Z"
   },
   {
    "duration": 40,
    "start_time": "2022-07-03T18:58:07.802Z"
   },
   {
    "duration": 34,
    "start_time": "2022-07-03T18:58:07.848Z"
   },
   {
    "duration": 22,
    "start_time": "2022-07-03T18:58:07.884Z"
   },
   {
    "duration": 9,
    "start_time": "2022-07-03T18:58:07.908Z"
   },
   {
    "duration": 125,
    "start_time": "2022-07-03T18:58:07.919Z"
   },
   {
    "duration": 16,
    "start_time": "2022-07-03T18:58:08.045Z"
   },
   {
    "duration": 13,
    "start_time": "2022-07-03T18:58:08.063Z"
   },
   {
    "duration": 21,
    "start_time": "2022-07-03T18:58:08.079Z"
   },
   {
    "duration": 40,
    "start_time": "2022-07-03T18:58:08.102Z"
   },
   {
    "duration": 1710,
    "start_time": "2022-07-03T18:58:08.146Z"
   },
   {
    "duration": 1766,
    "start_time": "2022-07-03T18:58:09.858Z"
   },
   {
    "duration": 1658,
    "start_time": "2022-07-03T18:58:11.627Z"
   },
   {
    "duration": 7,
    "start_time": "2022-07-03T18:58:13.287Z"
   },
   {
    "duration": 619,
    "start_time": "2022-07-03T18:58:13.296Z"
   },
   {
    "duration": 678,
    "start_time": "2022-07-03T18:58:13.917Z"
   },
   {
    "duration": 5,
    "start_time": "2022-07-03T18:58:14.597Z"
   },
   {
    "duration": 16,
    "start_time": "2022-07-03T18:58:14.604Z"
   },
   {
    "duration": 1452,
    "start_time": "2022-07-03T18:58:14.629Z"
   },
   {
    "duration": 52,
    "start_time": "2022-07-03T18:58:16.083Z"
   },
   {
    "duration": 1303,
    "start_time": "2022-07-03T18:58:16.139Z"
   },
   {
    "duration": 8,
    "start_time": "2022-07-03T18:58:17.448Z"
   },
   {
    "duration": 24,
    "start_time": "2022-07-03T18:58:17.464Z"
   },
   {
    "duration": 125,
    "start_time": "2022-07-03T18:58:17.490Z"
   },
   {
    "duration": 0,
    "start_time": "2022-07-03T18:58:17.617Z"
   },
   {
    "duration": 0,
    "start_time": "2022-07-03T18:58:17.618Z"
   },
   {
    "duration": 0,
    "start_time": "2022-07-03T18:58:17.620Z"
   },
   {
    "duration": 0,
    "start_time": "2022-07-03T18:58:17.630Z"
   },
   {
    "duration": 0,
    "start_time": "2022-07-03T18:58:17.630Z"
   },
   {
    "duration": 0,
    "start_time": "2022-07-03T18:58:17.631Z"
   },
   {
    "duration": 0,
    "start_time": "2022-07-03T18:58:17.632Z"
   },
   {
    "duration": 0,
    "start_time": "2022-07-03T18:58:17.632Z"
   },
   {
    "duration": 0,
    "start_time": "2022-07-03T18:58:17.633Z"
   },
   {
    "duration": 0,
    "start_time": "2022-07-03T18:58:17.634Z"
   },
   {
    "duration": 1492,
    "start_time": "2022-07-03T18:58:45.900Z"
   },
   {
    "duration": 770,
    "start_time": "2022-07-03T18:58:47.394Z"
   },
   {
    "duration": 19,
    "start_time": "2022-07-03T18:58:48.166Z"
   },
   {
    "duration": 14,
    "start_time": "2022-07-03T18:58:48.187Z"
   },
   {
    "duration": 58,
    "start_time": "2022-07-03T18:58:48.202Z"
   },
   {
    "duration": 27,
    "start_time": "2022-07-03T18:58:48.262Z"
   },
   {
    "duration": 15,
    "start_time": "2022-07-03T18:58:48.291Z"
   },
   {
    "duration": 151,
    "start_time": "2022-07-03T18:58:48.308Z"
   },
   {
    "duration": 15,
    "start_time": "2022-07-03T18:58:48.462Z"
   },
   {
    "duration": 8,
    "start_time": "2022-07-03T18:58:48.480Z"
   },
   {
    "duration": 20,
    "start_time": "2022-07-03T18:58:48.489Z"
   },
   {
    "duration": 43,
    "start_time": "2022-07-03T18:58:48.510Z"
   },
   {
    "duration": 60,
    "start_time": "2022-07-03T18:58:48.555Z"
   },
   {
    "duration": 30,
    "start_time": "2022-07-03T18:58:48.617Z"
   },
   {
    "duration": 12,
    "start_time": "2022-07-03T18:58:48.656Z"
   },
   {
    "duration": 22,
    "start_time": "2022-07-03T18:58:48.669Z"
   },
   {
    "duration": 10,
    "start_time": "2022-07-03T18:58:48.693Z"
   },
   {
    "duration": 30,
    "start_time": "2022-07-03T18:58:48.704Z"
   },
   {
    "duration": 47,
    "start_time": "2022-07-03T18:58:48.736Z"
   },
   {
    "duration": 35,
    "start_time": "2022-07-03T18:58:48.786Z"
   },
   {
    "duration": 14,
    "start_time": "2022-07-03T18:58:48.823Z"
   },
   {
    "duration": 132,
    "start_time": "2022-07-03T18:58:48.839Z"
   },
   {
    "duration": 10,
    "start_time": "2022-07-03T18:58:48.973Z"
   },
   {
    "duration": 9,
    "start_time": "2022-07-03T18:58:48.985Z"
   },
   {
    "duration": 62,
    "start_time": "2022-07-03T18:58:48.996Z"
   },
   {
    "duration": 5,
    "start_time": "2022-07-03T18:58:49.060Z"
   },
   {
    "duration": 1690,
    "start_time": "2022-07-03T18:58:49.067Z"
   },
   {
    "duration": 1705,
    "start_time": "2022-07-03T18:58:50.762Z"
   },
   {
    "duration": 1739,
    "start_time": "2022-07-03T18:58:52.469Z"
   },
   {
    "duration": 5,
    "start_time": "2022-07-03T18:58:54.210Z"
   },
   {
    "duration": 676,
    "start_time": "2022-07-03T18:58:54.216Z"
   },
   {
    "duration": 650,
    "start_time": "2022-07-03T18:58:54.893Z"
   },
   {
    "duration": 6,
    "start_time": "2022-07-03T18:58:55.546Z"
   },
   {
    "duration": 22,
    "start_time": "2022-07-03T18:58:55.553Z"
   },
   {
    "duration": 1392,
    "start_time": "2022-07-03T18:58:55.577Z"
   },
   {
    "duration": 39,
    "start_time": "2022-07-03T18:58:56.970Z"
   },
   {
    "duration": 1266,
    "start_time": "2022-07-03T18:58:57.010Z"
   },
   {
    "duration": 4,
    "start_time": "2022-07-03T18:58:58.279Z"
   },
   {
    "duration": 20,
    "start_time": "2022-07-03T18:58:58.285Z"
   },
   {
    "duration": 32,
    "start_time": "2022-07-03T18:58:58.306Z"
   },
   {
    "duration": 32,
    "start_time": "2022-07-03T18:58:58.341Z"
   },
   {
    "duration": 7,
    "start_time": "2022-07-03T18:58:58.376Z"
   },
   {
    "duration": 7,
    "start_time": "2022-07-03T18:58:58.385Z"
   },
   {
    "duration": 5,
    "start_time": "2022-07-03T18:58:58.394Z"
   },
   {
    "duration": 2957,
    "start_time": "2022-07-03T18:58:58.401Z"
   },
   {
    "duration": 80751,
    "start_time": "2022-07-03T18:59:01.429Z"
   },
   {
    "duration": 124633,
    "start_time": "2022-07-03T19:00:22.182Z"
   },
   {
    "duration": 7525,
    "start_time": "2022-07-03T19:02:26.817Z"
   },
   {
    "duration": 0,
    "start_time": "2022-07-03T19:02:34.345Z"
   },
   {
    "duration": 7542,
    "start_time": "2022-07-03T19:03:13.626Z"
   },
   {
    "duration": 811,
    "start_time": "2022-07-03T19:03:58.899Z"
   },
   {
    "duration": 813,
    "start_time": "2022-07-03T19:04:04.838Z"
   },
   {
    "duration": 7,
    "start_time": "2022-07-03T19:05:10.744Z"
   },
   {
    "duration": 1456,
    "start_time": "2022-07-03T19:06:19.694Z"
   },
   {
    "duration": 794,
    "start_time": "2022-07-03T19:06:21.152Z"
   },
   {
    "duration": 21,
    "start_time": "2022-07-03T19:06:21.948Z"
   },
   {
    "duration": 17,
    "start_time": "2022-07-03T19:06:21.972Z"
   },
   {
    "duration": 54,
    "start_time": "2022-07-03T19:06:21.991Z"
   },
   {
    "duration": 22,
    "start_time": "2022-07-03T19:06:22.047Z"
   },
   {
    "duration": 10,
    "start_time": "2022-07-03T19:06:22.071Z"
   },
   {
    "duration": 161,
    "start_time": "2022-07-03T19:06:22.084Z"
   },
   {
    "duration": 18,
    "start_time": "2022-07-03T19:06:22.247Z"
   },
   {
    "duration": 10,
    "start_time": "2022-07-03T19:06:22.269Z"
   },
   {
    "duration": 39,
    "start_time": "2022-07-03T19:06:22.281Z"
   },
   {
    "duration": 36,
    "start_time": "2022-07-03T19:06:22.321Z"
   },
   {
    "duration": 27,
    "start_time": "2022-07-03T19:06:22.359Z"
   },
   {
    "duration": 14,
    "start_time": "2022-07-03T19:06:22.388Z"
   },
   {
    "duration": 39,
    "start_time": "2022-07-03T19:06:22.404Z"
   },
   {
    "duration": 32,
    "start_time": "2022-07-03T19:06:22.446Z"
   },
   {
    "duration": 17,
    "start_time": "2022-07-03T19:06:22.481Z"
   },
   {
    "duration": 47,
    "start_time": "2022-07-03T19:06:22.499Z"
   },
   {
    "duration": 34,
    "start_time": "2022-07-03T19:06:22.548Z"
   },
   {
    "duration": 48,
    "start_time": "2022-07-03T19:06:22.584Z"
   },
   {
    "duration": 11,
    "start_time": "2022-07-03T19:06:22.634Z"
   },
   {
    "duration": 108,
    "start_time": "2022-07-03T19:06:22.646Z"
   },
   {
    "duration": 12,
    "start_time": "2022-07-03T19:06:22.756Z"
   },
   {
    "duration": 9,
    "start_time": "2022-07-03T19:06:22.770Z"
   },
   {
    "duration": 21,
    "start_time": "2022-07-03T19:06:22.781Z"
   },
   {
    "duration": 8,
    "start_time": "2022-07-03T19:06:22.835Z"
   },
   {
    "duration": 1629,
    "start_time": "2022-07-03T19:06:22.844Z"
   },
   {
    "duration": 1603,
    "start_time": "2022-07-03T19:06:24.478Z"
   },
   {
    "duration": 1429,
    "start_time": "2022-07-03T19:06:26.083Z"
   },
   {
    "duration": 17,
    "start_time": "2022-07-03T19:06:27.514Z"
   },
   {
    "duration": 672,
    "start_time": "2022-07-03T19:06:27.533Z"
   },
   {
    "duration": 737,
    "start_time": "2022-07-03T19:06:28.207Z"
   },
   {
    "duration": 4,
    "start_time": "2022-07-03T19:06:28.945Z"
   },
   {
    "duration": 19,
    "start_time": "2022-07-03T19:06:28.950Z"
   },
   {
    "duration": 1514,
    "start_time": "2022-07-03T19:06:28.970Z"
   },
   {
    "duration": 59,
    "start_time": "2022-07-03T19:06:30.486Z"
   },
   {
    "duration": 1332,
    "start_time": "2022-07-03T19:06:30.547Z"
   },
   {
    "duration": 3,
    "start_time": "2022-07-03T19:06:31.880Z"
   },
   {
    "duration": 36,
    "start_time": "2022-07-03T19:06:31.885Z"
   },
   {
    "duration": 31,
    "start_time": "2022-07-03T19:06:31.923Z"
   },
   {
    "duration": 10,
    "start_time": "2022-07-03T19:06:31.956Z"
   },
   {
    "duration": 7,
    "start_time": "2022-07-03T19:06:31.968Z"
   },
   {
    "duration": 10,
    "start_time": "2022-07-03T19:06:31.977Z"
   },
   {
    "duration": 7,
    "start_time": "2022-07-03T19:06:31.989Z"
   },
   {
    "duration": 2134,
    "start_time": "2022-07-03T19:06:31.998Z"
   },
   {
    "duration": 80783,
    "start_time": "2022-07-03T19:06:34.134Z"
   },
   {
    "duration": 121103,
    "start_time": "2022-07-03T19:07:54.919Z"
   },
   {
    "duration": 930,
    "start_time": "2022-07-03T19:09:56.024Z"
   },
   {
    "duration": 0,
    "start_time": "2022-07-03T19:09:56.956Z"
   },
   {
    "duration": 795,
    "start_time": "2022-07-03T19:10:47.862Z"
   },
   {
    "duration": 15,
    "start_time": "2022-07-03T19:12:48.543Z"
   },
   {
    "duration": 7,
    "start_time": "2022-07-03T19:13:36.638Z"
   },
   {
    "duration": 16,
    "start_time": "2022-07-03T19:13:42.651Z"
   },
   {
    "duration": 21,
    "start_time": "2022-07-03T19:14:35.235Z"
   },
   {
    "duration": 22,
    "start_time": "2022-07-03T19:14:39.310Z"
   },
   {
    "duration": 15,
    "start_time": "2022-07-03T19:14:43.509Z"
   },
   {
    "duration": 15,
    "start_time": "2022-07-03T19:14:46.356Z"
   },
   {
    "duration": 19,
    "start_time": "2022-07-03T19:18:54.955Z"
   },
   {
    "duration": 9,
    "start_time": "2022-07-03T19:19:08.444Z"
   },
   {
    "duration": 1916,
    "start_time": "2022-07-04T07:09:46.057Z"
   },
   {
    "duration": 1768,
    "start_time": "2022-07-04T07:09:47.975Z"
   },
   {
    "duration": 18,
    "start_time": "2022-07-04T07:09:49.745Z"
   },
   {
    "duration": 14,
    "start_time": "2022-07-04T07:09:49.765Z"
   },
   {
    "duration": 36,
    "start_time": "2022-07-04T07:09:49.781Z"
   },
   {
    "duration": 24,
    "start_time": "2022-07-04T07:09:49.818Z"
   },
   {
    "duration": 13,
    "start_time": "2022-07-04T07:09:49.846Z"
   },
   {
    "duration": 156,
    "start_time": "2022-07-04T07:09:49.860Z"
   },
   {
    "duration": 16,
    "start_time": "2022-07-04T07:09:50.018Z"
   },
   {
    "duration": 31,
    "start_time": "2022-07-04T07:09:50.035Z"
   },
   {
    "duration": 16,
    "start_time": "2022-07-04T07:09:50.068Z"
   },
   {
    "duration": 19,
    "start_time": "2022-07-04T07:09:50.085Z"
   },
   {
    "duration": 41,
    "start_time": "2022-07-04T07:09:50.106Z"
   },
   {
    "duration": 22,
    "start_time": "2022-07-04T07:09:50.151Z"
   },
   {
    "duration": 6,
    "start_time": "2022-07-04T07:09:50.175Z"
   },
   {
    "duration": 31,
    "start_time": "2022-07-04T07:09:50.183Z"
   },
   {
    "duration": 19,
    "start_time": "2022-07-04T07:09:50.229Z"
   },
   {
    "duration": 31,
    "start_time": "2022-07-04T07:09:50.250Z"
   },
   {
    "duration": 23,
    "start_time": "2022-07-04T07:09:50.283Z"
   },
   {
    "duration": 20,
    "start_time": "2022-07-04T07:09:50.308Z"
   },
   {
    "duration": 10,
    "start_time": "2022-07-04T07:09:50.329Z"
   },
   {
    "duration": 124,
    "start_time": "2022-07-04T07:09:50.344Z"
   },
   {
    "duration": 10,
    "start_time": "2022-07-04T07:09:50.470Z"
   },
   {
    "duration": 9,
    "start_time": "2022-07-04T07:09:50.481Z"
   },
   {
    "duration": 20,
    "start_time": "2022-07-04T07:09:50.492Z"
   },
   {
    "duration": 12,
    "start_time": "2022-07-04T07:09:50.514Z"
   },
   {
    "duration": 1606,
    "start_time": "2022-07-04T07:09:50.533Z"
   },
   {
    "duration": 1671,
    "start_time": "2022-07-04T07:09:52.142Z"
   },
   {
    "duration": 1496,
    "start_time": "2022-07-04T07:09:53.814Z"
   },
   {
    "duration": 5,
    "start_time": "2022-07-04T07:09:55.313Z"
   },
   {
    "duration": 610,
    "start_time": "2022-07-04T07:09:55.326Z"
   },
   {
    "duration": 756,
    "start_time": "2022-07-04T07:09:55.939Z"
   },
   {
    "duration": 3,
    "start_time": "2022-07-04T07:09:56.697Z"
   },
   {
    "duration": 15,
    "start_time": "2022-07-04T07:09:56.702Z"
   },
   {
    "duration": 1376,
    "start_time": "2022-07-04T07:09:56.718Z"
   },
   {
    "duration": 68,
    "start_time": "2022-07-04T07:09:58.096Z"
   },
   {
    "duration": 1297,
    "start_time": "2022-07-04T07:09:58.166Z"
   },
   {
    "duration": 4,
    "start_time": "2022-07-04T07:09:59.465Z"
   },
   {
    "duration": 29,
    "start_time": "2022-07-04T07:09:59.471Z"
   },
   {
    "duration": 7,
    "start_time": "2022-07-04T07:09:59.502Z"
   },
   {
    "duration": 15,
    "start_time": "2022-07-04T07:09:59.513Z"
   },
   {
    "duration": 14,
    "start_time": "2022-07-04T07:09:59.529Z"
   },
   {
    "duration": 22,
    "start_time": "2022-07-04T07:09:59.548Z"
   },
   {
    "duration": 1879,
    "start_time": "2022-07-04T07:09:59.571Z"
   },
   {
    "duration": 46,
    "start_time": "2022-07-04T08:02:33.980Z"
   },
   {
    "duration": 1563,
    "start_time": "2022-07-04T08:02:53.776Z"
   },
   {
    "duration": 1534,
    "start_time": "2022-07-04T08:02:55.341Z"
   },
   {
    "duration": 17,
    "start_time": "2022-07-04T08:02:56.877Z"
   },
   {
    "duration": 15,
    "start_time": "2022-07-04T08:02:56.896Z"
   },
   {
    "duration": 31,
    "start_time": "2022-07-04T08:02:56.912Z"
   },
   {
    "duration": 23,
    "start_time": "2022-07-04T08:02:56.945Z"
   },
   {
    "duration": 10,
    "start_time": "2022-07-04T08:02:56.969Z"
   },
   {
    "duration": 120,
    "start_time": "2022-07-04T08:02:56.980Z"
   },
   {
    "duration": 12,
    "start_time": "2022-07-04T08:02:57.102Z"
   },
   {
    "duration": 15,
    "start_time": "2022-07-04T08:02:57.116Z"
   },
   {
    "duration": 20,
    "start_time": "2022-07-04T08:02:57.132Z"
   },
   {
    "duration": 18,
    "start_time": "2022-07-04T08:02:57.153Z"
   },
   {
    "duration": 78,
    "start_time": "2022-07-04T08:02:57.173Z"
   },
   {
    "duration": 39,
    "start_time": "2022-07-04T08:02:57.253Z"
   },
   {
    "duration": 36,
    "start_time": "2022-07-04T08:02:57.294Z"
   },
   {
    "duration": 41,
    "start_time": "2022-07-04T08:02:57.331Z"
   },
   {
    "duration": 22,
    "start_time": "2022-07-04T08:02:57.374Z"
   },
   {
    "duration": 75,
    "start_time": "2022-07-04T08:02:57.399Z"
   },
   {
    "duration": 36,
    "start_time": "2022-07-04T08:02:57.476Z"
   },
   {
    "duration": 55,
    "start_time": "2022-07-04T08:02:57.514Z"
   },
   {
    "duration": 8,
    "start_time": "2022-07-04T08:02:57.571Z"
   },
   {
    "duration": 106,
    "start_time": "2022-07-04T08:02:57.581Z"
   },
   {
    "duration": 9,
    "start_time": "2022-07-04T08:02:57.689Z"
   },
   {
    "duration": 15,
    "start_time": "2022-07-04T08:02:57.699Z"
   },
   {
    "duration": 23,
    "start_time": "2022-07-04T08:02:57.715Z"
   },
   {
    "duration": 19,
    "start_time": "2022-07-04T08:02:57.740Z"
   },
   {
    "duration": 1567,
    "start_time": "2022-07-04T08:02:57.761Z"
   },
   {
    "duration": 1459,
    "start_time": "2022-07-04T08:02:59.331Z"
   },
   {
    "duration": 1417,
    "start_time": "2022-07-04T08:03:00.792Z"
   },
   {
    "duration": 5,
    "start_time": "2022-07-04T08:03:02.210Z"
   },
   {
    "duration": 602,
    "start_time": "2022-07-04T08:03:02.217Z"
   },
   {
    "duration": 628,
    "start_time": "2022-07-04T08:03:02.821Z"
   },
   {
    "duration": 9,
    "start_time": "2022-07-04T08:03:03.450Z"
   },
   {
    "duration": 12,
    "start_time": "2022-07-04T08:03:03.460Z"
   },
   {
    "duration": 1248,
    "start_time": "2022-07-04T08:03:03.473Z"
   },
   {
    "duration": 52,
    "start_time": "2022-07-04T08:03:04.723Z"
   },
   {
    "duration": 1157,
    "start_time": "2022-07-04T08:03:04.777Z"
   },
   {
    "duration": 4,
    "start_time": "2022-07-04T08:03:05.936Z"
   },
   {
    "duration": 27,
    "start_time": "2022-07-04T08:03:05.942Z"
   },
   {
    "duration": 8,
    "start_time": "2022-07-04T08:03:05.971Z"
   },
   {
    "duration": 9,
    "start_time": "2022-07-04T08:03:05.980Z"
   },
   {
    "duration": 6,
    "start_time": "2022-07-04T08:03:05.990Z"
   },
   {
    "duration": 6,
    "start_time": "2022-07-04T08:03:05.998Z"
   },
   {
    "duration": 1158,
    "start_time": "2022-07-04T08:03:06.006Z"
   },
   {
    "duration": 72428,
    "start_time": "2022-07-04T08:03:07.169Z"
   },
   {
    "duration": 111041,
    "start_time": "2022-07-04T08:04:19.599Z"
   },
   {
    "duration": 741,
    "start_time": "2022-07-04T08:06:10.642Z"
   },
   {
    "duration": 7,
    "start_time": "2022-07-04T08:06:11.385Z"
   }
  ],
  "kernelspec": {
   "display_name": "Python 3 (ipykernel)",
   "language": "python",
   "name": "python3"
  },
  "language_info": {
   "codemirror_mode": {
    "name": "ipython",
    "version": 3
   },
   "file_extension": ".py",
   "mimetype": "text/x-python",
   "name": "python",
   "nbconvert_exporter": "python",
   "pygments_lexer": "ipython3",
   "version": "3.9.7"
  },
  "toc": {
   "base_numbering": 1,
   "nav_menu": {},
   "number_sections": true,
   "sideBar": true,
   "skip_h1_title": true,
   "title_cell": "Содержание",
   "title_sidebar": "Contents",
   "toc_cell": true,
   "toc_position": {
    "height": "calc(100% - 180px)",
    "left": "10px",
    "top": "150px",
    "width": "230px"
   },
   "toc_section_display": true,
   "toc_window_display": true
  }
 },
 "nbformat": 4,
 "nbformat_minor": 2
}
